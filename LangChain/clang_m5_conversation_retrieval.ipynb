{
  "cells": [
    {
      "cell_type": "code",
      "execution_count": null,
      "metadata": {
        "id": "3dhIyD7cRZKD"
      },
      "outputs": [],
      "source": [
        "# Make sure that you have set up API KEYS in Secrets on the left menu icon.\n",
        "from google.colab import userdata\n",
        "openai_api_key = userdata.get('OPENAI_API_KEY')"
      ]
    },
    {
      "cell_type": "code",
      "execution_count": null,
      "metadata": {
        "id": "itZCuxCuO3ox"
      },
      "outputs": [],
      "source": [
        "%pip install -q langchain openai langchain-openai faiss-gpu langchain-community"
      ]
    },
    {
      "cell_type": "code",
      "execution_count": null,
      "metadata": {
        "id": "i_7KoFQBO3oy"
      },
      "outputs": [],
      "source": [
        "from langchain_openai import ChatOpenAI\n",
        "from langchain_core.prompts import ChatPromptTemplate\n",
        "from langchain.chains.combine_documents import create_stuff_documents_chain\n",
        "from langchain_community.document_loaders import WebBaseLoader\n",
        "from langchain.text_splitter import RecursiveCharacterTextSplitter\n",
        "from langchain_openai import OpenAIEmbeddings\n",
        "from langchain_community.vectorstores.faiss import FAISS\n",
        "from langchain.chains import create_retrieval_chain"
      ]
    },
    {
      "cell_type": "code",
      "execution_count": null,
      "metadata": {
        "id": "kYFYq5WMO3oy"
      },
      "outputs": [],
      "source": [
        "from langchain_core.messages import HumanMessage, AIMessage\n",
        "from langchain_core.prompts import MessagesPlaceholder\n",
        "from langchain.chains.history_aware_retriever import create_history_aware_retriever"
      ]
    },
    {
      "cell_type": "code",
      "execution_count": null,
      "metadata": {
        "id": "2kGh1SGtO3oy"
      },
      "outputs": [],
      "source": [
        "def get_documents_from_web(url):\n",
        "    loader = WebBaseLoader(url)\n",
        "    docs = loader.load()\n",
        "\n",
        "    splitter = RecursiveCharacterTextSplitter(\n",
        "        chunk_size=400,\n",
        "        chunk_overlap=20\n",
        "    )\n",
        "    splitDocs = splitter.split_documents(docs)\n",
        "    return splitDocs"
      ]
    },
    {
      "cell_type": "code",
      "execution_count": null,
      "metadata": {
        "id": "PZ6QD0ZvO3oz"
      },
      "outputs": [],
      "source": [
        "def create_db(docs):\n",
        "    embedding = OpenAIEmbeddings()\n",
        "    vectorStore = FAISS.from_documents(docs, embedding=embedding)\n",
        "    return vectorStore"
      ]
    },
    {
      "cell_type": "code",
      "execution_count": null,
      "metadata": {
        "id": "RAg73ObqO3oz"
      },
      "outputs": [],
      "source": [
        "def create_chain(vectorStore):\n",
        "    model = ChatOpenAI(\n",
        "        model=\"gpt-3.5-turbo-1106\",\n",
        "        temperature=0.4,\n",
        "        openai_api_key=openai_api_key\n",
        "    )\n",
        "    prompt = ChatPromptTemplate.from_messages([\n",
        "        (\"system\", \"Answer the user's questions based on the context: {context}\"),\n",
        "        MessagesPlaceholder(variable_name=\"chat_history\"),\n",
        "        (\"human\", \"{input}\")\n",
        "    ])\n",
        "\n",
        "    # chain = prompt | model\n",
        "    chain = create_stuff_documents_chain(\n",
        "        llm=model,\n",
        "        prompt=prompt\n",
        "    )\n",
        "    retriever = vectorStore.as_retriever(search_kwargs={\"k\": 3})\n",
        "    retriever_prompt = ChatPromptTemplate.from_messages([\n",
        "        MessagesPlaceholder(variable_name=\"chat_history\"),\n",
        "        (\"human\", \"{input}\"),\n",
        "        (\"human\", \"Given the above conversation, generate a search query to look up in order to get information relevant to the conversation\")\n",
        "    ])\n",
        "    history_aware_retriever = create_history_aware_retriever(\n",
        "        llm=model,\n",
        "        retriever=retriever,\n",
        "        prompt=retriever_prompt\n",
        "    )\n",
        "    retrieval_chain = create_retrieval_chain(\n",
        "        # retriever,\n",
        "        history_aware_retriever,\n",
        "        chain\n",
        "    )\n",
        "    return retrieval_chain"
      ]
    },
    {
      "cell_type": "code",
      "execution_count": null,
      "metadata": {
        "id": "xlD9F9XmO3oz"
      },
      "outputs": [],
      "source": [
        "def process_chat(chain, question, chat_history):\n",
        "    response = chain.invoke({\n",
        "        \"input\": question,\n",
        "        \"chat_history\": chat_history\n",
        "    })\n",
        "    return response[\"answer\"]"
      ]
    }
  ],
  "metadata": {
    "colab": {
      "provenance": []
    },
    "kernelspec": {
      "display_name": "Python 3",
      "language": "python",
      "name": "python3"
    },
    "language_info": {
      "codemirror_mode": {
        "name": "ipython",
        "version": 3
      },
      "file_extension": ".py",
      "mimetype": "text/x-python",
      "name": "python",
      "nbconvert_exporter": "python",
      "pygments_lexer": "ipython3",
      "version": "3.10.9"
    }
  },
  "nbformat": 4,
  "nbformat_minor": 0
}
