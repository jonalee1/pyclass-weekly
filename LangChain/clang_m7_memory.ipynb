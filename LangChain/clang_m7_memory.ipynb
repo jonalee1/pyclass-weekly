{
  "cells": [
    {
      "cell_type": "code",
      "execution_count": null,
      "metadata": {
        "id": "m_Qg9YoBf5FW"
      },
      "outputs": [],
      "source": [
        "# Make sure that you have set up API KEYS in Secrets on the left menu icon.  For upstash_redis, you need to create account and database.\n",
        "from google.colab import userdata\n",
        "openai_api_key = userdata.get('OPENAI_API_KEY')"
      ]
    },
    {
      "cell_type": "code",
      "source": [
        "%pip install -q langchain openai langchain-openai faiss-gpu langchain-community upstash_redis"
      ],
      "metadata": {
        "id": "TlXGaDKhg9EV"
      },
      "execution_count": null,
      "outputs": []
    },
    {
      "cell_type": "code",
      "execution_count": null,
      "metadata": {
        "id": "YgYcsZMkf5FZ"
      },
      "outputs": [],
      "source": [
        "from langchain_openai import ChatOpenAI\n",
        "from langchain.prompts import ChatPromptTemplate, MessagesPlaceholder\n",
        "from langchain.memory import ConversationBufferMemory\n",
        "from langchain.chains import LLMChain\n",
        "from langchain_community.chat_message_histories import UpstashRedisChatMessageHistory, RedisChatMessageHistory"
      ]
    },
    {
      "cell_type": "markdown",
      "source": [
        "Please change URL and TOKEN from your registration."
      ],
      "metadata": {
        "id": "WtgRgep_UVmJ"
      }
    },
    {
      "cell_type": "code",
      "source": [
        "UPSTASH_URL=\"https://usw1-enough-goat-33313.upstash.io\"\n",
        "UPSTASH_TOKEN=\"AYIhACQgMGY0NWUyYTAtODdiMy00YTZiLWE5ZTgtYjlkNDMxMDBmZDUwZWM5MzFkMzVlYzA3NDM3NmFmODVlZTNlYTVlNTJmMTM=\""
      ],
      "metadata": {
        "id": "7I1kgkEhUCC7"
      },
      "execution_count": null,
      "outputs": []
    },
    {
      "cell_type": "code",
      "execution_count": null,
      "metadata": {
        "id": "dudLblJ1f5Fa"
      },
      "outputs": [],
      "source": [
        "history = UpstashRedisChatMessageHistory(\n",
        "    url=UPSTASH_URL,\n",
        "    token=UPSTASH_TOKEN,\n",
        "    session_id=\"jl-chat1\"\n",
        ")"
      ]
    },
    {
      "cell_type": "code",
      "execution_count": null,
      "metadata": {
        "id": "Ir5RwS11f5Fa"
      },
      "outputs": [],
      "source": [
        "prompt = ChatPromptTemplate.from_messages([\n",
        "        (\"system\", \"You are a friendly AI assistant.\"),\n",
        "        MessagesPlaceholder(variable_name=\"chat_history\"),\n",
        "        (\"human\", \"{input}\")\n",
        "    ])"
      ]
    },
    {
      "cell_type": "code",
      "execution_count": null,
      "metadata": {
        "id": "v2GbqVkmf5FZ"
      },
      "outputs": [],
      "source": [
        "model = ChatOpenAI(\n",
        "    model=\"gpt-3.5-turbo\",\n",
        "    temperature=0.6,\n",
        "    openai_api_key=openai_api_key,\n",
        ")"
      ]
    },
    {
      "cell_type": "code",
      "execution_count": null,
      "metadata": {
        "id": "5jhgvyz1f5Fa"
      },
      "outputs": [],
      "source": [
        "memory = ConversationBufferMemory(\n",
        "    memory_key=\"chat_history\",\n",
        "    return_messages=True,\n",
        "    chat_memory=history,\n",
        ")"
      ]
    },
    {
      "cell_type": "markdown",
      "metadata": {
        "id": "UDn5bjZYf5Fb"
      },
      "source": [
        "chain = prompt | model"
      ]
    },
    {
      "cell_type": "code",
      "execution_count": null,
      "metadata": {
        "id": "S9tezDXZf5Fc"
      },
      "outputs": [],
      "source": [
        "chain = LLMChain(\n",
        "    llm=model,\n",
        "    prompt=prompt,\n",
        "    memory=memory,\n",
        "    verbose=True\n",
        ")"
      ]
    },
    {
      "cell_type": "markdown",
      "metadata": {
        "id": "YC8Uae4jf5Fc"
      },
      "source": [
        "Prompt 1"
      ]
    },
    {
      "cell_type": "code",
      "execution_count": null,
      "metadata": {
        "id": "hwTl1Rorf5Fc"
      },
      "outputs": [],
      "source": [
        "msg1 = { \"input\": \"My name is Indiana Jones.\" }\n",
        "resp1 = chain.invoke(msg1)\n",
        "print(resp1['text'])"
      ]
    },
    {
      "cell_type": "markdown",
      "source": [
        "Now go to Data Browser in Upstash console. You find that the above conversation is stored in the database."
      ],
      "metadata": {
        "id": "cPbeJXtZV-_A"
      }
    },
    {
      "cell_type": "markdown",
      "metadata": {
        "id": "t-KyKzpOf5Fd"
      },
      "source": [
        "Prompt 2"
      ]
    },
    {
      "cell_type": "code",
      "execution_count": null,
      "metadata": {
        "id": "GvvuDIGff5Fd"
      },
      "outputs": [],
      "source": [
        "msg2 = { \"input\": \"What is my name?\" }\n",
        "resp2 = chain.invoke(msg2)\n",
        "print(resp2['text'])"
      ]
    }
  ],
  "metadata": {
    "kernelspec": {
      "display_name": "Python 3",
      "language": "python",
      "name": "python3"
    },
    "language_info": {
      "codemirror_mode": {
        "name": "ipython",
        "version": 3
      },
      "file_extension": ".py",
      "mimetype": "text/x-python",
      "name": "python",
      "nbconvert_exporter": "python",
      "pygments_lexer": "ipython3",
      "version": "3.10.9"
    },
    "colab": {
      "provenance": []
    }
  },
  "nbformat": 4,
  "nbformat_minor": 0
}