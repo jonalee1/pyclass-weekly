{
  "cells": [
    {
      "cell_type": "code",
      "execution_count": 1,
      "metadata": {},
      "outputs": [],
      "source": [
        "from pinecone import Pinecone, ServerlessSpec\n",
        "\n",
        "pc = Pinecone(api_key='98515458-4892-429f-ab35-da56fca9e236')"
      ]
    },
    {
      "cell_type": "code",
      "execution_count": 2,
      "metadata": {},
      "outputs": [],
      "source": [
        "pc.create_index(\n",
        "    name=\"quickstart\",\n",
        "    dimension=8,\n",
        "    metric=\"euclidean\",\n",
        "    spec=ServerlessSpec(\n",
        "        cloud='aws', \n",
        "        region='us-west-2'\n",
        "    ) \n",
        ") "
      ]
    },
    {
      "cell_type": "code",
      "execution_count": 3,
      "metadata": {},
      "outputs": [],
      "source": [
        "index = pc.Index(\"quickstart\")"
      ]
    },
    {
      "cell_type": "code",
      "execution_count": 4,
      "metadata": {},
      "outputs": [
        {
          "data": {
            "text/plain": [
              "{'upserted_count': 4}"
            ]
          },
          "execution_count": 4,
          "metadata": {},
          "output_type": "execute_result"
        }
      ],
      "source": [
        "index.upsert(\n",
        "  vectors=[\n",
        "    {\"id\": \"vec1\", \"values\": [0.1, 0.1, 0.1, 0.1, 0.1, 0.1, 0.1, 0.1]},\n",
        "    {\"id\": \"vec2\", \"values\": [0.2, 0.2, 0.2, 0.2, 0.2, 0.2, 0.2, 0.2]},\n",
        "    {\"id\": \"vec3\", \"values\": [0.3, 0.3, 0.3, 0.3, 0.3, 0.3, 0.3, 0.3]},\n",
        "    {\"id\": \"vec4\", \"values\": [0.4, 0.4, 0.4, 0.4, 0.4, 0.4, 0.4, 0.4]}\n",
        "  ],\n",
        "  namespace=\"ns1\"\n",
        ")\n",
        "\n",
        "index.upsert(\n",
        "  vectors=[\n",
        "    {\"id\": \"vec5\", \"values\": [0.5, 0.5, 0.5, 0.5, 0.5, 0.5, 0.5, 0.5]},\n",
        "    {\"id\": \"vec6\", \"values\": [0.6, 0.6, 0.6, 0.6, 0.6, 0.6, 0.6, 0.6]},\n",
        "    {\"id\": \"vec7\", \"values\": [0.7, 0.7, 0.7, 0.7, 0.7, 0.7, 0.7, 0.7]},\n",
        "    {\"id\": \"vec8\", \"values\": [0.8, 0.8, 0.8, 0.8, 0.8, 0.8, 0.8, 0.8]}\n",
        "  ],\n",
        "  namespace=\"ns2\"\n",
        ")"
      ]
    },
    {
      "cell_type": "code",
      "execution_count": 5,
      "metadata": {},
      "outputs": [
        {
          "data": {
            "text/plain": [
              "{'dimension': 8,\n",
              " 'index_fullness': 0.0,\n",
              " 'namespaces': {'ns1': {'vector_count': 4}, 'ns2': {'vector_count': 4}},\n",
              " 'total_vector_count': 8}"
            ]
          },
          "execution_count": 5,
          "metadata": {},
          "output_type": "execute_result"
        }
      ],
      "source": [
        "index.describe_index_stats()\n",
        "\n",
        "# Returns:\n",
        "# {'dimension': 8,\n",
        "#  'index_fullness': 0.0,\n",
        "#  'namespaces': {'ns1': {'vector_count': 4}, 'ns2': {'vector_count': 4}},\n",
        "#  'total_vector_count': 8}"
      ]
    },
    {
      "cell_type": "code",
      "execution_count": 6,
      "metadata": {},
      "outputs": [
        {
          "data": {
            "text/plain": [
              "{'matches': [{'id': 'vec7',\n",
              "              'score': 0.0,\n",
              "              'values': [0.7, 0.7, 0.7, 0.7, 0.7, 0.7, 0.7, 0.7]},\n",
              "             {'id': 'vec6',\n",
              "              'score': 0.0799999237,\n",
              "              'values': [0.6, 0.6, 0.6, 0.6, 0.6, 0.6, 0.6, 0.6]},\n",
              "             {'id': 'vec8',\n",
              "              'score': 0.0799999237,\n",
              "              'values': [0.8, 0.8, 0.8, 0.8, 0.8, 0.8, 0.8, 0.8]}],\n",
              " 'namespace': 'ns2',\n",
              " 'usage': {'read_units': 6}}"
            ]
          },
          "execution_count": 6,
          "metadata": {},
          "output_type": "execute_result"
        }
      ],
      "source": [
        "index.query(\n",
        "  namespace=\"ns1\",\n",
        "  vector=[0.3, 0.3, 0.3, 0.3, 0.3, 0.3, 0.3, 0.3],\n",
        "  top_k=3,\n",
        "  include_values=True\n",
        ")\n",
        "\n",
        "index.query(\n",
        "  namespace=\"ns2\",\n",
        "  vector=[0.7, 0.7, 0.7, 0.7, 0.7, 0.7, 0.7, 0.7],\n",
        "  top_k=3,\n",
        "  include_values=True\n",
        ")\n",
        "\n",
        "# Returns:\n",
        "# {'matches': [{'id': 'vec3',\n",
        "#               'score': 0.0,\n",
        "#               'values': [0.3, 0.3, 0.3, 0.3, 0.3, 0.3, 0.3, 0.3]},\n",
        "#              {'id': 'vec4',\n",
        "#               'score': 0.0799999237,\n",
        "#               'values': [0.4, 0.4, 0.4, 0.4, 0.4, 0.4, 0.4, 0.4]},\n",
        "#              {'id': 'vec2',\n",
        "#               'score': 0.0800000429,\n",
        "#               'values': [0.2, 0.2, 0.2, 0.2, 0.2, 0.2, 0.2, 0.2]}],\n",
        "#  'namespace': 'ns1',\n",
        "#  'usage': {'read_units': 6}}\n",
        "# {'matches': [{'id': 'vec7',\n",
        "#               'score': 0.0,\n",
        "#               'values': [0.7, 0.7, 0.7, 0.7, 0.7, 0.7, 0.7, 0.7]},\n",
        "#              {'id': 'vec8',\n",
        "#               'score': 0.0799999237,\n",
        "#               'values': [0.8, 0.8, 0.8, 0.8, 0.8, 0.8, 0.8, 0.8]},\n",
        "#              {'id': 'vec6',\n",
        "#               'score': 0.0799999237,\n",
        "#               'values': [0.6, 0.6, 0.6, 0.6, 0.6, 0.6, 0.6, 0.6]}],\n",
        "#  'namespace': 'ns2',\n",
        "#  'usage': {'read_units': 6}}"
      ]
    },
    {
      "cell_type": "markdown",
      "metadata": {},
      "source": []
    },
    {
      "cell_type": "markdown",
      "metadata": {},
      "source": []
    },
    {
      "cell_type": "code",
      "execution_count": null,
      "metadata": {
        "id": "m_Qg9YoBf5FW"
      },
      "outputs": [],
      "source": [
        "# Make sure that you have set up API KEYS in Secrets on the left menu icon.  For upstash_redis, you need to create account and database.\n",
        "from google.colab import userdata\n",
        "openai_api_key = userdata.get('OPENAI_API_KEY')"
      ]
    },
    {
      "cell_type": "code",
      "execution_count": null,
      "metadata": {
        "id": "TlXGaDKhg9EV"
      },
      "outputs": [],
      "source": [
        "%pip install -q langchain openai langchain-openai faiss-gpu langchain-community pinecone-client"
      ]
    },
    {
      "cell_type": "code",
      "execution_count": null,
      "metadata": {
        "id": "YgYcsZMkf5FZ"
      },
      "outputs": [],
      "source": [
        "from langchain_openai import ChatOpenAI\n",
        "from langchain.prompts import ChatPromptTemplate, MessagesPlaceholder\n",
        "from langchain.memory import ConversationBufferMemory\n",
        "from langchain.chains import LLMChain\n",
        "from langchain_community.chat_message_histories import "
      ]
    },
    {
      "cell_type": "markdown",
      "metadata": {
        "id": "WtgRgep_UVmJ"
      },
      "source": [
        "Please change URL and TOKEN from your registration."
      ]
    },
    {
      "cell_type": "code",
      "execution_count": null,
      "metadata": {
        "id": "dudLblJ1f5Fa"
      },
      "outputs": [],
      "source": [
        "history = "
      ]
    },
    {
      "cell_type": "code",
      "execution_count": null,
      "metadata": {
        "id": "Ir5RwS11f5Fa"
      },
      "outputs": [],
      "source": [
        "prompt = ChatPromptTemplate.from_messages([\n",
        "        (\"system\", \"You are a friendly AI assistant.\"),\n",
        "        MessagesPlaceholder(variable_name=\"chat_history\"),\n",
        "        (\"human\", \"{input}\")\n",
        "    ])"
      ]
    },
    {
      "cell_type": "code",
      "execution_count": null,
      "metadata": {
        "id": "v2GbqVkmf5FZ"
      },
      "outputs": [],
      "source": [
        "model = ChatOpenAI(\n",
        "    model=\"gpt-3.5-turbo\",\n",
        "    temperature=0.6,\n",
        "    openai_api_key=openai_api_key,\n",
        ")"
      ]
    },
    {
      "cell_type": "code",
      "execution_count": null,
      "metadata": {
        "id": "5jhgvyz1f5Fa"
      },
      "outputs": [],
      "source": [
        "memory = ConversationBufferMemory(\n",
        "    memory_key=\"chat_history\",\n",
        "    return_messages=True,\n",
        "    chat_memory=history,\n",
        ")"
      ]
    },
    {
      "cell_type": "markdown",
      "metadata": {
        "id": "UDn5bjZYf5Fb"
      },
      "source": [
        "chain = prompt | model"
      ]
    },
    {
      "cell_type": "code",
      "execution_count": null,
      "metadata": {
        "id": "S9tezDXZf5Fc"
      },
      "outputs": [],
      "source": [
        "chain = LLMChain(\n",
        "    llm=model,\n",
        "    prompt=prompt,\n",
        "    memory=memory,\n",
        "    verbose=True\n",
        ")"
      ]
    },
    {
      "cell_type": "markdown",
      "metadata": {
        "id": "YC8Uae4jf5Fc"
      },
      "source": [
        "Prompt 1"
      ]
    },
    {
      "cell_type": "code",
      "execution_count": null,
      "metadata": {
        "id": "hwTl1Rorf5Fc"
      },
      "outputs": [],
      "source": [
        "msg1 = { \"input\": \"My name is Indiana Jones.\" }\n",
        "resp1 = chain.invoke(msg1)\n",
        "print(resp1['text'])"
      ]
    },
    {
      "cell_type": "markdown",
      "metadata": {
        "id": "cPbeJXtZV-_A"
      },
      "source": [
        "Now go to Data Browser in Upstash console. You find that the above conversation is stored in the database."
      ]
    },
    {
      "cell_type": "markdown",
      "metadata": {
        "id": "t-KyKzpOf5Fd"
      },
      "source": [
        "Prompt 2"
      ]
    },
    {
      "cell_type": "code",
      "execution_count": null,
      "metadata": {
        "id": "GvvuDIGff5Fd"
      },
      "outputs": [],
      "source": [
        "msg2 = { \"input\": \"What is my name?\" }\n",
        "resp2 = chain.invoke(msg2)\n",
        "print(resp2['text'])"
      ]
    }
  ],
  "metadata": {
    "colab": {
      "provenance": []
    },
    "kernelspec": {
      "display_name": "Python 3",
      "language": "python",
      "name": "python3"
    },
    "language_info": {
      "codemirror_mode": {
        "name": "ipython",
        "version": 3
      },
      "file_extension": ".py",
      "mimetype": "text/x-python",
      "name": "python",
      "nbconvert_exporter": "python",
      "pygments_lexer": "ipython3",
      "version": "3.10.9"
    }
  },
  "nbformat": 4,
  "nbformat_minor": 0
}
