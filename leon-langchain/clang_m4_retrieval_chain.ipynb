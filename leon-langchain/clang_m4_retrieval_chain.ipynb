{
  "cells": [
    {
      "cell_type": "code",
      "execution_count": null,
      "metadata": {},
      "outputs": [],
      "source": [
        "# Make sure that you have set up API KEYS in Secrets on the left menu icon.\n",
        "from google.colab import userdata\n",
        "openai_api_key = userdata.get('OPENAI_API_KEY')"
      ]
    },
    {
      "cell_type": "code",
      "execution_count": null,
      "metadata": {
        "id": "wVSgcVghzuxr"
      },
      "outputs": [],
      "source": [
        "!pip install -q python-dotenv langchain openai langchain-openai faiss-gpu langchain-community"
      ]
    },
    {
      "cell_type": "code",
      "execution_count": null,
      "metadata": {
        "id": "ownUvHKwzuxs"
      },
      "outputs": [],
      "source": [
        "from langchain_openai import ChatOpenAI\n",
        "from langchain_core.prompts import ChatPromptTemplate\n",
        "from langchain.chains.combine_documents import create_stuff_documents_chain\n",
        "from langchain_community.document_loaders import WebBaseLoader\n",
        "from langchain.text_splitter import RecursiveCharacterTextSplitter\n",
        "from langchain_openai import OpenAIEmbeddings\n",
        "from langchain_community.vectorstores.faiss import FAISS\n",
        "from langchain.chains import create_retrieval_chain"
      ]
    },
    {
      "cell_type": "code",
      "execution_count": null,
      "metadata": {
        "id": "plQbiJ0szuxs"
      },
      "outputs": [],
      "source": [
        "def get_documents_from_web(url):\n",
        "    loader = WebBaseLoader(url)\n",
        "    docs = loader.load()\n",
        "\n",
        "    splitter = RecursiveCharacterTextSplitter(\n",
        "        chunk_size=200,\n",
        "        chunk_overlap=20\n",
        "    )\n",
        "    splitDocs = splitter.split_documents(docs)\n",
        "    return splitDocs"
      ]
    },
    {
      "cell_type": "code",
      "execution_count": null,
      "metadata": {
        "id": "OCdWV2zjzuxs"
      },
      "outputs": [],
      "source": [
        "def create_db(docs):\n",
        "    embedding = OpenAIEmbeddings()\n",
        "    vectorStore = FAISS.from_documents(docs, embedding=embedding)\n",
        "    return vectorStore"
      ]
    },
    {
      "cell_type": "code",
      "execution_count": null,
      "metadata": {
        "id": "Dr4ZwTwFzuxs"
      },
      "outputs": [],
      "source": [
        "def create_chain(vectorStore):\n",
        "    model = ChatOpenAI(\n",
        "        model=\"gpt-3.5-turbo-1106\",\n",
        "        temperature=0.4,\n",
        "        openai_api_key=os.getenv('OPENAI_API_KEY')\n",
        "    )\n",
        "    prompt = ChatPromptTemplate.from_template(\"\"\"\n",
        "    Answer the user's question:\n",
        "    Context: {context}\n",
        "    Question: {input}\n",
        "    \"\"\")\n",
        "\n",
        "    # chain = prompt | model\n",
        "    chain = create_stuff_documents_chain(\n",
        "        llm=model,\n",
        "        prompt=prompt\n",
        "    )\n",
        "    retriever = vectorStore.as_retriever(search_kwargs={\"k\": 1})\n",
        "    retrieval_chain = create_retrieval_chain(\n",
        "        retriever,\n",
        "        chain\n",
        "    )\n",
        "    return retrieval_chain"
      ]
    },
    {
      "cell_type": "code",
      "execution_count": null,
      "metadata": {
        "id": "lRAisOrDzuxs"
      },
      "outputs": [],
      "source": [
        "docs = get_documents_from_web('https://python.langchain.com/docs/expression_language/')\n",
        "vectorStore = create_db(docs)\n",
        "chain = create_chain(vectorStore)"
      ]
    },
    {
      "cell_type": "code",
      "execution_count": null,
      "metadata": {
        "id": "4_GNkOKjzuxs"
      },
      "outputs": [],
      "source": [
        "response = chain.invoke({\n",
        "    \"input\": \"What is LCEL?\",\n",
        "})\n",
        "\n",
        "print(response[\"context\"])"
      ]
    }
  ],
  "metadata": {
    "colab": {
      "provenance": []
    },
    "kernelspec": {
      "display_name": "Python 3",
      "language": "python",
      "name": "python3"
    },
    "language_info": {
      "codemirror_mode": {
        "name": "ipython",
        "version": 3
      },
      "file_extension": ".py",
      "mimetype": "text/x-python",
      "name": "python",
      "nbconvert_exporter": "python",
      "pygments_lexer": "ipython3",
      "version": "3.10.9"
    }
  },
  "nbformat": 4,
  "nbformat_minor": 0
}
