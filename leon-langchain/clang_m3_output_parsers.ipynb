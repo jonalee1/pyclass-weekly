{
  "cells": [
    {
      "cell_type": "code",
      "execution_count": null,
      "metadata": {},
      "outputs": [],
      "source": [
        "# Make sure that you have set up API KEYS in Secrets on the left menu icon.\n",
        "from google.colab import userdata\n",
        "openai_api_key = userdata.get('OPENAI_API_KEY')"
      ]
    },
    {
      "cell_type": "code",
      "execution_count": null,
      "metadata": {
        "id": "vJk3ciieyzUR"
      },
      "outputs": [],
      "source": [
        "!pip install -q python-dotenv langchain openai langchain_openai"
      ]
    },
    {
      "cell_type": "code",
      "execution_count": null,
      "metadata": {
        "id": "eGcj9NVnytFY"
      },
      "outputs": [],
      "source": [
        "from langchain_openai import ChatOpenAI\n",
        "from langchain_core.prompts import ChatPromptTemplate\n",
        "from langchain_core.output_parsers import StrOutputParser, CommaSeparatedListOutputParser, JsonOutputParser\n",
        "from langchain_core.pydantic_v1 import BaseModel, Field"
      ]
    },
    {
      "cell_type": "code",
      "execution_count": null,
      "metadata": {
        "id": "P0k0mn9XytFY"
      },
      "outputs": [],
      "source": [
        "model = ChatOpenAI(model=\"gpt-3.5-turbo-1106\",\n",
        "                   temperature=0.7,\n",
        "                   openai_api_key=os.getenv('OPENAI_API_TOKEN'))"
      ]
    },
    {
      "cell_type": "code",
      "execution_count": null,
      "metadata": {
        "id": "OUtdn7oZytFY"
      },
      "outputs": [],
      "source": [
        "def call_string_output_parser():\n",
        "    prompt = ChatPromptTemplate.from_messages([\n",
        "        (\"system\", \"Tell me a joke about the following subject\"),\n",
        "        (\"human\", \"{input}\")\n",
        "    ])\n",
        "    parser = StrOutputParser()\n",
        "    chain = prompt | model | parser\n",
        "    return chain.invoke({\n",
        "        \"input\": \"dog\"\n",
        "    })"
      ]
    },
    {
      "cell_type": "code",
      "execution_count": null,
      "metadata": {
        "id": "o9G0UWn-ytFZ"
      },
      "outputs": [],
      "source": [
        "def call_list_output_parser():\n",
        "    prompt = ChatPromptTemplate.from_messages([\n",
        "        (\"system\", \"Generate a list of 10 synonyms for the following word. Return the results as a comma seperated list.\"),\n",
        "        (\"human\", \"{input}\")\n",
        "    ])\n",
        "    parser = CommaSeparatedListOutputParser()\n",
        "\n",
        "    chain = prompt | model | parser\n",
        "    return chain.invoke({\n",
        "        \"input\": \"happy\"\n",
        "    })"
      ]
    },
    {
      "cell_type": "code",
      "execution_count": null,
      "metadata": {
        "id": "-E92mnlQytFZ"
      },
      "outputs": [],
      "source": [
        "def call_json_output_parser():\n",
        "    prompt = ChatPromptTemplate.from_messages([\n",
        "        (\"system\", \"Extract information from the following phrase.\\nFormatting Instructions: {format_instructions}\"),\n",
        "        (\"human\", \"{phrase}\")\n",
        "    ])\n",
        "    class Person(BaseModel):\n",
        "        recipe: str = Field(description=\"the name of the recipe\")\n",
        "        ingredients: list = Field(description=\"ingredients\")\n",
        "\n",
        "    parser = JsonOutputParser(pydantic_object=Person)\n",
        "    chain = prompt | model | parser\n",
        "\n",
        "    return chain.invoke({\n",
        "        \"phrase\": \"The ingredients for a Margherita pizza are tomatoes, onions, cheese, basil\",\n",
        "        \"format_instructions\": parser.get_format_instructions()\n",
        "    })"
      ]
    },
    {
      "cell_type": "markdown",
      "metadata": {
        "id": "RAxmRtZKytFZ"
      },
      "source": [
        "print(type(call_string_output_parser()))<br>\n",
        "print(type(call_list_output_parser()))"
      ]
    },
    {
      "cell_type": "code",
      "execution_count": null,
      "metadata": {
        "id": "59WjDf3tytFa"
      },
      "outputs": [],
      "source": [
        "print(call_json_output_parser())"
      ]
    }
  ],
  "metadata": {
    "colab": {
      "provenance": []
    },
    "kernelspec": {
      "display_name": "Python 3",
      "language": "python",
      "name": "python3"
    },
    "language_info": {
      "codemirror_mode": {
        "name": "ipython",
        "version": 3
      },
      "file_extension": ".py",
      "mimetype": "text/x-python",
      "name": "python",
      "nbconvert_exporter": "python",
      "pygments_lexer": "ipython3",
      "version": "3.10.9"
    }
  },
  "nbformat": 4,
  "nbformat_minor": 0
}
