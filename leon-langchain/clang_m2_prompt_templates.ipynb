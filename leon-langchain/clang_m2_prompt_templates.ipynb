{
  "cells": [
    {
      "cell_type": "code",
      "execution_count": null,
      "metadata": {},
      "outputs": [],
      "source": [
        "# Make sure that you have set up API KEYS in Secrets on the left menu icon.\n",
        "from google.colab import userdata\n",
        "openai_api_key = userdata.get('OPENAI_API_KEY')"
      ]
    },
    {
      "cell_type": "code",
      "execution_count": null,
      "metadata": {
        "id": "9xCKQ6j0xWM6"
      },
      "outputs": [],
      "source": [
        "!pip install -q python-dotenv langchain openai langchain_openai"
      ]
    },
    {
      "cell_type": "code",
      "execution_count": null,
      "metadata": {
        "id": "uAz5LjKQw0St"
      },
      "outputs": [],
      "source": [
        "from langchain_openai import ChatOpenAI\n",
        "from langchain_core.prompts import ChatPromptTemplate"
      ]
    },
    {
      "cell_type": "markdown",
      "metadata": {
        "id": "F8zaU9NHw0Su"
      },
      "source": [
        "Instantiate Model"
      ]
    },
    {
      "cell_type": "code",
      "execution_count": null,
      "metadata": {
        "id": "iVQkkdKFw0Sv"
      },
      "outputs": [],
      "source": [
        "llm = ChatOpenAI(\n",
        "    temperature=0.7,\n",
        "    model=\"gpt-3.5-turbo-1106\",\n",
        "    openai_api_key=os.getenv('OPENAI_API_TOKEN')\n",
        ")"
      ]
    },
    {
      "cell_type": "markdown",
      "metadata": {
        "id": "dTxqKNZmw0Sv"
      },
      "source": [
        "Prompt Template"
      ]
    },
    {
      "cell_type": "code",
      "execution_count": null,
      "metadata": {
        "id": "1lRjT8S-w0Sv"
      },
      "outputs": [],
      "source": [
        "prompt = ChatPromptTemplate.from_messages(\n",
        "    [\n",
        "        #(\"system\", \"Generate a list of 10 synonyms for the following word. Return the results as a comma seperated list.\"),\n",
        "        (\"system\", \"You are an AI chef. Write a recipe for a delicious cake based on the following ingredient.\"),\n",
        "        (\"human\", \"{input}\")\n",
        "        ]\n",
        ")\n",
        "\n",
        "# system message is to prime the model with the task to be performed and the expected output format\n",
        "# human message is the input from the user"
      ]
    },
    {
      "cell_type": "markdown",
      "metadata": {
        "id": "rhaE6Wbbw0Sv"
      },
      "source": [
        "Create LLM Chain"
      ]
    },
    {
      "cell_type": "code",
      "execution_count": null,
      "metadata": {
        "id": "r6pSTj-kw0Sv"
      },
      "outputs": [],
      "source": [
        "chain = prompt | llm\n",
        "\n",
        "# output from prompt -> input to model LLM"
      ]
    },
    {
      "cell_type": "code",
      "execution_count": null,
      "metadata": {
        "id": "vwVMyFxDw0Sw"
      },
      "outputs": [],
      "source": [
        "# response = chain.invoke({\"input\": \"happy\"})\n",
        "response = chain.invoke({\"input\": \"chocolate\"})\n",
        "print(response.content)"
      ]
    }
  ],
  "metadata": {
    "colab": {
      "provenance": []
    },
    "kernelspec": {
      "display_name": "Python 3",
      "language": "python",
      "name": "python3"
    },
    "language_info": {
      "codemirror_mode": {
        "name": "ipython",
        "version": 3
      },
      "file_extension": ".py",
      "mimetype": "text/x-python",
      "name": "python",
      "nbconvert_exporter": "python",
      "pygments_lexer": "ipython3",
      "version": "3.10.9"
    }
  },
  "nbformat": 4,
  "nbformat_minor": 0
}
