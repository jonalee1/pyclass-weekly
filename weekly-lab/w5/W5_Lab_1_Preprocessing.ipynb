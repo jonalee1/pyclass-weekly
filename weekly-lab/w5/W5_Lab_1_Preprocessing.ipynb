{
  "cells": [
    {
      "cell_type": "markdown",
      "metadata": {
        "id": "A9R3qSZw4n3s"
      },
      "source": [
        "# Natural Language Preprocessing and Word Vectors"
      ]
    },
    {
      "cell_type": "markdown",
      "metadata": {
        "id": "83C4YSAZ4n3t"
      },
      "source": [
        "In this notebook, we clean up a dataset of natural language data (books from Project Gutenberg) and use word2vec to embed the language in word vectors.\n",
        "\n",
        "**N.B.:** Some, all or none of these preprocessing steps may be helpful to a given downstream application."
      ]
    },
    {
      "cell_type": "markdown",
      "metadata": {
        "id": "GivP_JU_4n3u"
      },
      "source": [
        "[![Open In Colab](https://colab.research.google.com/assets/colab-badge.svg)](https://colab.research.google.com/github/the-deep-learners/deep-learning-illustrated/blob/master/notebooks/natural_language_preprocessing.ipynb)"
      ]
    },
    {
      "cell_type": "markdown",
      "metadata": {
        "id": "EQf7fKMo4n3u"
      },
      "source": [
        "#### Load dependencies"
      ]
    },
    {
      "cell_type": "code",
      "execution_count": 2,
      "metadata": {
        "colab": {
          "base_uri": "https://localhost:8080/"
        },
        "id": "TMn2GkOs4n3u",
        "outputId": "4d9373d9-4f86-46e3-eafd-8e8a371e6dcd"
      },
      "outputs": [
        {
          "name": "stderr",
          "output_type": "stream",
          "text": [
            "[nltk_data] Downloading package gutenberg to\n",
            "[nltk_data]     C:\\Users\\JL\\AppData\\Roaming\\nltk_data...\n",
            "[nltk_data]   Package gutenberg is already up-to-date!\n",
            "[nltk_data] Downloading package punkt to\n",
            "[nltk_data]     C:\\Users\\JL\\AppData\\Roaming\\nltk_data...\n",
            "[nltk_data]   Package punkt is already up-to-date!\n",
            "[nltk_data] Downloading package stopwords to\n",
            "[nltk_data]     C:\\Users\\JL\\AppData\\Roaming\\nltk_data...\n",
            "[nltk_data]   Package stopwords is already up-to-date!\n"
          ]
        }
      ],
      "source": [
        "import nltk\n",
        "from nltk import word_tokenize, sent_tokenize\n",
        "from nltk.corpus import stopwords\n",
        "from nltk.stem.porter import *\n",
        "nltk.download('gutenberg')\n",
        "nltk.download('punkt')\n",
        "nltk.download('stopwords')\n",
        "\n",
        "import string\n",
        "\n",
        "import gensim\n",
        "from gensim.models.phrases import Phraser, Phrases\n",
        "from gensim.models.word2vec import Word2Vec\n",
        "\n",
        "from sklearn.manifold import TSNE\n",
        "\n",
        "import pandas as pd\n",
        "from bokeh.io import output_notebook, output_file\n",
        "from bokeh.plotting import show, figure\n",
        "%matplotlib inline"
      ]
    },
    {
      "cell_type": "markdown",
      "metadata": {
        "id": "RFRnkFmz4n3w"
      },
      "source": [
        "#### Load Data"
      ]
    },
    {
      "cell_type": "code",
      "execution_count": 3,
      "metadata": {
        "id": "Rp9WdG8l4n3w"
      },
      "outputs": [],
      "source": [
        "# The dataset we used in this notebook is a small corpus of out-of-copyright books from Project Gutenberg.\n",
        "from nltk.corpus import gutenberg"
      ]
    },
    {
      "cell_type": "code",
      "execution_count": 4,
      "metadata": {
        "colab": {
          "base_uri": "https://localhost:8080/"
        },
        "id": "j57Qkfzs4n3w",
        "outputId": "6fbc53eb-f2ae-488f-ac26-c6fbb12b9278"
      },
      "outputs": [
        {
          "data": {
            "text/plain": [
              "18"
            ]
          },
          "execution_count": 4,
          "metadata": {},
          "output_type": "execute_result"
        }
      ],
      "source": [
        "# The number of books (documents)\n",
        "len(gutenberg.fileids())"
      ]
    },
    {
      "cell_type": "code",
      "execution_count": 5,
      "metadata": {
        "colab": {
          "base_uri": "https://localhost:8080/"
        },
        "id": "xkDh08tu4n3w",
        "outputId": "d4e3b336-3fcb-43e9-d1ad-58e34fb5afed"
      },
      "outputs": [
        {
          "data": {
            "text/plain": [
              "['austen-emma.txt',\n",
              " 'austen-persuasion.txt',\n",
              " 'austen-sense.txt',\n",
              " 'bible-kjv.txt',\n",
              " 'blake-poems.txt',\n",
              " 'bryant-stories.txt',\n",
              " 'burgess-busterbrown.txt',\n",
              " 'carroll-alice.txt',\n",
              " 'chesterton-ball.txt',\n",
              " 'chesterton-brown.txt',\n",
              " 'chesterton-thursday.txt',\n",
              " 'edgeworth-parents.txt',\n",
              " 'melville-moby_dick.txt',\n",
              " 'milton-paradise.txt',\n",
              " 'shakespeare-caesar.txt',\n",
              " 'shakespeare-hamlet.txt',\n",
              " 'shakespeare-macbeth.txt',\n",
              " 'whitman-leaves.txt']"
            ]
          },
          "execution_count": 5,
          "metadata": {},
          "output_type": "execute_result"
        }
      ],
      "source": [
        "gutenberg.fileids()"
      ]
    },
    {
      "cell_type": "code",
      "execution_count": 6,
      "metadata": {
        "colab": {
          "base_uri": "https://localhost:8080/"
        },
        "id": "KkZCcIFO4n3w",
        "outputId": "2086b3a7-208a-432f-d4cf-9af5c5f5d4da"
      },
      "outputs": [
        {
          "data": {
            "text/plain": [
              "2621613"
            ]
          },
          "execution_count": 6,
          "metadata": {},
          "output_type": "execute_result"
        }
      ],
      "source": [
        "len(gutenberg.words())"
      ]
    },
    {
      "cell_type": "code",
      "execution_count": 7,
      "metadata": {
        "id": "zhpWKoK74n3x"
      },
      "outputs": [],
      "source": [
        "# To tokenize the corpus into a list of sentences\n",
        "gberg_sent_tokens = sent_tokenize(gutenberg.raw())"
      ]
    },
    {
      "cell_type": "code",
      "execution_count": 8,
      "metadata": {
        "colab": {
          "base_uri": "https://localhost:8080/",
          "height": 53
        },
        "id": "7ZYWLNuv4n3x",
        "outputId": "7176e90e-6543-4640-9704-9e883a642e5b"
      },
      "outputs": [
        {
          "data": {
            "text/plain": [
              "\"She was the youngest of the two daughters of a most affectionate,\\nindulgent father; and had, in consequence of her sister's marriage,\\nbeen mistress of his house from a very early period.\""
            ]
          },
          "execution_count": 8,
          "metadata": {},
          "output_type": "execute_result"
        }
      ],
      "source": [
        "gberg_sent_tokens[1]"
      ]
    },
    {
      "cell_type": "code",
      "execution_count": 9,
      "metadata": {
        "colab": {
          "base_uri": "https://localhost:8080/"
        },
        "id": "EFQjv-tW4n3x",
        "outputId": "42b39574-d621-4a3d-9170-2dc20feb94b5"
      },
      "outputs": [
        {
          "data": {
            "text/plain": [
              "['She',\n",
              " 'was',\n",
              " 'the',\n",
              " 'youngest',\n",
              " 'of',\n",
              " 'the',\n",
              " 'two',\n",
              " 'daughters',\n",
              " 'of',\n",
              " 'a',\n",
              " 'most',\n",
              " 'affectionate',\n",
              " ',',\n",
              " 'indulgent',\n",
              " 'father',\n",
              " ';',\n",
              " 'and',\n",
              " 'had',\n",
              " ',',\n",
              " 'in',\n",
              " 'consequence',\n",
              " 'of',\n",
              " 'her',\n",
              " 'sister',\n",
              " \"'s\",\n",
              " 'marriage',\n",
              " ',',\n",
              " 'been',\n",
              " 'mistress',\n",
              " 'of',\n",
              " 'his',\n",
              " 'house',\n",
              " 'from',\n",
              " 'a',\n",
              " 'very',\n",
              " 'early',\n",
              " 'period',\n",
              " '.']"
            ]
          },
          "execution_count": 9,
          "metadata": {},
          "output_type": "execute_result"
        }
      ],
      "source": [
        "# we can further tokenize this sentence down to the word level\n",
        "word_tokenize(gberg_sent_tokens[1])"
      ]
    },
    {
      "cell_type": "code",
      "execution_count": 10,
      "metadata": {
        "colab": {
          "base_uri": "https://localhost:8080/",
          "height": 36
        },
        "id": "9onH4mQ-4n3x",
        "outputId": "4711ae04-310b-4f8a-f98e-9bdb803443a9"
      },
      "outputs": [
        {
          "data": {
            "text/plain": [
              "'father'"
            ]
          },
          "execution_count": 10,
          "metadata": {},
          "output_type": "execute_result"
        }
      ],
      "source": [
        "# 15th word in a second sentence\n",
        "word_tokenize(gberg_sent_tokens[1])[14]"
      ]
    },
    {
      "cell_type": "code",
      "execution_count": 11,
      "metadata": {
        "id": "OqwbEG4T4n3x"
      },
      "outputs": [],
      "source": [
        "# a convenient method that handles newlines, as well as tokenizing sentences and words in one shot\n",
        "gberg_sents = gutenberg.sents()"
      ]
    },
    {
      "cell_type": "code",
      "execution_count": 12,
      "metadata": {
        "colab": {
          "base_uri": "https://localhost:8080/"
        },
        "id": "ZevsSm3A4n3x",
        "outputId": "41765979-f9c1-46cf-f68e-1e6773fb4c14"
      },
      "outputs": [
        {
          "data": {
            "text/plain": [
              "[['[', 'Emma', 'by', 'Jane', 'Austen', '1816', ']'], ['VOLUME', 'I']]"
            ]
          },
          "execution_count": 12,
          "metadata": {},
          "output_type": "execute_result"
        }
      ],
      "source": [
        "gberg_sents[0:2]"
      ]
    },
    {
      "cell_type": "code",
      "execution_count": 13,
      "metadata": {
        "colab": {
          "base_uri": "https://localhost:8080/",
          "height": 36
        },
        "id": "XcFOiSxG4n3y",
        "outputId": "8ff1bacc-ed6a-445c-d3f7-5c023bcfe836"
      },
      "outputs": [
        {
          "data": {
            "text/plain": [
              "'father'"
            ]
          },
          "execution_count": 13,
          "metadata": {},
          "output_type": "execute_result"
        }
      ],
      "source": [
        "# the first actual sentence of Emma is now on its own as the fourth element of gberg_sents\n",
        "gberg_sents[4][14]"
      ]
    },
    {
      "cell_type": "markdown",
      "metadata": {
        "id": "Xu6zJdyV4n3y"
      },
      "source": [
        "#### Iteratively preprocess a sentence"
      ]
    },
    {
      "cell_type": "markdown",
      "metadata": {
        "id": "p-5slHR74n3y"
      },
      "source": [
        "##### a tokenized sentence:"
      ]
    },
    {
      "cell_type": "code",
      "execution_count": 14,
      "metadata": {
        "colab": {
          "base_uri": "https://localhost:8080/"
        },
        "id": "Eowf9QVD4n3y",
        "outputId": "068f70f6-e572-4931-b151-cff112dad99f"
      },
      "outputs": [
        {
          "data": {
            "text/plain": [
              "['She',\n",
              " 'was',\n",
              " 'the',\n",
              " 'youngest',\n",
              " 'of',\n",
              " 'the',\n",
              " 'two',\n",
              " 'daughters',\n",
              " 'of',\n",
              " 'a',\n",
              " 'most',\n",
              " 'affectionate',\n",
              " ',',\n",
              " 'indulgent',\n",
              " 'father',\n",
              " ';',\n",
              " 'and',\n",
              " 'had',\n",
              " ',',\n",
              " 'in',\n",
              " 'consequence',\n",
              " 'of',\n",
              " 'her',\n",
              " 'sister',\n",
              " \"'\",\n",
              " 's',\n",
              " 'marriage',\n",
              " ',',\n",
              " 'been',\n",
              " 'mistress',\n",
              " 'of',\n",
              " 'his',\n",
              " 'house',\n",
              " 'from',\n",
              " 'a',\n",
              " 'very',\n",
              " 'early',\n",
              " 'period',\n",
              " '.']"
            ]
          },
          "execution_count": 14,
          "metadata": {},
          "output_type": "execute_result"
        }
      ],
      "source": [
        "gberg_sents[4]"
      ]
    },
    {
      "cell_type": "markdown",
      "metadata": {
        "id": "q3D8mh114n3y"
      },
      "source": [
        "##### to lowercase:"
      ]
    },
    {
      "cell_type": "code",
      "execution_count": 15,
      "metadata": {
        "colab": {
          "base_uri": "https://localhost:8080/"
        },
        "id": "9wbzR1cB4n3y",
        "outputId": "73b93c2f-8b71-4eb3-bc33-944aa7759bd2"
      },
      "outputs": [
        {
          "data": {
            "text/plain": [
              "['she',\n",
              " 'was',\n",
              " 'the',\n",
              " 'youngest',\n",
              " 'of',\n",
              " 'the',\n",
              " 'two',\n",
              " 'daughters',\n",
              " 'of',\n",
              " 'a',\n",
              " 'most',\n",
              " 'affectionate',\n",
              " ',',\n",
              " 'indulgent',\n",
              " 'father',\n",
              " ';',\n",
              " 'and',\n",
              " 'had',\n",
              " ',',\n",
              " 'in',\n",
              " 'consequence',\n",
              " 'of',\n",
              " 'her',\n",
              " 'sister',\n",
              " \"'\",\n",
              " 's',\n",
              " 'marriage',\n",
              " ',',\n",
              " 'been',\n",
              " 'mistress',\n",
              " 'of',\n",
              " 'his',\n",
              " 'house',\n",
              " 'from',\n",
              " 'a',\n",
              " 'very',\n",
              " 'early',\n",
              " 'period',\n",
              " '.']"
            ]
          },
          "execution_count": 15,
          "metadata": {},
          "output_type": "execute_result"
        }
      ],
      "source": [
        "[w.lower() for w in gberg_sents[4]]"
      ]
    },
    {
      "cell_type": "markdown",
      "metadata": {
        "id": "6CVWFYc44n3y"
      },
      "source": [
        "##### remove stopwords and punctuation:"
      ]
    },
    {
      "cell_type": "code",
      "execution_count": 16,
      "metadata": {
        "id": "coOp68b-4n3y"
      },
      "outputs": [],
      "source": [
        "stpwrds = stopwords.words('english') + list(string.punctuation)"
      ]
    },
    {
      "cell_type": "code",
      "execution_count": 17,
      "metadata": {
        "colab": {
          "base_uri": "https://localhost:8080/"
        },
        "id": "UBx1p1Oe4n3y",
        "outputId": "009b4772-abd8-41cc-c86a-69f237ff5699"
      },
      "outputs": [
        {
          "data": {
            "text/plain": [
              "['i',\n",
              " 'me',\n",
              " 'my',\n",
              " 'myself',\n",
              " 'we',\n",
              " 'our',\n",
              " 'ours',\n",
              " 'ourselves',\n",
              " 'you',\n",
              " \"you're\",\n",
              " \"you've\",\n",
              " \"you'll\",\n",
              " \"you'd\",\n",
              " 'your',\n",
              " 'yours',\n",
              " 'yourself',\n",
              " 'yourselves',\n",
              " 'he',\n",
              " 'him',\n",
              " 'his',\n",
              " 'himself',\n",
              " 'she',\n",
              " \"she's\",\n",
              " 'her',\n",
              " 'hers',\n",
              " 'herself',\n",
              " 'it',\n",
              " \"it's\",\n",
              " 'its',\n",
              " 'itself',\n",
              " 'they',\n",
              " 'them',\n",
              " 'their',\n",
              " 'theirs',\n",
              " 'themselves',\n",
              " 'what',\n",
              " 'which',\n",
              " 'who',\n",
              " 'whom',\n",
              " 'this',\n",
              " 'that',\n",
              " \"that'll\",\n",
              " 'these',\n",
              " 'those',\n",
              " 'am',\n",
              " 'is',\n",
              " 'are',\n",
              " 'was',\n",
              " 'were',\n",
              " 'be',\n",
              " 'been',\n",
              " 'being',\n",
              " 'have',\n",
              " 'has',\n",
              " 'had',\n",
              " 'having',\n",
              " 'do',\n",
              " 'does',\n",
              " 'did',\n",
              " 'doing',\n",
              " 'a',\n",
              " 'an',\n",
              " 'the',\n",
              " 'and',\n",
              " 'but',\n",
              " 'if',\n",
              " 'or',\n",
              " 'because',\n",
              " 'as',\n",
              " 'until',\n",
              " 'while',\n",
              " 'of',\n",
              " 'at',\n",
              " 'by',\n",
              " 'for',\n",
              " 'with',\n",
              " 'about',\n",
              " 'against',\n",
              " 'between',\n",
              " 'into',\n",
              " 'through',\n",
              " 'during',\n",
              " 'before',\n",
              " 'after',\n",
              " 'above',\n",
              " 'below',\n",
              " 'to',\n",
              " 'from',\n",
              " 'up',\n",
              " 'down',\n",
              " 'in',\n",
              " 'out',\n",
              " 'on',\n",
              " 'off',\n",
              " 'over',\n",
              " 'under',\n",
              " 'again',\n",
              " 'further',\n",
              " 'then',\n",
              " 'once',\n",
              " 'here',\n",
              " 'there',\n",
              " 'when',\n",
              " 'where',\n",
              " 'why',\n",
              " 'how',\n",
              " 'all',\n",
              " 'any',\n",
              " 'both',\n",
              " 'each',\n",
              " 'few',\n",
              " 'more',\n",
              " 'most',\n",
              " 'other',\n",
              " 'some',\n",
              " 'such',\n",
              " 'no',\n",
              " 'nor',\n",
              " 'not',\n",
              " 'only',\n",
              " 'own',\n",
              " 'same',\n",
              " 'so',\n",
              " 'than',\n",
              " 'too',\n",
              " 'very',\n",
              " 's',\n",
              " 't',\n",
              " 'can',\n",
              " 'will',\n",
              " 'just',\n",
              " 'don',\n",
              " \"don't\",\n",
              " 'should',\n",
              " \"should've\",\n",
              " 'now',\n",
              " 'd',\n",
              " 'll',\n",
              " 'm',\n",
              " 'o',\n",
              " 're',\n",
              " 've',\n",
              " 'y',\n",
              " 'ain',\n",
              " 'aren',\n",
              " \"aren't\",\n",
              " 'couldn',\n",
              " \"couldn't\",\n",
              " 'didn',\n",
              " \"didn't\",\n",
              " 'doesn',\n",
              " \"doesn't\",\n",
              " 'hadn',\n",
              " \"hadn't\",\n",
              " 'hasn',\n",
              " \"hasn't\",\n",
              " 'haven',\n",
              " \"haven't\",\n",
              " 'isn',\n",
              " \"isn't\",\n",
              " 'ma',\n",
              " 'mightn',\n",
              " \"mightn't\",\n",
              " 'mustn',\n",
              " \"mustn't\",\n",
              " 'needn',\n",
              " \"needn't\",\n",
              " 'shan',\n",
              " \"shan't\",\n",
              " 'shouldn',\n",
              " \"shouldn't\",\n",
              " 'wasn',\n",
              " \"wasn't\",\n",
              " 'weren',\n",
              " \"weren't\",\n",
              " 'won',\n",
              " \"won't\",\n",
              " 'wouldn',\n",
              " \"wouldn't\",\n",
              " '!',\n",
              " '\"',\n",
              " '#',\n",
              " '$',\n",
              " '%',\n",
              " '&',\n",
              " \"'\",\n",
              " '(',\n",
              " ')',\n",
              " '*',\n",
              " '+',\n",
              " ',',\n",
              " '-',\n",
              " '.',\n",
              " '/',\n",
              " ':',\n",
              " ';',\n",
              " '<',\n",
              " '=',\n",
              " '>',\n",
              " '?',\n",
              " '@',\n",
              " '[',\n",
              " '\\\\',\n",
              " ']',\n",
              " '^',\n",
              " '_',\n",
              " '`',\n",
              " '{',\n",
              " '|',\n",
              " '}',\n",
              " '~']"
            ]
          },
          "execution_count": 17,
          "metadata": {},
          "output_type": "execute_result"
        }
      ],
      "source": [
        "stpwrds"
      ]
    },
    {
      "cell_type": "code",
      "execution_count": 18,
      "metadata": {
        "colab": {
          "base_uri": "https://localhost:8080/"
        },
        "id": "4Q62gwH14n3y",
        "outputId": "d62a7d7b-ca12-4f67-b927-09e2e39bccce"
      },
      "outputs": [
        {
          "data": {
            "text/plain": [
              "['youngest',\n",
              " 'two',\n",
              " 'daughters',\n",
              " 'affectionate',\n",
              " 'indulgent',\n",
              " 'father',\n",
              " 'consequence',\n",
              " 'sister',\n",
              " 'marriage',\n",
              " 'mistress',\n",
              " 'house',\n",
              " 'early',\n",
              " 'period']"
            ]
          },
          "execution_count": 18,
          "metadata": {},
          "output_type": "execute_result"
        }
      ],
      "source": [
        "[w.lower() for w in gberg_sents[4] if w.lower() not in stpwrds]"
      ]
    },
    {
      "cell_type": "markdown",
      "metadata": {
        "id": "s85ngX314n3z"
      },
      "source": [
        "##### stem words:"
      ]
    },
    {
      "cell_type": "code",
      "execution_count": 19,
      "metadata": {
        "id": "QOEC15Cg4n3z"
      },
      "outputs": [],
      "source": [
        "stemmer = PorterStemmer()"
      ]
    },
    {
      "cell_type": "code",
      "execution_count": 20,
      "metadata": {
        "colab": {
          "base_uri": "https://localhost:8080/"
        },
        "id": "VuqaCH5Q4n3z",
        "outputId": "c96e0b9a-4faa-4257-88f6-34092f053233"
      },
      "outputs": [
        {
          "data": {
            "text/plain": [
              "['youngest',\n",
              " 'two',\n",
              " 'daughter',\n",
              " 'affection',\n",
              " 'indulg',\n",
              " 'father',\n",
              " 'consequ',\n",
              " 'sister',\n",
              " 'marriag',\n",
              " 'mistress',\n",
              " 'hous',\n",
              " 'earli',\n",
              " 'period']"
            ]
          },
          "execution_count": 20,
          "metadata": {},
          "output_type": "execute_result"
        }
      ],
      "source": [
        "[stemmer.stem(w.lower()) for w in gberg_sents[4]\n",
        " if w.lower() not in stpwrds]"
      ]
    },
    {
      "cell_type": "markdown",
      "metadata": {
        "id": "CQWYBICh4n3z"
      },
      "source": [
        "##### handle bigram (e.g.,New York) collocations:"
      ]
    },
    {
      "cell_type": "code",
      "execution_count": 21,
      "metadata": {
        "id": "hInojeC14n3z"
      },
      "outputs": [],
      "source": [
        "# train a “detector” to identify how often any given pair of words occurs together in our corpus\n",
        "phrases = Phrases(gberg_sents)"
      ]
    },
    {
      "cell_type": "code",
      "execution_count": 22,
      "metadata": {
        "id": "p6LHfh6R4n3z"
      },
      "outputs": [],
      "source": [
        "bigram = Phraser(phrases) # create a more efficient Phraser object for transforming sentences"
      ]
    },
    {
      "cell_type": "code",
      "execution_count": 23,
      "metadata": {
        "colab": {
          "base_uri": "https://localhost:8080/"
        },
        "id": "aMLvGpUB4n3z",
        "outputId": "e752a1c6-bb91-47f4-8d7f-285617878491"
      },
      "outputs": [
        {
          "data": {
            "text/plain": [
              "{'two_daughters': 11.966813731181547,\n",
              " 'her_sister': 17.7960829227865,\n",
              " \"'_s\": 31.066242737744524,\n",
              " 'very_early': 11.01214147275924,\n",
              " 'Her_mother': 13.529425062715127,\n",
              " 'long_ago': 63.22343628984789,\n",
              " 'more_than': 29.023584433996874,\n",
              " 'had_been': 22.306024648925288,\n",
              " 'an_excellent': 39.063874851750626,\n",
              " 'Miss_Taylor': 453.75918026073305,\n",
              " 'very_fond': 24.134280468850747,\n",
              " 'passed_away': 12.35053642325912,\n",
              " 'too_much': 31.376002029426687,\n",
              " 'did_not': 11.72841621714281,\n",
              " 'any_means': 14.096964108090186,\n",
              " 'wedding_-': 17.4695197740113,\n",
              " 'Her_father': 13.129571562488772,\n",
              " 'after_dinner': 21.528548116881705,\n",
              " 'self_-': 47.79018053120332,\n",
              " 'sixteen_years': 107.0461671612265,\n",
              " 'five_years': 40.128755673408115,\n",
              " 'years_old': 54.735425236061104,\n",
              " 'seven_years': 52.59411150244507,\n",
              " 'each_other': 79.4168405322873,\n",
              " 'a_mile': 12.783091600264584,\n",
              " 'must_be': 10.229989650632808,\n",
              " 'difference_between': 220.52537305244678,\n",
              " 'could_not': 10.870983286982371,\n",
              " 'having_been': 11.53801833156938,\n",
              " 'miles_off': 34.7868137375225,\n",
              " 'at_Hartfield': 27.2822270597084,\n",
              " 'her_husband': 27.54439519504973,\n",
              " 'in_spite': 13.441914963088442,\n",
              " 'Emma_could': 11.335111257744053,\n",
              " 'every_body': 36.972582976825784,\n",
              " 'no_means': 32.57361823161739,\n",
              " 'his_own': 10.402387689390995,\n",
              " 'obliged_to': 10.43662879984823,\n",
              " 'able_to': 11.446828804673226,\n",
              " 'very_much': 16.210274994002063,\n",
              " 'have_been': 17.981191047801964,\n",
              " 'great_deal': 118.04013764577145,\n",
              " '\"_Poor': 10.125586409383336,\n",
              " 'agree_with': 13.611743912451109,\n",
              " '-_humoured': 33.94078127522195,\n",
              " 'for_ever': 12.4761138144463,\n",
              " 'This_is': 11.381028160111825,\n",
              " 'three_times': 35.42578086743132,\n",
              " 'my_dear': 24.47894249615343,\n",
              " 'How_often': 12.377968718725874,\n",
              " 'My_dear': 84.80698289930199,\n",
              " 'so_far': 10.161632478973766,\n",
              " '\"_No': 15.063706270011586,\n",
              " 'We_must': 18.765646900386386,\n",
              " 'last_night': 23.592598950882213,\n",
              " 'doubt_whether': 22.924130736398396,\n",
              " 'anywhere_else': 16.100101533414907,\n",
              " 'I_am': 16.951297329049222,\n",
              " 'very_glad': 18.28434074650975,\n",
              " 'am_sure': 65.14460207447972,\n",
              " 'very_pretty': 20.068178868120455,\n",
              " 'be_able': 11.347612277348256,\n",
              " 'immediately_afterwards': 41.06053966483414,\n",
              " 'sensible_man': 14.541388094211703,\n",
              " 'intimate_friend': 21.89876062322946,\n",
              " 'connected_with': 18.375854281808998,\n",
              " 'than_usual': 28.951968704471486,\n",
              " 'Brunswick_Square': 10881.307917888564,\n",
              " 'some_time': 12.926553753557874,\n",
              " 'poor_Isabella': 41.30241100647833,\n",
              " 'It_is': 11.705870174225897,\n",
              " 'am_afraid': 25.627391867391864,\n",
              " 'moonlight_night': 14.745374344301382,\n",
              " 'Look_at': 13.630464729284448,\n",
              " '\"_Well': 21.191330893669,\n",
              " 'vast_deal': 61.90400400400401,\n",
              " 'an_hour': 41.75757187695002,\n",
              " 'pretty_well': 17.716415202444615,\n",
              " 'tolerably_well': 18.357580705009276,\n",
              " '\"_Ah': 17.279509006244886,\n",
              " 'Ah_!': 37.53295698121932,\n",
              " \"'_Tis\": 23.23934394278894,\n",
              " 'Miss_Woodhouse': 294.5270970174429,\n",
              " 'you_please': 13.035980721875688,\n",
              " 'any_rate': 83.92034351736973,\n",
              " ',\"_said': 36.03254133384804,\n",
              " 'My_dearest': 26.665272507761294,\n",
              " 'so_much': 20.56443776042493,\n",
              " 'much_less': 19.10443556993451,\n",
              " 'any_body': 21.716438732250484,\n",
              " 'has_been': 29.2606767165493,\n",
              " 'been_used': 14.09410182779525,\n",
              " 'Well_,\"': 12.493546273257476,\n",
              " 'tell_you': 11.612165547868624,\n",
              " 'Every_body': 72.20010799293668,\n",
              " '\"_Dear': 20.048661090579007,\n",
              " 'every_thing': 27.27716850667998,\n",
              " 'very_sorry': 20.255731941654293,\n",
              " 'turned_away': 19.3446247292484,\n",
              " 'divided_between': 35.82806127178346,\n",
              " 'knows_how': 14.800957338598694,\n",
              " 'how_much': 15.417663894373641,\n",
              " 'four_years': 16.257604884476734,\n",
              " 'years_ago': 163.33147420261938,\n",
              " 'any_thing': 35.72804044966351,\n",
              " 'need_not': 13.478832663938945,\n",
              " 'his_wife': 10.870850757012368,\n",
              " 'Ever_since': 99.63818474758324,\n",
              " 'leave_off': 10.507247077643713,\n",
              " 'you_mean': 10.573995913362893,\n",
              " 'young_lady': 113.30511794581633,\n",
              " 'depend_upon': 66.33685452578166,\n",
              " 'quarrel_with': 10.691406127597961,\n",
              " '-_hearted': 49.037248488452775,\n",
              " 'their_own': 10.164510720981893,\n",
              " 'You_are': 12.60019671587268,\n",
              " 'more_likely': 11.17688298714827,\n",
              " 'have_done': 12.664105519891397,\n",
              " ',\"_rejoined': 11.956633540853021,\n",
              " 'any_longer': 16.396201569570135,\n",
              " 'very_well': 13.844437162007255,\n",
              " 'young_man': 25.863812524396362,\n",
              " 'dine_with': 13.88397879070013,\n",
              " 'much_better': 10.763384154831522,\n",
              " 'I_dare': 13.676468274997303,\n",
              " 'dare_say': 128.21086697682205,\n",
              " 'Depend_upon': 92.29475412282666,\n",
              " 'take_care': 72.93974751004718,\n",
              " 'CHAPTER_II': 335.5512750949539,\n",
              " 'entering_into': 16.437457915441048,\n",
              " 'never_seen': 14.015206798866856,\n",
              " 'refrain_from': 12.438010669696954,\n",
              " 'at_once': 21.418172245725966,\n",
              " 'three_years': 37.3552600780725,\n",
              " 'any_other': 10.20840196855241,\n",
              " 'twenty_years': 85.29044131115464,\n",
              " 'an_easy': 10.427467282325322,\n",
              " 'according_to': 12.093327441482012,\n",
              " 'had_begun': 12.032976708302646,\n",
              " 'passed_through': 31.462199837199837,\n",
              " 'its_being': 16.06447342496047,\n",
              " 'deal_better': 19.992919953446272,\n",
              " 'fine_young': 10.403137320870965,\n",
              " 'belonging_to': 10.512393800210106,\n",
              " 'Frank_Churchill': 1750.6779772753714,\n",
              " 'Miss_Bates': 400.42607736396553,\n",
              " 'a_few': 11.554600796586188,\n",
              " 'few_days': 35.91529644067919,\n",
              " 'I_suppose': 12.338158409520453,\n",
              " 'very_handsome': 19.759437654764756,\n",
              " 'an_irresistible': 11.369078040261053,\n",
              " 'good_sense': 17.373370904818092,\n",
              " 'had_already': 11.990720435581183,\n",
              " 'She_felt': 13.338332744482605,\n",
              " 'most_fortunate': 11.471572464709046,\n",
              " 'long_enough': 15.18952997655465,\n",
              " 'know_how': 12.782869530582152,\n",
              " 'dear_Emma': 28.38977406756079,\n",
              " 'at_Randalls': 27.033755046414154,\n",
              " 'few_weeks': 134.46858012611438,\n",
              " 'no_longer': 44.45340841020726,\n",
              " 'CHAPTER_III': 354.1930126002291,\n",
              " 'Donwell_Abbey': 753.4827901309778,\n",
              " 'card_-': 15.66232807325151,\n",
              " 'drawing_-': 20.084717344971075,\n",
              " '-_room': 10.86339885106585,\n",
              " 'thrown_away': 14.820643707910946,\n",
              " 'After_these': 11.091988134657838,\n",
              " 'an_invitation': 10.459551797040168,\n",
              " 'old_lady': 10.886003613395486,\n",
              " 'those_who': 15.975643084740117,\n",
              " 'as_possible': 11.70949877112537,\n",
              " 'young_ladies': 113.63480411788264,\n",
              " '-_fashioned': 34.9390395480226,\n",
              " \"Goddard_'\": 15.29483969345862,\n",
              " 'found_herself': 11.22605649143189,\n",
              " 's_sake': 28.09200095758,\n",
              " 'much_pleased': 13.276184200965725,\n",
              " 'be_allowed': 10.13327478977725,\n",
              " 'Miss_Smith': 165.2431687101718,\n",
              " 'Harriet_Smith': 180.54871092346391,\n",
              " 'several_years': 17.577367349955093,\n",
              " 'pretty_girl': 40.4556337659619,\n",
              " 'blue_eyes': 35.59533676681832,\n",
              " 'They_were': 10.65337155345379,\n",
              " 'due_time': 21.04160963161683,\n",
              " 'its_own': 10.834370434674414,\n",
              " 'better_than': 42.51368036077655,\n",
              " 'body_else': 39.46983722534385,\n",
              " 'apple_-': 28.219993481095173,\n",
              " 'You_need': 14.652632145780382,\n",
              " 'half_-': 14.007817698976803,\n",
              " 'much_more': 10.555945043417811,\n",
              " 'little_girl': 35.05677573772557,\n",
              " 'at_last': 22.75660921756972,\n",
              " 'CHAPTER_IV': 335.5512750949539,\n",
              " 'every_respect': 12.224980231945176,\n",
              " 'guided_by': 23.954538020555372,\n",
              " 'different_sort': 14.490845895493242,\n",
              " '-_Mill': 12.705105290190035,\n",
              " 'good_deal': 39.176849314155014,\n",
              " 'very_happy': 11.360756752157577,\n",
              " 'drink_tea': 32.50399453379586,\n",
              " 'large_enough': 10.829067985816225,\n",
              " 'had_taken': 10.962547054002629,\n",
              " 'doing_something': 10.716846747710358,\n",
              " 'three_miles': 16.651749532156657,\n",
              " 'thing_else': 12.21019907747794,\n",
              " 'very_obliging': 25.34927857025742,\n",
              " 'on_purpose': 10.833361556419508,\n",
              " 'very_clever': 21.69532850607617,\n",
              " '\"_You': 11.717061811021024,\n",
              " 'know_what': 10.687860772182088,\n",
              " 'Miss_Nash': 337.68125042659204,\n",
              " 'does_not': 13.23025142257054,\n",
              " '\"_Oh': 20.296685763864517,\n",
              " 'Oh_yes': 23.468003288849534,\n",
              " 'very_entertaining': 16.054543094496367,\n",
              " 'soon_as': 12.01164260504438,\n",
              " 'Oh_!': 31.12698837846826,\n",
              " 'have_seen': 13.438796505596505,\n",
              " 'on_horseback': 54.889031885858834,\n",
              " 'their_families': 35.26311487873489,\n",
              " 'no_doubt': 40.18959620751882,\n",
              " 'very_respectable': 10.884435996268722,\n",
              " 'respectable_young': 27.70496528037034,\n",
              " 'very_odd': 18.206182890665982,\n",
              " 'perfectly_right': 16.998927982407917,\n",
              " 'years_hence': 17.990952464071682,\n",
              " 'young_woman': 30.4001550358284,\n",
              " 'very_desirable': 14.595039176814879,\n",
              " 'Dear_Miss': 32.278354820188945,\n",
              " 'thirty_years': 72.53269372866845,\n",
              " 'can_afford': 26.391592873146273,\n",
              " 'good_luck': 51.57752734020705,\n",
              " 'acquainted_with': 27.730834643457214,\n",
              " 'your_own': 10.134692346685467,\n",
              " '\"_Yes': 27.046036922192854,\n",
              " 'next_day': 33.66839067944251,\n",
              " 'an_opportunity': 39.49570340028189,\n",
              " 'few_yards': 127.20000822740548,\n",
              " 'Robert_Martin': 1963.7208109428432,\n",
              " 'few_minutes': 316.36383789006993,\n",
              " 'Only_think': 11.416616668358916,\n",
              " 'been_able': 15.917680792356478,\n",
              " '-_morrow': 31.19125329892675,\n",
              " 'should_happen': 20.434212265397832,\n",
              " 'Do_you': 17.542972188763283,\n",
              " 'compared_with': 15.313211901507499,\n",
              " '\"_Certainly': 25.246462114062453,\n",
              " 'You_must': 12.864839977038008,\n",
              " 'an_old': 10.467761806300013,\n",
              " 'old_man': 11.807109991026596,\n",
              " 'more_valuable': 17.665941085058734,\n",
              " ',\"_replied': 68.6325679964557,\n",
              " 'very_bad': 15.601593602802112,\n",
              " 'deal_too': 12.720000822740548,\n",
              " 'no_more': 17.350760547573774,\n",
              " 'very_agreeable': 21.406057459328487,\n",
              " 'fixed_on': 10.722857321964225,\n",
              " 'same_time': 18.367425129939775,\n",
              " 'pleasing_young': 23.351327879169286,\n",
              " 'CHAPTER_V': 236.1286750668194,\n",
              " 'very_differently': 48.1636292834891,\n",
              " '\"_Perhaps': 10.879118421244423,\n",
              " 'ever_since': 42.928016104400946,\n",
              " 'twelve_years': 39.389282288763006,\n",
              " 'very_neatly': 22.935061563566236,\n",
              " 'ten_years': 36.45848645037043,\n",
              " 'being_able': 14.368918278390662,\n",
              " 'her_mother': 11.543621348228921,\n",
              " 'have_spoken': 11.59021954484605,\n",
              " 'Yes_,\"': 26.304593789876648,\n",
              " '\"_Thank': 24.575778111032328,\n",
              " 'Thank_you': 27.91888466552739,\n",
              " '\"_Why': 10.548941903388105,\n",
              " 'could_possibly': 30.820114126236575,\n",
              " 'How_can': 16.088661540487763,\n",
              " 'much_mistaken': 10.098977725520935,\n",
              " 'Very_well': 84.54149008885851,\n",
              " 'oh_!': 22.810780631748376,\n",
              " 'look_at': 10.281997140291956,\n",
              " 'any_harm': 10.323534321581198,\n",
              " '\"_Very': 19.596435652445642,\n",
              " 'an_angel': 25.81927176790378,\n",
              " 'an_end': 18.27126745760167,\n",
              " 'many_years': 19.719030792857517,\n",
              " ',\"_cried': 34.723966485732284,\n",
              " 'much_obliged': 42.98889166944722,\n",
              " 'John_Knightley': 175.90370362419566,\n",
              " 'ill_-': 22.276568839343266,\n",
              " 'cared_for': 11.003932384341637,\n",
              " 'I_assure': 13.117491742454515,\n",
              " 'assure_you': 32.47600092425324,\n",
              " 'soon_afterwards': 80.80970084767553,\n",
              " 'CHAPTER_VI': 151.7970054000982,\n",
              " 'most_agreeable': 28.296545412948984,\n",
              " 'no_scruple': 27.38072257150447,\n",
              " 'infinitely_superior': 278.568018018018,\n",
              " 'am_glad': 17.031537511870845,\n",
              " 'Exactly_so': 26.019606605658986,\n",
              " 'Did_you': 15.109886745810456,\n",
              " 'very_interesting': 17.838381216107074,\n",
              " 'No_sooner': 65.68697776518907,\n",
              " \"Don_'\": 25.40572346287943,\n",
              " \"'_t\": 30.669962908216693,\n",
              " 't_pretend': 22.215392905253704,\n",
              " 'why_should': 22.803134218289085,\n",
              " 'cannot_imagine': 50.34105640180307,\n",
              " 'back_again': 19.215480532814567,\n",
              " 'almost_every': 10.072259575009545,\n",
              " 'higher_than': 46.27167976056865,\n",
              " 'ten_times': 32.71643894251348,\n",
              " 'dear_Isabella': 10.167718917496957,\n",
              " 'must_allow': 16.27068909786588,\n",
              " 'sitting_down': 17.45874757620558,\n",
              " 'fore_-': 15.528462021343378,\n",
              " 'must_confess': 12.590414182872406,\n",
              " 'depended_on': 20.58338695719706,\n",
              " 'no_sooner': 28.749758700079695,\n",
              " 'after_breakfast': 12.17388137561763,\n",
              " 'sooner_than': 16.3893318492269,\n",
              " 'at_home': 15.749528854479703,\n",
              " 'at_least': 41.37059021349224,\n",
              " 'Upon_my': 19.147177205335975,\n",
              " 'Will_you': 14.912145378521789,\n",
              " \"'_d\": 30.546910997373118,\n",
              " 'She_paused': 28.95364951542675,\n",
              " 'replied_Emma': 16.33104387030484,\n",
              " 'can_hardly': 26.420626528672287,\n",
              " 'am_persuaded': 14.509626277861573,\n",
              " 'Are_you': 16.465332468596394,\n",
              " 'I_beg': 10.231643559114522,\n",
              " 'beg_your': 44.837927443381055,\n",
              " 'your_pardon': 42.182804133556154,\n",
              " 'dear_Miss': 19.29791549647382,\n",
              " 'little_while': 10.254870302373984,\n",
              " '`_No': 11.44545824696476,\n",
              " 'entered_into': 58.47423553525749,\n",
              " 'older_than': 59.834068655907735,\n",
              " 'advise_you': 10.800158446902824,\n",
              " 'run_away': 41.70122298206315,\n",
              " 'At_last': 78.82820279093207,\n",
              " '\"_Indeed': 16.73627360604856,\n",
              " 'Dear_me': 11.639624322425217,\n",
              " 'have_borne': 11.406974967061924,\n",
              " 'good_opinion': 14.834508731529455,\n",
              " 'good_natured': 34.331291635825316,\n",
              " 'thank_you': 16.887520480611688,\n",
              " 'merely_because': 11.301099005522438,\n",
              " 'Emma_felt': 16.55226511478519,\n",
              " 'no_difficulty': 13.258034087254797,\n",
              " 'protest_against': 10.157197996222386,\n",
              " 'Let_us': 32.264040693882876,\n",
              " 'cried_Emma': 14.204759677426091,\n",
              " '\"_Has': 11.456377766045145,\n",
              " 'next_morning': 76.77797550074492,\n",
              " 'dear_sir': 30.138577189712098,\n",
              " 'am_going': 10.080878050929597,\n",
              " 'sat_down': 58.92285841199917,\n",
              " 'depends_upon': 18.878472434214544,\n",
              " 'has_happened': 16.886495752427184,\n",
              " 'presently_added': 24.986707070707073,\n",
              " 'could_afford': 16.180559916274202,\n",
              " 'Certainly_,\"': 17.04927375269783,\n",
              " 'stood_up': 10.28632971468491,\n",
              " '\"_Nonsense': 10.024330545289503,\n",
              " 'are_mistaken': 10.34529425541169,\n",
              " 'does_seem': 14.17908976269632,\n",
              " 'few_moments': 388.789590364635,\n",
              " 'nobody_knows': 38.60305867665418,\n",
              " 'very_likely': 25.18359701097469,\n",
              " 'all_probability': 13.453639483026294,\n",
              " 'no_harm': 27.98918307309346,\n",
              " 'cannot_help': 20.51549678061432,\n",
              " 'very_different': 17.75617669437386,\n",
              " 'common_sense': 145.78524280999528,\n",
              " '.--_She': 30.440671188909267,\n",
              " '-_natured': 48.041179378531076,\n",
              " 'an_hundred': 30.38185737390911,\n",
              " 'exactly_what': 14.387504885629733,\n",
              " 'every_man': 12.828795338958601,\n",
              " 'be_satisfied': 12.272908603731747,\n",
              " 'less_than': 36.58643688514103,\n",
              " 'large_fortune': 38.26270688321733,\n",
              " 'no_use': 14.694321113374066,\n",
              " 'these_words': 26.137410685805424,\n",
              " 'well_acquainted': 11.682096812278632,\n",
              " 'twenty_thousand': 77.04104378157882,\n",
              " 'thousand_pounds': 448.56455512572535,\n",
              " 'Good_morning': 19.263291344272915,\n",
              " 'walked_off': 10.916907922609802,\n",
              " 'cast_down': 15.322709019072686,\n",
              " 'its_effects': 29.72249056785139,\n",
              " 'deal_more': 10.737496923771433,\n",
              " 'longer_than': 18.302185706512955,\n",
              " 'perfectly_satisfied': 93.75697392359005,\n",
              " 'three_hundred': 49.30309130408786,\n",
              " 'looking_at': 12.747008682016011,\n",
              " 'next_moment': 24.667278275263754,\n",
              " 'ready_wit': 70.12901152901154,\n",
              " 'very_pleasant': 11.645782555593218,\n",
              " 'an_idea': 14.230682717061454,\n",
              " 'Give_me': 25.719421458776054,\n",
              " 'arrive_at': 11.92665663812389,\n",
              " 'very_superior': 10.703028729664243,\n",
              " 'pre_-': 49.32570289132602,\n",
              " 'have_chosen': 12.418092369477911,\n",
              " 'without_exception': 55.117736185383244,\n",
              " 'her_cheeks': 10.316064715093864,\n",
              " 'sit_down': 36.04958112355487,\n",
              " 'reason_why': 38.722303389547506,\n",
              " 'could_hardly': 23.719027600038913,\n",
              " 'It_seemed': 10.045411819743176,\n",
              " 'an_offering': 11.109001091627631,\n",
              " 'let_us': 32.253455378694596,\n",
              " 'Have_you': 15.500622663363384,\n",
              " '\"_Aye': 19.50680538542822,\n",
              " 'Very_true': 128.88521410135147,\n",
              " 'can_easily': 15.161836814749437,\n",
              " 'Nobody_could': 15.935399917542775,\n",
              " 'dear_mother': 13.460467748430139,\n",
              " 'those_things': 16.269842914134045,\n",
              " 'next_week': 51.500749500333114,\n",
              " 'Why_should': 13.316921218220724,\n",
              " '.--_Poor': 33.94933025911287,\n",
              " 'taken_away': 33.882342535970594,\n",
              " 'stay_longer': 32.079105716360615,\n",
              " 'three_days': 38.359912674236874,\n",
              " 'cannot_bear': 21.2053080048691,\n",
              " 'We_are': 13.053427143739613,\n",
              " 'four_o': 13.636425778378856,\n",
              " \"o_'\": 29.05179422396496,\n",
              " \"'_clock\": 18.373899375590025,\n",
              " 'ask_whether': 11.352902840883013,\n",
              " 're_-': 17.206160179428213,\n",
              " 'Of_course': 64.52969306765831,\n",
              " 'ran_away': 15.685508857974714,\n",
              " 'who_lived': 14.515376080230448,\n",
              " 'A_few': 27.798793006840953,\n",
              " '.--_Emma': 10.090713174013455,\n",
              " 'thus_began': 10.569835629596586,\n",
              " 'Never_mind': 58.818813011223135,\n",
              " 'good_fortune': 19.83585738958796,\n",
              " 'Those_who': 18.714038582776446,\n",
              " 'Jane_Fairfax': 897.6983416183941,\n",
              " 'nothing_else': 34.14808689686209,\n",
              " 'present_instance': 15.747924624395212,\n",
              " 'These_are': 23.59005438958226,\n",
              " 'once_more': 21.461454181291767,\n",
              " 'still_greater': 12.724188305008024,\n",
              " 'here_comes': 13.200741413619147,\n",
              " 'turned_back': 28.862454905522338,\n",
              " 'will_bring': 12.921944022284055,\n",
              " 'each_side': 22.901592275974444,\n",
              " 'waiting_for': 11.22850243300167,\n",
              " 'still_remained': 13.210905890445488,\n",
              " 'she_hoped': 14.771734566364694,\n",
              " 'ten_minutes': 192.59628296373643,\n",
              " 'most_favourable': 12.48377003512455,\n",
              " 'ten_days': 17.36302410708332,\n",
              " 'many_months': 10.650678561587215,\n",
              " 'little_ones': 64.8622484431334,\n",
              " '-_tempered': 31.944264729620663,\n",
              " 'passed_over': 23.11431354773038,\n",
              " 'sir_,\"': 26.985788449773853,\n",
              " 'cannot_deny': 34.78623560349313,\n",
              " 'talking_about': 19.191191650605955,\n",
              " 'never_forget': 21.690200998246322,\n",
              " 'cannot_tell': 18.28907708359457,\n",
              " 'two_years': 12.9458705561574,\n",
              " 'indeed_!--': 15.372462749108678,\n",
              " 'most_amiable': 17.20735869706357,\n",
              " ',\"_observed': 11.710949290013575,\n",
              " 'our_lives': 19.654875413170608,\n",
              " 'think_differently': 12.463139862958485,\n",
              " 'shake_hands': 44.83992241738721,\n",
              " 'How_long': 18.446626247771526,\n",
              " 'South_End': 1381.4318689501117,\n",
              " 'perfectly_convinced': 75.68177368034593,\n",
              " 'tells_me': 12.932915913805795,\n",
              " 'bad_cold': 14.307186896320372,\n",
              " 'far_off': 27.665131723254174,\n",
              " 'am_sorry': 26.67524083393242,\n",
              " 'Ah_!\"': 17.41235304055111,\n",
              " 'an_interval': 11.127182762808692,\n",
              " 'perfectly_well': 14.848043217286914,\n",
              " 'He_paused': 28.88198206613114,\n",
              " 'can_tell': 12.430822730105128,\n",
              " 'morrow_morning': 22.316089764922395,\n",
              " 'own_feelings': 10.723815634320593,\n",
              " 'sore_throat': 129.16060985797827,\n",
              " '&_c': 4365.324705882353,\n",
              " 'well_satisfied': 19.87160797964922,\n",
              " 'looked_at': 13.030752013575848,\n",
              " 'well_pleased': 19.251395495889877,\n",
              " 'set_forward': 30.104250841148257,\n",
              " 'eldest_daughter': 86.17906911928651,\n",
              " 'short_time': 10.749383663832438,\n",
              " 'Ha_!': 53.03251532865493,\n",
              " '\"_Quite': 17.433618339633917,\n",
              " ',\"_continued': 41.17971551769827,\n",
              " 'dining_-': 27.583452274754684,\n",
              " 'such_circumstances': 10.212955347912395,\n",
              " 'enter_into': 69.91980623618285,\n",
              " 'gone_through': 11.358845786496214,\n",
              " 'turn_away': 25.69282323847976,\n",
              " ',\"_repeated': 16.023102816168517,\n",
              " 'several_times': 100.66202138582125,\n",
              " 'great_curiosity': 12.762131764948666,\n",
              " 'upper_end': 50.599001800032724,\n",
              " 'an_odd': 26.95760772433033,\n",
              " 'In_short': 17.859158861411398,\n",
              " 'dearest_Emma': 41.198769763723575,\n",
              " 'continued_Mrs': 12.808985040466856,\n",
              " 'go_home': 10.887636156851284,\n",
              " 'covered_with': 10.080468634592364,\n",
              " 'hardly_knew': 30.25731454547072,\n",
              " 'knew_how': 10.771586203292852,\n",
              " 'set_off': 12.87623069823977,\n",
              " 'can_get': 10.915759166817718,\n",
              " 'got_home': 13.02303200594452,\n",
              " 'most_extraordinary': 46.22702963501566,\n",
              " 'an_inch': 63.919483204134366,\n",
              " 'at_ease': 17.60601694199241,\n",
              " 'tete_-': 10.750473707083877,\n",
              " 'well_known': 14.650186556114896,\n",
              " 'Smith_!--': 18.891159579667644,\n",
              " 'extremely_sorry': 73.46994297481388,\n",
              " 'Every_thing': 22.46842755413457,\n",
              " 'many_weeks': 20.757955155746508,\n",
              " 'Am_I': 15.552098209854075,\n",
              " 'madam_,\"': 15.249039878189363,\n",
              " 'extremely_well': 29.947748184019368,\n",
              " '!--_Such': 19.885431136492258,\n",
              " 'poor_Harriet': 12.145847347359634,\n",
              " '-_headed': 37.268308851224106,\n",
              " 'an_instant': 43.261013866434524,\n",
              " 'thirty_thousand': 42.25608127995963,\n",
              " 'so_easily': 10.348707172705279,\n",
              " 'worth_having': 21.664774916798038,\n",
              " 'poor_girl': 16.40337746734157,\n",
              " 'laugh_at': 11.791126449054302,\n",
              " 'knowing_what': 15.75053166426834,\n",
              " 'many_days': 14.230254790394108,\n",
              " 'whole_party': 21.733756466486728,\n",
              " 'six_weeks': 18.238203373835084,\n",
              " 'too_late': 87.81454226528567,\n",
              " '-_minded': 20.81474696477942,\n",
              " 'her_companions': 11.854581263120794,\n",
              " 'drew_near': 135.39134997206745,\n",
              " 'three_months': 82.38692831354996,\n",
              " 'other_side': 28.113809270630334,\n",
              " 'an_unnatural': 19.227117273970897,\n",
              " 'get_rid': 302.70239843367597,\n",
              " 'watering_-': 20.552376204719177,\n",
              " 'while_ago': 15.477085481465169,\n",
              " 'at_Weymouth': 43.7310743397876,\n",
              " 'present_occasion': 32.735843313703434,\n",
              " 'No_,\"': 11.56716665027149,\n",
              " 'their_hearts': 18.284578085269942,\n",
              " 'break_through': 11.454968114101241,\n",
              " 'burst_forth': 49.665004880339026,\n",
              " 'young_men': 28.05813977151226,\n",
              " '-_bred': 27.95123163841808,\n",
              " 'nobody_else': 96.32925917464537,\n",
              " 'something_else': 38.92533060859677,\n",
              " 'walking_together': 11.84464959491295,\n",
              " 'burst_out': 11.102169937858887,\n",
              " '-_sized': 27.17480853735091,\n",
              " 'how_long': 10.246816619029866,\n",
              " 'Miss_Fairfax': 273.22756777255375,\n",
              " 'extremely_happy': 19.519016507275197,\n",
              " \"don_'\": 30.892577640288216,\n",
              " \"ma_'\": 29.826517196587346,\n",
              " 's_handwriting': 11.482861705288176,\n",
              " \"Ma_'\": 17.287270917893842,\n",
              " 'without_seeming': 24.251803921568627,\n",
              " 'Colonel_Campbell': 896.7708845596117,\n",
              " 'those_days': 24.94261977039944,\n",
              " 'Miss_Campbell': 75.31616124710754,\n",
              " 'most_charming': 10.48020200479592,\n",
              " 'caught_hold': 25.411776791584487,\n",
              " 'four_months': 21.51366300812301,\n",
              " 'may_guess': 13.36692964443964,\n",
              " 'Bless_me': 16.96059544124817,\n",
              " 'running_away': 11.650452540443363,\n",
              " 'My_father': 11.188894979347538,\n",
              " 'five_minutes': 145.59218386745533,\n",
              " 'nine_years': 22.042968784808547,\n",
              " 'hundred_pounds': 62.909463904241974,\n",
              " 'more_honourable': 10.64796448962444,\n",
              " 'rather_than': 19.03811275415246,\n",
              " 'few_months': 59.13801429630161,\n",
              " 'she_wished': 11.819087018586881,\n",
              " 'without_feeling': 13.668488522623221,\n",
              " 'twelve_thousand': 59.1856010235332,\n",
              " 'passed_between': 19.790738607270864,\n",
              " \",'_said\": 30.379793675936877,\n",
              " 'Miss_Hawkins': 356.6758207630878,\n",
              " 'dear_Jane': 28.087065128531204,\n",
              " 'three_minutes': 10.882367432840969,\n",
              " 'have_suffered': 12.705105290190035,\n",
              " 'hour_ago': 35.65865950134926,\n",
              " 'looked_round': 11.609345695809429,\n",
              " 'help_thinking': 32.395023572551075,\n",
              " 'a_series': 10.464298240216587,\n",
              " 'laughed_at': 12.563958901229748,\n",
              " 'weeks_ago': 66.07767923923497,\n",
              " 'She_wished': 10.481853991240559,\n",
              " 'twenty_miles': 32.079105716360615,\n",
              " 'elder_sister': 20.892601351351352,\n",
              " 'alas_!': 57.08794297143443,\n",
              " 'no_fault': 10.495943652410048,\n",
              " 'driven_away': 15.108423197384944,\n",
              " 'setting_off': 17.077163107511044,\n",
              " 'little_farther': 13.377838741396264,\n",
              " 'spot_where': 40.488884971796935,\n",
              " 'front_door': 45.13461833203179,\n",
              " 'they_parted': 10.443101887710071,\n",
              " 'without_delay': 17.832208765859285,\n",
              " 'six_months': 149.72514602185032,\n",
              " 'months_ago': 33.90373070913626,\n",
              " 'leaned_back': 12.550400811770675,\n",
              " 'at_Oxford': 14.908320797654863,\n",
              " 'turned_round': 11.258866238141938,\n",
              " 'pass_through': 22.187894661308842,\n",
              " 'clock_struck': 287.94205291005295,\n",
              " 'four_hours': 47.339972748289114,\n",
              " 'faster_than': 39.88937910393849,\n",
              " 'musical_society': 113.40931597285898,\n",
              " 'worth_while': 39.414977692797954,\n",
              " 'mixed_with': 10.669850873308452,\n",
              " 'extremely_glad': 72.78966572504707,\n",
              " 'knew_nothing': 12.448864562804845,\n",
              " 'make_amends': 67.17951224811254,\n",
              " 'amends_for': 15.103436605959109,\n",
              " 'oftener_than': 50.68297580265126,\n",
              " 'old_woman': 19.444449684793035,\n",
              " 'post_-': 12.22866384180791,\n",
              " 'just_going': 13.26013774293703,\n",
              " 'At_least': 28.035284695357834,\n",
              " 'their_lives': 14.905906047774408,\n",
              " 'six_days': 14.20782138820221,\n",
              " 'may_prove': 10.693543715551712,\n",
              " 'stronger_than': 58.08610709966773,\n",
              " 'particular_friend': 19.81788291694974,\n",
              " 'Hum_!': 26.95819529206626,\n",
              " 'good_tidings': 31.69042304845414,\n",
              " 'among_themselves': 14.912692334403358,\n",
              " 'next_summer': 20.51374391862008,\n",
              " 'breaking_up': 10.278262005104766,\n",
              " 'perfectly_safe': 16.44561748750133,\n",
              " 'two_ladies': 10.206988182478378,\n",
              " 'same_moment': 15.560860129375872,\n",
              " 'well_worth': 11.682096812278632,\n",
              " ',\"_added': 22.00020571516956,\n",
              " 'little_girls': 24.596639156806205,\n",
              " 'be_ashamed': 15.57521865836133,\n",
              " 'been_staying': 13.958581617912605,\n",
              " 'shut_up': 33.02080970890481,\n",
              " 'too_large': 13.758850077869242,\n",
              " 'At_first': 13.62235091488103,\n",
              " 'worse_than': 50.56400168104879,\n",
              " 'opposite_side': 21.484700834657843,\n",
              " 'short_pause': 86.61965123608095,\n",
              " 'large_party': 14.15971883013799,\n",
              " 'six_years': 24.75055888120844,\n",
              " 'who_knows': 17.154535367545076,\n",
              " 'extremely_fond': 34.25396034119863,\n",
              " 'or_twice': 10.479935604134893,\n",
              " 'somebody_else': 146.97092685503037,\n",
              " 'five_couple': 31.782351731935453,\n",
              " '\"_Don': 12.43524548656166,\n",
              " 'bad_news': 32.31039707419018,\n",
              " 'baked_apples': 613.5128968253968,\n",
              " 'will_send': 16.247890610812963,\n",
              " 'William_Larkins': 5074.223589743589,\n",
              " 'low_voice': 55.283668345011634,\n",
              " 'one_leg': 10.745803649000868,\n",
              " 'an_immediate': 14.761464229693788,\n",
              " 'Tell_me': 25.092668376242766,\n",
              " ',\"_resumed': 28.97963722613529,\n",
              " 'many_times': 11.523152448113748,\n",
              " 'Nothing_can': 15.5144376709064,\n",
              " 'few_words': 11.709704106675987,\n",
              " 'no_objection': 30.84522216218463,\n",
              " 'It_seems': 18.227904675031336,\n",
              " 'astonished_at': 13.982976748145251,\n",
              " 'four_times': 17.904617144015226,\n",
              " 'other_end': 10.241020603889318,\n",
              " 'few_hours': 78.07853039580834,\n",
              " 'an_extraordinary': 10.355991878257594,\n",
              " 'look_forward': 11.731590179742954,\n",
              " 'Alas_!': 24.207359037773784,\n",
              " 'immediately_followed': 12.604630780832807,\n",
              " 'wait_till': 29.399153804709538,\n",
              " '-_bye': 39.93033091202583,\n",
              " 'contrast_between': 166.24220430107528,\n",
              " 'dared_not': 11.783382014386875,\n",
              " 'three_weeks': 21.40939225562999,\n",
              " '-_sighted': 32.25142112125163,\n",
              " 'Maple_Grove': 16731.47346514048,\n",
              " 'My_brother': 11.063251359603091,\n",
              " 'at_Maple': 11.541925778829572,\n",
              " 'almost_fancy': 16.725382014874917,\n",
              " 'left_behind': 29.19139358595579,\n",
              " 'barouche_-': 13.97561581920904,\n",
              " '-_landau': 19.965165456012915,\n",
              " 'whose_name': 31.460744776298874,\n",
              " 'most_serious': 10.186756348661634,\n",
              " 'We_cannot': 11.86846921192564,\n",
              " 'waited_for': 10.711792586527258,\n",
              " 'E_.,': 566.3195970695971,\n",
              " 'person_who': 10.409305441471528,\n",
              " 'greater_part': 16.18360863375623,\n",
              " 'drew_back': 15.195552552368083,\n",
              " 'Her_manners': 10.694144704987204,\n",
              " 'third_time': 13.58362630188472,\n",
              " 'very_extraordinary': 11.12691105559154,\n",
              " 'better_acquainted': 13.449782514136581,\n",
              " 'According_to': 10.652559050879573,\n",
              " 'have_committed': 16.773483913206135,\n",
              " 'hardly_less': 12.999957957579197,\n",
              " 'will_shew': 12.349694416837725,\n",
              " 'little_boys': 17.749466634776372,\n",
              " 'easily_believe': 21.82456945228684,\n",
              " 'my_lord': 36.09212316660775,\n",
              " '\"_Excuse': 17.18456664906772,\n",
              " 'Excuse_me': 37.6902120916626,\n",
              " 'put_forth': 10.696077873443938,\n",
              " 'drawing_near': 18.702625052924454,\n",
              " 'great_joy': 10.008039650578848,\n",
              " 'eight_o': 65.15181205225453,\n",
              " 'spread_abroad': 194.30906996229578,\n",
              " 'few_lines': 43.57778059642595,\n",
              " 'good_news': 24.794821736984947,\n",
              " 'most_likely': 19.419197832415968,\n",
              " 'talk_about': 21.82456945228684,\n",
              " 'tells_us': 30.445234478296342,\n",
              " 'dear_madam': 68.52158400921863,\n",
              " 'eleven_years': 16.99145510495659,\n",
              " 'your_sister': 15.96501961999174,\n",
              " 'two_hours': 15.078657986492088,\n",
              " 'two_months': 19.986458535324154,\n",
              " 'door_opened': 32.95997776754137,\n",
              " 'Who_can': 10.979605329969967,\n",
              " 'began_talking': 13.574813692886854,\n",
              " 'mean_?\"': 26.417439208554274,\n",
              " 'In_spite': 11.906105907607598,\n",
              " 'many_hours': 13.12438455008489,\n",
              " 'few_steps': 22.23496206809765,\n",
              " 'most_excellent': 12.940493329092522,\n",
              " 'later_than': 11.966813731181547,\n",
              " 'whole_story': 36.394832862523536,\n",
              " 'whole_history': 19.243869803335823,\n",
              " 'lined_with': 13.540103155017157,\n",
              " '-_plaister': 17.4695197740113,\n",
              " 'Lord_bless': 16.701184413580247,\n",
              " 'these_things': 42.22024236217784,\n",
              " 'laid_down': 12.408517237129121,\n",
              " 'forty_years': 161.26435572340617,\n",
              " 'faint_smile': 24.270839874411305,\n",
              " 'turned_towards': 11.117214558790044,\n",
              " 'totally_different': 158.3259088581669,\n",
              " 'Box_Hill': 8589.180555555555,\n",
              " 'some_surprise': 22.39728373344371,\n",
              " 'may_depend': 21.164305270362764,\n",
              " ',\"_interrupted': 30.235165275720284,\n",
              " 'whatever_else': 18.739462440532105,\n",
              " 'mid_-': 25.824507492016703,\n",
              " 'larger_than': 19.006115925994223,\n",
              " 'were_assembled': 18.151482242442032,\n",
              " 'insisted_on': 11.611141360470139,\n",
              " 'clothed_with': 12.658921838579532,\n",
              " 'twenty_minutes': 11.181099087860133,\n",
              " 'quite_alone': 11.34125512474631,\n",
              " 'etc_.,': 3964.237179487179,\n",
              " 'As_soon': 20.834318136064653,\n",
              " 'without_knowing': 34.569457344341245,\n",
              " ',\"_whispered': 26.71560306784347,\n",
              " \"shan_'\": 22.473452193261995,\n",
              " 'looking_round': 17.251680754316958,\n",
              " 'Pardon_me': 10.147364793909164,\n",
              " ',\"_answered': 22.574837953998617,\n",
              " 'An_old': 19.494650501535183,\n",
              " 'Shall_we': 13.344431737263449,\n",
              " 'old_age': 48.2305151350481,\n",
              " 'an_infant': 23.77170862963675,\n",
              " 'be_forgiven': 18.33315259385065,\n",
              " 'lie_down': 31.29163861453632,\n",
              " 'four_miles': 16.30599061329958,\n",
              " 'great_hurry': 19.653682918020948,\n",
              " 'without_waiting': 19.24746342981637,\n",
              " 'comes_back': 15.420287686817213,\n",
              " 'heightened_by': 11.874899189677024,\n",
              " 'In_fact': 39.68262953497974,\n",
              " 'cut_off': 155.49937138546645,\n",
              " 'never_mind': 11.197235791371655,\n",
              " 'trembling_voice': 11.950048791799114,\n",
              " 'More_than': 24.232797805642633,\n",
              " 'time_past': 13.32652296494053,\n",
              " 'second_time': 20.94530935870325,\n",
              " 'five_hundred': 85.88703405366368,\n",
              " 'turning_away': 10.732190271245857,\n",
              " 'an_arrow': 14.857317893522966,\n",
              " '--_oh': 12.810820328683883,\n",
              " 'presented_themselves': 11.894541467918142,\n",
              " 'at_random': 18.66781039010696,\n",
              " 'far_distant': 26.635412180205016,\n",
              " 'few_seconds': 96.54154470592827,\n",
              " 'passing_through': 15.455115709501674,\n",
              " 'will_heal': 10.57744672117128,\n",
              " 'rose_early': 50.250699385933345,\n",
              " 'east_wind': 148.38612561750176,\n",
              " 'gone_mad': 20.604417938295462,\n",
              " 'freed_from': 25.542343339556247,\n",
              " 'sinned_against': 81.41629018847007,\n",
              " 'locked_up': 13.137628126825643,\n",
              " 'deep_sigh': 47.7618937287612,\n",
              " 'ten_thousand': 127.07678714010615,\n",
              " 'happier_than': 23.413331213181287,\n",
              " 'contend_with': 10.669850873308452,\n",
              " 'had_formerly': 11.685871610947764,\n",
              " 'little_boy': 26.45163569321534,\n",
              " 'fancying_herself': 29.039303155522166,\n",
              " 'right_hand': 45.67275064863757,\n",
              " 'surrounded_by': 30.406938834172983,\n",
              " 'infinitely_more': 12.604887693122986,\n",
              " 'such_cases': 14.9147687533664,\n",
              " 'No_wonder': 19.25353071890846,\n",
              " 'poor_fellow': 72.63216713721062,\n",
              " 'Poor_fellow': 45.430376492194675,\n",
              " 'days_ago': 15.442637278485753,\n",
              " 'help_laughing': 20.696820615796522,\n",
              " 'draw_near': 83.03353576666461,\n",
              " 'at_intervals': 31.38593852137866,\n",
              " 'into_temptation': 11.801251836726905,\n",
              " 'stood_before': 10.3924315864046,\n",
              " 'Sir_Walter': 1001.312012557628,\n",
              " 'Walter_Elliot': 158.52514448173005,\n",
              " 'Kellynch_Hall': 4945.285774410774,\n",
              " 'arising_from': 10.216937335822498,\n",
              " 'Charles_Musgrove': 248.91721824686942,\n",
              " 'first_year': 36.52536994480359,\n",
              " 'Lady_Elliot': 34.95596737726098,\n",
              " 'seventeen_years': 50.974365314869765,\n",
              " 'an_awful': 15.611271338865924,\n",
              " 'Lady_Russell': 1370.622475417512,\n",
              " 'Anne_Elliot': 69.51674910071942,\n",
              " 'Miss_Elliot': 81.92874088041013,\n",
              " 'everybody_else': 116.64359274208759,\n",
              " 'her_mistress': 10.11840289117327,\n",
              " 'Mr_Elliot': 154.42250147754137,\n",
              " 'Mr_Shepherd': 153.50875886524824,\n",
              " 'anybody_else': 167.7955535959572,\n",
              " 'reference_to': 10.087650616363232,\n",
              " 'an_honest': 22.111184865066534,\n",
              " 'descend_into': 19.58505623967444,\n",
              " 'Mrs_Clay': 287.0445438704621,\n",
              " 'Miss_Anne': 13.81699361008088,\n",
              " 'their_fathers': 21.038472507920055,\n",
              " 'an_example': 17.82878147222756,\n",
              " 'Admiral_Croft': 1020.8710564930301,\n",
              " 'Mrs_Croft': 207.37305091376516,\n",
              " 'walked_along': 11.422274896105895,\n",
              " 'Frederick_Wentworth': 23.252406376898783,\n",
              " 'either_side': 19.363312306866,\n",
              " 'Captain_Wentworth': 976.2658980080998,\n",
              " 'eldest_son': 39.758333601208655,\n",
              " 'removed_from': 14.303712270151498,\n",
              " 'good_humour': 57.21881939304219,\n",
              " 'The_Crofts': 10.249618801378945,\n",
              " 'startled_by': 14.177175563185834,\n",
              " 'most_important': 33.80560735175321,\n",
              " 'replied_Anne': 13.874444726962713,\n",
              " 'at_Uppercross': 13.940248018586367,\n",
              " 'Great_House': 1177.944761904762,\n",
              " 'left_alone': 14.135748364627752,\n",
              " 'Mr_Musgrove': 32.388661211129296,\n",
              " 'Miss_Musgroves': 227.52303763499037,\n",
              " 'Mrs_Musgrove': 156.7704816523293,\n",
              " 'flower_-': 13.524789502460361,\n",
              " 'grown_up': 12.21891287320147,\n",
              " 'their_faces': 22.656977192617102,\n",
              " 'surprised_at': 14.056416752074586,\n",
              " 'ere_long': 33.88236905544598,\n",
              " 'anything_else': 74.81068120893052,\n",
              " 'quite_different': 19.349238133975785,\n",
              " 'their_sakes': 16.878072078710716,\n",
              " 'twentieth_year': 185.54485448544855,\n",
              " 'on_board': 34.25698443940126,\n",
              " 'eight_years': 61.89744359662757,\n",
              " '-_bone': 13.499174370826912,\n",
              " 'their_heads': 21.62117992564767,\n",
              " 'Your_sister': 24.014484311898105,\n",
              " 'dressing_-': 29.645245677110086,\n",
              " 'up_stairs': 14.51249618660972,\n",
              " 'waited_till': 12.054520291606565,\n",
              " 'third_part': 80.67867146551659,\n",
              " 'Phoo_!': 23.962840259614456,\n",
              " 'dear_fellow': 20.631226021684736,\n",
              " 'good_cheer': 58.85364280427197,\n",
              " 'Mrs_Harville': 84.63892670628489,\n",
              " '\"_Ay': 18.457497511961623,\n",
              " 'fifteen_years': 52.05892627901593,\n",
              " 'Charles_Hayter': 2649.2943696450425,\n",
              " 'came_near': 11.627278418555207,\n",
              " 'Her_husband': 21.943829394649068,\n",
              " 'two_hundred': 34.52901130958137,\n",
              " 'Dr_Shirley': 1086.3785682916118,\n",
              " 'went_up': 10.892879248012838,\n",
              " 'within_reach': 18.479083248670293,\n",
              " '-_yard': 16.037591923682506,\n",
              " 'turn_back': 10.596023199431151,\n",
              " 'walking_along': 19.12445108751675,\n",
              " 'leaning_against': 23.700128657852236,\n",
              " 'trodden_under': 72.24544392523364,\n",
              " 'under_foot': 22.229367361610354,\n",
              " 'Louisa_Musgrove': 189.52528348145879,\n",
              " 'provoke_me': 16.48946779010239,\n",
              " 'Very_good': 10.325200491977538,\n",
              " 'good_humoured': 26.15717457967643,\n",
              " 'Captain_Harville': 475.42275075075077,\n",
              " 'at_Lyme': 20.29311726486752,\n",
              " 'earnest_desire': 32.790084835630964,\n",
              " 'Captain_Benwick': 811.8267953667954,\n",
              " 'an_officer': 10.895366455250176,\n",
              " 'place_where': 29.883357272686972,\n",
              " '-_coat': 13.073963185711682,\n",
              " 'an_introduction': 10.895366455250176,\n",
              " 'preceding_evening': 48.9411997467553,\n",
              " 'an_agony': 15.202836914302571,\n",
              " 'catching_hold': 135.5294762217839,\n",
              " 'raised_up': 20.91745260416373,\n",
              " 'could_scarcely': 17.38407263731939,\n",
              " 'passed_along': 16.544168004280362,\n",
              " 'leaning_over': 33.66056062742769,\n",
              " 't_talk': 11.570517138152972,\n",
              " 'Camden_Place': 11505.506976744186,\n",
              " 'straight_forward': 11.997691337666117,\n",
              " 'same_hour': 12.921683411398027,\n",
              " '-_glasses': 16.35444404375526,\n",
              " 'poring_over': 41.31068804275217,\n",
              " 'thirty_feet': 12.120752621435336,\n",
              " 'Colonel_Wallis': 967.3744677153037,\n",
              " 'Mrs_Wallis': 54.178544833326036,\n",
              " '-_haired': 60.68359500446031,\n",
              " 'at_length': 17.88998495718584,\n",
              " 'carried_away': 68.93771731236752,\n",
              " 'greater_than': 48.182171075546755,\n",
              " 'Miss_Carteret': 320.0936853002071,\n",
              " 'contact_with': 11.025512569085398,\n",
              " 'Lady_Dalrymple': 1027.2774086378738,\n",
              " 'Laura_Place': 777.3991200502828,\n",
              " 'be_established': 13.256107901092253,\n",
              " 'Mrs_Smith': 111.99977591965032,\n",
              " 'Westgate_Buildings': 8589.180555555555,\n",
              " 'buried_him': 10.212015743068294,\n",
              " 'at_liberty': 14.03136075073399,\n",
              " 'human_nature': 43.51094068810244,\n",
              " 'five_thousand': 37.910597744077265,\n",
              " 'whose_names': 20.29106718070708,\n",
              " 'her_ladyship': 34.12236790377201,\n",
              " '-_maker': 26.620220608017217,\n",
              " 'old_gentleman': 27.054312400201237,\n",
              " 'almost_entirely': 36.10558657179347,\n",
              " 'lower_part': 15.927465187754331,\n",
              " 'staring_at': 25.04597894006017,\n",
              " 'an_oath': 44.98731955716202,\n",
              " 'wiser_than': 29.373088249263798,\n",
              " 'prejudice_against': 39.177763699714916,\n",
              " 'both_sides': 99.67073029216844,\n",
              " 'my_soul': 16.443509373671976,\n",
              " 'rejoice_over': 10.11690319414339,\n",
              " 'same_instant': 25.162444780283654,\n",
              " 'every_one': 14.671392435905245,\n",
              " 'their_seats': 12.658554059033037,\n",
              " 'their_mouths': 26.497142818484406,\n",
              " 'short_silence': 19.427041120849434,\n",
              " '-_blooded': 17.4695197740113,\n",
              " 'general_character': 10.833526031812768,\n",
              " 'fifty_pounds': 35.380799816923165,\n",
              " 'be_saved': 13.4097233300756,\n",
              " 'threw_himself': 10.029912473712379,\n",
              " 'some_moments': 21.006148097826088,\n",
              " 'exclaimed_Mrs': 12.149128235351897,\n",
              " 'compassion_on': 13.01248600742343,\n",
              " 'an_explanation': 16.343049682875264,\n",
              " 'our_hearts': 14.94420279348509,\n",
              " 'minutes_afterwards': 22.216989096657148,\n",
              " 'make_haste': 50.38463418608441,\n",
              " \"'_n\": 22.533063472289214,\n",
              " \"n_'\": 16.09504533734944,\n",
              " 'rising_sun': 13.065738461700983,\n",
              " '-_faced': 42.60858481466171,\n",
              " 'an_atonement': 89.61132859823739,\n",
              " 'atonement_for': 24.315805643301744,\n",
              " '\"_Look': 10.09252327008739,\n",
              " 'Look_here': 26.311681865240885,\n",
              " ...}"
            ]
          },
          "execution_count": 23,
          "metadata": {},
          "output_type": "execute_result"
        }
      ],
      "source": [
        "# output a dictionary of the count and score of each bigram\n",
        "bigram.phrasegrams"
      ]
    },
    {
      "cell_type": "code",
      "execution_count": 24,
      "metadata": {
        "id": "mLtbgkQD4n3z"
      },
      "outputs": [],
      "source": [
        "# Simple bigram example\n",
        "# Let’s tokenize a short sentence by using the split() method on a string of characters wherever there’s a space\n",
        "tokenized_sentence = \"Jon lives in New York City\".split()"
      ]
    },
    {
      "cell_type": "code",
      "execution_count": 25,
      "metadata": {
        "colab": {
          "base_uri": "https://localhost:8080/"
        },
        "id": "eemkHo0i4n3z",
        "outputId": "ec8895c3-1ed1-4e74-e7cd-0db27d8041c2"
      },
      "outputs": [
        {
          "data": {
            "text/plain": [
              "['Jon', 'lives', 'in', 'New', 'York', 'City']"
            ]
          },
          "execution_count": 25,
          "metadata": {},
          "output_type": "execute_result"
        }
      ],
      "source": [
        "tokenized_sentence"
      ]
    },
    {
      "cell_type": "code",
      "execution_count": 26,
      "metadata": {
        "colab": {
          "base_uri": "https://localhost:8080/"
        },
        "id": "j28QxxGK4n30",
        "outputId": "2969f131-4fcb-40d8-8b5d-0e5068253422"
      },
      "outputs": [
        {
          "data": {
            "text/plain": [
              "['Jon', 'lives', 'in', 'New_York', 'City']"
            ]
          },
          "execution_count": 26,
          "metadata": {},
          "output_type": "execute_result"
        }
      ],
      "source": [
        "bigram[tokenized_sentence]"
      ]
    },
    {
      "cell_type": "markdown",
      "metadata": {
        "id": "DM0tEId94n30"
      },
      "source": [
        "## Preprocess the Full corpus"
      ]
    },
    {
      "cell_type": "markdown",
      "metadata": {
        "id": "l1-HKTF6o6E9"
      },
      "source": [
        "Removing capitalization and punctuation from Project Gutenberg\n",
        "corpus"
      ]
    },
    {
      "cell_type": "code",
      "execution_count": 27,
      "metadata": {
        "id": "VjAAh-Ev4n30"
      },
      "outputs": [],
      "source": [
        "# as in Maas et al. (2001):\n",
        "# - leave in stop words (\"indicative of sentiment\")\n",
        "# - no stemming (\"model learns similar representations of words of the same stem when data suggests it\")\n",
        "lower_sents = []\n",
        "for s in gberg_sents:\n",
        "    lower_sents.append([w.lower() for w in s if w.lower()\n",
        "                        not in list(string.punctuation)])"
      ]
    },
    {
      "cell_type": "code",
      "execution_count": 28,
      "metadata": {
        "colab": {
          "base_uri": "https://localhost:8080/"
        },
        "id": "p5MU-ajU4n37",
        "outputId": "58860590-18ff-48d9-80c1-5ff26e0948b8"
      },
      "outputs": [
        {
          "data": {
            "text/plain": [
              "[['emma', 'by', 'jane', 'austen', '1816'],\n",
              " ['volume', 'i'],\n",
              " ['chapter', 'i'],\n",
              " ['emma',\n",
              "  'woodhouse',\n",
              "  'handsome',\n",
              "  'clever',\n",
              "  'and',\n",
              "  'rich',\n",
              "  'with',\n",
              "  'a',\n",
              "  'comfortable',\n",
              "  'home',\n",
              "  'and',\n",
              "  'happy',\n",
              "  'disposition',\n",
              "  'seemed',\n",
              "  'to',\n",
              "  'unite',\n",
              "  'some',\n",
              "  'of',\n",
              "  'the',\n",
              "  'best',\n",
              "  'blessings',\n",
              "  'of',\n",
              "  'existence',\n",
              "  'and',\n",
              "  'had',\n",
              "  'lived',\n",
              "  'nearly',\n",
              "  'twenty',\n",
              "  'one',\n",
              "  'years',\n",
              "  'in',\n",
              "  'the',\n",
              "  'world',\n",
              "  'with',\n",
              "  'very',\n",
              "  'little',\n",
              "  'to',\n",
              "  'distress',\n",
              "  'or',\n",
              "  'vex',\n",
              "  'her'],\n",
              " ['she',\n",
              "  'was',\n",
              "  'the',\n",
              "  'youngest',\n",
              "  'of',\n",
              "  'the',\n",
              "  'two',\n",
              "  'daughters',\n",
              "  'of',\n",
              "  'a',\n",
              "  'most',\n",
              "  'affectionate',\n",
              "  'indulgent',\n",
              "  'father',\n",
              "  'and',\n",
              "  'had',\n",
              "  'in',\n",
              "  'consequence',\n",
              "  'of',\n",
              "  'her',\n",
              "  'sister',\n",
              "  's',\n",
              "  'marriage',\n",
              "  'been',\n",
              "  'mistress',\n",
              "  'of',\n",
              "  'his',\n",
              "  'house',\n",
              "  'from',\n",
              "  'a',\n",
              "  'very',\n",
              "  'early',\n",
              "  'period']]"
            ]
          },
          "execution_count": 28,
          "metadata": {},
          "output_type": "execute_result"
        }
      ],
      "source": [
        "lower_sents[0:5]"
      ]
    },
    {
      "cell_type": "code",
      "execution_count": 29,
      "metadata": {
        "id": "7Ayoii814n37"
      },
      "outputs": [],
      "source": [
        "# we created our gensim lower_bigram object in a single line by chaining the Phrases() and Phraser() methods together\n",
        "lower_bigram = Phraser(Phrases(lower_sents))"
      ]
    },
    {
      "cell_type": "code",
      "execution_count": null,
      "metadata": {
        "id": "A_V627LG4n37"
      },
      "outputs": [],
      "source": [
        "lower_bigram.phrasegrams # miss taylor, mr woodhouse, mr weston"
      ]
    },
    {
      "cell_type": "code",
      "execution_count": null,
      "metadata": {
        "colab": {
          "base_uri": "https://localhost:8080/"
        },
        "id": "vFRIedQ54n37",
        "outputId": "e67bfa00-d003-43ad-d18e-2bf851d49b6e"
      },
      "outputs": [],
      "source": [
        "# with optional arguments\n",
        "lower_bigram = Phraser(Phrases(lower_sents,\n",
        "                               min_count=32, threshold=64))\n",
        "lower_bigram.phrasegrams"
      ]
    },
    {
      "cell_type": "markdown",
      "metadata": {
        "id": "bUuFiy8pqh17"
      },
      "source": [
        "Creating a “clean” corpus that includes bigrams"
      ]
    },
    {
      "cell_type": "code",
      "execution_count": 32,
      "metadata": {
        "id": "bFo9YmIE4n37"
      },
      "outputs": [],
      "source": [
        "clean_sents = []\n",
        "for s in lower_sents:\n",
        "    clean_sents.append(lower_bigram[s])"
      ]
    },
    {
      "cell_type": "code",
      "execution_count": 33,
      "metadata": {
        "colab": {
          "base_uri": "https://localhost:8080/"
        },
        "id": "g2KKUQJV4n38",
        "outputId": "f947d0b6-3b8d-46d3-c817-1ddc9cae89f7"
      },
      "outputs": [
        {
          "data": {
            "text/plain": [
              "['sixteen',\n",
              " 'years',\n",
              " 'had',\n",
              " 'miss_taylor',\n",
              " 'been',\n",
              " 'in',\n",
              " 'mr_woodhouse',\n",
              " 's',\n",
              " 'family',\n",
              " 'less',\n",
              " 'as',\n",
              " 'a',\n",
              " 'governess',\n",
              " 'than',\n",
              " 'a',\n",
              " 'friend',\n",
              " 'very',\n",
              " 'fond',\n",
              " 'of',\n",
              " 'both',\n",
              " 'daughters',\n",
              " 'but',\n",
              " 'particularly',\n",
              " 'of',\n",
              " 'emma']"
            ]
          },
          "execution_count": 33,
          "metadata": {},
          "output_type": "execute_result"
        }
      ],
      "source": [
        "clean_sents[6]"
      ]
    },
    {
      "cell_type": "markdown",
      "metadata": {
        "id": "vn8u7lye4n38"
      },
      "source": [
        "## Run word2vec"
      ]
    },
    {
      "cell_type": "code",
      "execution_count": 39,
      "metadata": {
        "id": "IWnpNHVx4n38"
      },
      "outputs": [],
      "source": [
        "# max_vocab_size can be used instead of min_count (which has increased here)\n",
        "model = Word2Vec(sentences=clean_sents, vector_size=64,\n",
        "                 sg=1, window=10, epochs=5,\n",
        "                 min_count=10, workers=4)\n",
        "model.save('clean_gutenberg_model.w2v')"
      ]
    },
    {
      "cell_type": "markdown",
      "metadata": {
        "id": "NYQckJNT4n38"
      },
      "source": [
        "#### Explore model"
      ]
    },
    {
      "cell_type": "code",
      "execution_count": 40,
      "metadata": {
        "id": "LHjXiybm4n38"
      },
      "outputs": [],
      "source": [
        "# Upload \"clean_guttenberg_model.w2v\"\n",
        "# skip re-training the model with the next line:\n",
        "model = gensim.models.Word2Vec.load('clean_gutenberg_model.w2v')"
      ]
    },
    {
      "cell_type": "code",
      "execution_count": 41,
      "metadata": {
        "colab": {
          "base_uri": "https://localhost:8080/"
        },
        "id": "7PkHt74w4n38",
        "outputId": "8055e5a0-7aea-4f9b-ae6c-09dbee186d71"
      },
      "outputs": [
        {
          "data": {
            "text/plain": [
              "array([-0.4081911 , -0.20401837, -0.12628075, -0.05416077,  0.26510674,\n",
              "       -0.17649429,  0.01088718,  0.14090064, -0.25193948,  0.4471024 ,\n",
              "       -0.02727524, -0.1253992 , -0.22924401, -0.24327518, -0.23137133,\n",
              "       -0.37040186,  0.21884792,  0.33565503, -0.4888107 ,  0.11813794,\n",
              "        0.32214525,  0.45588464,  0.48107997, -0.21744157, -0.13726014,\n",
              "        0.2984098 , -0.4083975 ,  0.24696778,  0.5099553 , -0.25692332,\n",
              "       -0.02003153, -0.08580012, -0.08220891, -0.15324073,  0.03143491,\n",
              "       -0.20332326,  0.4918123 , -0.11059658,  0.17251803,  0.28138605,\n",
              "       -0.16148609,  0.02482043, -0.5128453 , -0.50178266,  0.3954742 ,\n",
              "       -0.09777193, -0.38867566, -0.22225307, -0.3258133 ,  0.3240435 ,\n",
              "        0.03766909,  0.22139783,  0.35263446, -0.12312216,  0.35987145,\n",
              "        0.36468813,  0.18062122,  0.34543192,  0.00187585,  0.3423723 ,\n",
              "       -0.11415949, -0.03092173, -0.43742034, -0.18457554], dtype=float32)"
            ]
          },
          "execution_count": 41,
          "metadata": {},
          "output_type": "execute_result"
        }
      ],
      "source": [
        "# 64 dimensional vector\n",
        "model.wv['dog']"
      ]
    },
    {
      "cell_type": "code",
      "execution_count": 42,
      "metadata": {
        "colab": {
          "base_uri": "https://localhost:8080/"
        },
        "id": "acuKzASi4n38",
        "outputId": "710193fd-b547-49ec-8e90-b0dcf82e6ee7"
      },
      "outputs": [
        {
          "data": {
            "text/plain": [
              "64"
            ]
          },
          "execution_count": 42,
          "metadata": {},
          "output_type": "execute_result"
        }
      ],
      "source": [
        "len(model.wv['dog'])"
      ]
    },
    {
      "cell_type": "code",
      "execution_count": 43,
      "metadata": {
        "colab": {
          "base_uri": "https://localhost:8080/"
        },
        "id": "pZW3jvr54n39",
        "outputId": "cadef334-c1b3-4848-f622-1accb9156471"
      },
      "outputs": [
        {
          "data": {
            "text/plain": [
              "[('puppy', 0.7970860004425049),\n",
              " ('pet', 0.7906566262245178),\n",
              " ('cage', 0.755458414554596)]"
            ]
          },
          "execution_count": 43,
          "metadata": {},
          "output_type": "execute_result"
        }
      ],
      "source": [
        "model.wv.most_similar('dog', topn=3)"
      ]
    },
    {
      "cell_type": "code",
      "execution_count": 44,
      "metadata": {
        "colab": {
          "base_uri": "https://localhost:8080/"
        },
        "id": "ZzMtCy2g4n39",
        "outputId": "65d70aa0-5aff-4805-c6d8-41acd4f7effd"
      },
      "outputs": [
        {
          "data": {
            "text/plain": [
              "[('bread', 0.8599131107330322),\n",
              " ('drink', 0.812942624092102),\n",
              " ('meat', 0.7550645470619202)]"
            ]
          },
          "execution_count": 44,
          "metadata": {},
          "output_type": "execute_result"
        }
      ],
      "source": [
        "model.wv.most_similar('eat', topn=3)"
      ]
    },
    {
      "cell_type": "code",
      "execution_count": 45,
      "metadata": {
        "colab": {
          "base_uri": "https://localhost:8080/"
        },
        "id": "sviZzcHm4n39",
        "outputId": "f81ae67e-55f7-410a-f13c-c10332b1f7ee"
      },
      "outputs": [
        {
          "data": {
            "text/plain": [
              "[('morning', 0.7677834033966064),\n",
              " ('night', 0.7550985813140869),\n",
              " ('week', 0.7525852918624878)]"
            ]
          },
          "execution_count": 45,
          "metadata": {},
          "output_type": "execute_result"
        }
      ],
      "source": [
        "model.wv.most_similar('day', topn=3)"
      ]
    },
    {
      "cell_type": "code",
      "execution_count": 46,
      "metadata": {
        "colab": {
          "base_uri": "https://localhost:8080/"
        },
        "id": "QkHo2snG4n39",
        "outputId": "f252ff70-cb34-49bf-cc05-fe86f6db4e3f"
      },
      "outputs": [
        {
          "data": {
            "text/plain": [
              "[('mother', 0.8024529814720154),\n",
              " ('sister', 0.7305725812911987),\n",
              " ('brother', 0.7280907034873962)]"
            ]
          },
          "execution_count": 46,
          "metadata": {},
          "output_type": "execute_result"
        }
      ],
      "source": [
        "model.wv.most_similar('father', topn=3)"
      ]
    },
    {
      "cell_type": "code",
      "execution_count": 48,
      "metadata": {
        "colab": {
          "base_uri": "https://localhost:8080/"
        },
        "id": "tfMjXgqz4n39",
        "outputId": "70443024-31bd-4347-985b-490415a65402"
      },
      "outputs": [
        {
          "data": {
            "text/plain": [
              "[('betty', 0.8525012731552124),\n",
              " ('m_sure', 0.8476787805557251),\n",
              " ('mamma', 0.8300531506538391)]"
            ]
          },
          "execution_count": 48,
          "metadata": {},
          "output_type": "execute_result"
        }
      ],
      "source": [
        "model.wv.most_similar('ma_am', topn=3)"
      ]
    },
    {
      "cell_type": "code",
      "execution_count": 49,
      "metadata": {
        "colab": {
          "base_uri": "https://localhost:8080/",
          "height": 36
        },
        "id": "Mdn1oLcy4n39",
        "outputId": "725ec63b-b5ba-49bc-978b-2c898dbce3e7"
      },
      "outputs": [
        {
          "data": {
            "text/plain": [
              "'dog'"
            ]
          },
          "execution_count": 49,
          "metadata": {},
          "output_type": "execute_result"
        }
      ],
      "source": [
        "model.wv.doesnt_match(\"mother father sister brother dog\".split())"
      ]
    },
    {
      "cell_type": "code",
      "execution_count": 50,
      "metadata": {
        "colab": {
          "base_uri": "https://localhost:8080/"
        },
        "id": "HMMI8QOu4n39",
        "outputId": "f7ec2bf6-191a-49ea-d9f1-1a832ffff8ef"
      },
      "outputs": [
        {
          "data": {
            "text/plain": [
              "0.52255905"
            ]
          },
          "execution_count": 50,
          "metadata": {},
          "output_type": "execute_result"
        }
      ],
      "source": [
        "model.wv.similarity('father', 'dog')"
      ]
    },
    {
      "cell_type": "code",
      "execution_count": 51,
      "metadata": {
        "colab": {
          "base_uri": "https://localhost:8080/"
        },
        "id": "ioxtkVyu4n39",
        "outputId": "1024871a-962e-45be-bd91-6da224f191b9"
      },
      "outputs": [
        {
          "data": {
            "text/plain": [
              "[('mother', 0.7764347791671753),\n",
              " ('wife', 0.7588748931884766),\n",
              " ('sister', 0.7586783170700073),\n",
              " ('daughter', 0.7506245374679565),\n",
              " ('husband', 0.725021243095398),\n",
              " ('isaac', 0.7068718075752258),\n",
              " ('tamar', 0.6814970374107361),\n",
              " ('daughters', 0.6788557767868042),\n",
              " ('sarah', 0.6775580048561096),\n",
              " ('rebekah', 0.6643305420875549)]"
            ]
          },
          "execution_count": 51,
          "metadata": {},
          "output_type": "execute_result"
        }
      ],
      "source": [
        "# father - man + woman\n",
        "model.wv.most_similar(positive=['father', 'woman'], negative=['man'])"
      ]
    },
    {
      "cell_type": "code",
      "execution_count": 52,
      "metadata": {
        "colab": {
          "base_uri": "https://localhost:8080/"
        },
        "id": "RrvQ81ZQ4n3-",
        "outputId": "f44b8ff3-035e-422f-b472-19987f2b5e82"
      },
      "outputs": [
        {
          "data": {
            "text/plain": [
              "[('wife', 0.7172253727912903),\n",
              " ('daughter', 0.6936959028244019),\n",
              " ('sister', 0.6855185627937317),\n",
              " ('mother', 0.6728118062019348),\n",
              " ('maid', 0.6583749055862427),\n",
              " ('child', 0.6517794132232666),\n",
              " ('conceived', 0.6367018222808838),\n",
              " ('elder', 0.6221467852592468),\n",
              " ('harlot', 0.6205224990844727),\n",
              " ('nurse', 0.6038546562194824)]"
            ]
          },
          "execution_count": 52,
          "metadata": {},
          "output_type": "execute_result"
        }
      ],
      "source": [
        "# husband - man + woman\n",
        "model.wv.most_similar(positive=['husband', 'woman'], negative=['man'])"
      ]
    },
    {
      "cell_type": "markdown",
      "metadata": {
        "id": "r-AhkySj4n3-"
      },
      "source": [
        "#### Visualise"
      ]
    },
    {
      "cell_type": "code",
      "execution_count": 53,
      "metadata": {
        "colab": {
          "base_uri": "https://localhost:8080/",
          "height": 206
        },
        "id": "7D8Rno8_4n3_",
        "outputId": "0b663407-4174-4325-ea03-c11455f04202"
      },
      "outputs": [
        {
          "data": {
            "text/html": [
              "<div>\n",
              "<style scoped>\n",
              "    .dataframe tbody tr th:only-of-type {\n",
              "        vertical-align: middle;\n",
              "    }\n",
              "\n",
              "    .dataframe tbody tr th {\n",
              "        vertical-align: top;\n",
              "    }\n",
              "\n",
              "    .dataframe thead th {\n",
              "        text-align: right;\n",
              "    }\n",
              "</style>\n",
              "<table border=\"1\" class=\"dataframe\">\n",
              "  <thead>\n",
              "    <tr style=\"text-align: right;\">\n",
              "      <th></th>\n",
              "      <th>x</th>\n",
              "      <th>y</th>\n",
              "      <th>token</th>\n",
              "    </tr>\n",
              "  </thead>\n",
              "  <tbody>\n",
              "    <tr>\n",
              "      <th>0</th>\n",
              "      <td>62.494060</td>\n",
              "      <td>8.023034</td>\n",
              "      <td>emma</td>\n",
              "    </tr>\n",
              "    <tr>\n",
              "      <th>1</th>\n",
              "      <td>8.142986</td>\n",
              "      <td>33.342200</td>\n",
              "      <td>by</td>\n",
              "    </tr>\n",
              "    <tr>\n",
              "      <th>2</th>\n",
              "      <td>62.507140</td>\n",
              "      <td>10.078477</td>\n",
              "      <td>jane</td>\n",
              "    </tr>\n",
              "    <tr>\n",
              "      <th>3</th>\n",
              "      <td>12.477635</td>\n",
              "      <td>17.998343</td>\n",
              "      <td>volume</td>\n",
              "    </tr>\n",
              "    <tr>\n",
              "      <th>4</th>\n",
              "      <td>25.736960</td>\n",
              "      <td>30.876250</td>\n",
              "      <td>i</td>\n",
              "    </tr>\n",
              "  </tbody>\n",
              "</table>\n",
              "</div>"
            ],
            "text/plain": [
              "           x          y   token\n",
              "0  62.494060   8.023034    emma\n",
              "1   8.142986  33.342200      by\n",
              "2  62.507140  10.078477    jane\n",
              "3  12.477635  17.998343  volume\n",
              "4  25.736960  30.876250       i"
            ]
          },
          "execution_count": 53,
          "metadata": {},
          "output_type": "execute_result"
        }
      ],
      "source": [
        "coords_df = pd.read_csv('clean_gutenberg_tsne.csv')\n",
        "coords_df.head()"
      ]
    },
    {
      "cell_type": "code",
      "execution_count": 70,
      "metadata": {
        "colab": {
          "base_uri": "https://localhost:8080/",
          "height": 756
        },
        "id": "uBQ_MsTw4n3_",
        "outputId": "882e5a2d-f993-4a39-9a47-5496c7052ff1"
      },
      "outputs": [
        {
          "data": {
            "image/png": "[encoded data removed]",
            "text/plain": [
              "<Figure size 1200x1200 with 1 Axes>"
            ]
          },
          "metadata": {},
          "output_type": "display_data"
        }
      ],
      "source": [
        "_ = coords_df.plot.scatter('x', 'y', figsize=(12,12),\n",
        "                           marker='.', s=10, alpha=0.2)"
      ]
    },
    {
      "cell_type": "code",
      "execution_count": 81,
      "metadata": {
        "colab": {
          "base_uri": "https://localhost:8080/",
          "height": 837
        },
        "id": "xHY6Rech4rue",
        "outputId": "3e7d3bdb-e431-4c2d-fcdc-f437e8115f9c"
      },
      "outputs": [
        {
          "data": {
            "application/javascript": "(function(root) {\n  function now() {\n    return new Date();\n  }\n\n  const force = true;\n\n  if (typeof root._bokeh_onload_callbacks === \"undefined\" || force === true) {\n    root._bokeh_onload_callbacks = [];\n    root._bokeh_is_loading = undefined;\n  }\n\nconst JS_MIME_TYPE = 'application/javascript';\n  const HTML_MIME_TYPE = 'text/html';\n  const EXEC_MIME_TYPE = 'application/vnd.bokehjs_exec.v0+json';\n  const CLASS_NAME = 'output_bokeh rendered_html';\n\n  /**\n   * Render data to the DOM node\n   */\n  function render(props, node) {\n    const script = document.createElement(\"script\");\n    node.appendChild(script);\n  }\n\n  /**\n   * Handle when an output is cleared or removed\n   */\n  function handleClearOutput(event, handle) {\n    const cell = handle.cell;\n\n    const id = cell.output_area._bokeh_element_id;\n    const server_id = cell.output_area._bokeh_server_id;\n    // Clean up Bokeh references\n    if (id != null && id in Bokeh.index) {\n      Bokeh.index[id].model.document.clear();\n      delete Bokeh.index[id];\n    }\n\n    if (server_id !== undefined) {\n      // Clean up Bokeh references\n      const cmd_clean = \"from bokeh.io.state import curstate; print(curstate().uuid_to_server['\" + server_id + \"'].get_sessions()[0].document.roots[0]._id)\";\n      cell.notebook.kernel.execute(cmd_clean, {\n        iopub: {\n          output: function(msg) {\n            const id = msg.content.text.trim();\n            if (id in Bokeh.index) {\n              Bokeh.index[id].model.document.clear();\n              delete Bokeh.index[id];\n            }\n          }\n        }\n      });\n      // Destroy server and session\n      const cmd_destroy = \"import bokeh.io.notebook as ion; ion.destroy_server('\" + server_id + \"')\";\n      cell.notebook.kernel.execute(cmd_destroy);\n    }\n  }\n\n  /**\n   * Handle when a new output is added\n   */\n  function handleAddOutput(event, handle) {\n    const output_area = handle.output_area;\n    const output = handle.output;\n\n    // limit handleAddOutput to display_data with EXEC_MIME_TYPE content only\n    if ((output.output_type != \"display_data\") || (!Object.prototype.hasOwnProperty.call(output.data, EXEC_MIME_TYPE))) {\n      return\n    }\n\n    const toinsert = output_area.element.find(\".\" + CLASS_NAME.split(' ')[0]);\n\n    if (output.metadata[EXEC_MIME_TYPE][\"id\"] !== undefined) {\n      toinsert[toinsert.length - 1].firstChild.textContent = output.data[JS_MIME_TYPE];\n      // store reference to embed id on output_area\n      output_area._bokeh_element_id = output.metadata[EXEC_MIME_TYPE][\"id\"];\n    }\n    if (output.metadata[EXEC_MIME_TYPE][\"server_id\"] !== undefined) {\n      const bk_div = document.createElement(\"div\");\n      bk_div.innerHTML = output.data[HTML_MIME_TYPE];\n      const script_attrs = bk_div.children[0].attributes;\n      for (let i = 0; i < script_attrs.length; i++) {\n        toinsert[toinsert.length - 1].firstChild.setAttribute(script_attrs[i].name, script_attrs[i].value);\n        toinsert[toinsert.length - 1].firstChild.textContent = bk_div.children[0].textContent\n      }\n      // store reference to server id on output_area\n      output_area._bokeh_server_id = output.metadata[EXEC_MIME_TYPE][\"server_id\"];\n    }\n  }\n\n  function register_renderer(events, OutputArea) {\n\n    function append_mime(data, metadata, element) {\n      // create a DOM node to render to\n      const toinsert = this.create_output_subarea(\n        metadata,\n        CLASS_NAME,\n        EXEC_MIME_TYPE\n      );\n      this.keyboard_manager.register_events(toinsert);\n      // Render to node\n      const props = {data: data, metadata: metadata[EXEC_MIME_TYPE]};\n      render(props, toinsert[toinsert.length - 1]);\n      element.append(toinsert);\n      return toinsert\n    }\n\n    /* Handle when an output is cleared or removed */\n    events.on('clear_output.CodeCell', handleClearOutput);\n    events.on('delete.Cell', handleClearOutput);\n\n    /* Handle when a new output is added */\n    events.on('output_added.OutputArea', handleAddOutput);\n\n    /**\n     * Register the mime type and append_mime function with output_area\n     */\n    OutputArea.prototype.register_mime_type(EXEC_MIME_TYPE, append_mime, {\n      /* Is output safe? */\n      safe: true,\n      /* Index of renderer in `output_area.display_order` */\n      index: 0\n    });\n  }\n\n  // register the mime type if in Jupyter Notebook environment and previously unregistered\n  if (root.Jupyter !== undefined) {\n    const events = require('base/js/events');\n    const OutputArea = require('notebook/js/outputarea').OutputArea;\n\n    if (OutputArea.prototype.mime_types().indexOf(EXEC_MIME_TYPE) == -1) {\n      register_renderer(events, OutputArea);\n    }\n  }\n  if (typeof (root._bokeh_timeout) === \"undefined\" || force === true) {\n    root._bokeh_timeout = Date.now() + 5000;\n    root._bokeh_failed_load = false;\n  }\n\n  const NB_LOAD_WARNING = {'data': {'text/html':\n     \"<div style='background-color: #fdd'>\\n\"+\n     \"<p>\\n\"+\n     \"BokehJS does not appear to have successfully loaded. If loading BokehJS from CDN, this \\n\"+\n     \"may be due to a slow or bad network connection. Possible fixes:\\n\"+\n     \"</p>\\n\"+\n     \"<ul>\\n\"+\n     \"<li>re-rerun `output_notebook()` to attempt to load from CDN again, or</li>\\n\"+\n     \"<li>use INLINE resources instead, as so:</li>\\n\"+\n     \"</ul>\\n\"+\n     \"<code>\\n\"+\n     \"from bokeh.resources import INLINE\\n\"+\n     \"output_notebook(resources=INLINE)\\n\"+\n     \"</code>\\n\"+\n     \"</div>\"}};\n\n  function display_loaded() {\n    const el = document.getElementById(null);\n    if (el != null) {\n      el.textContent = \"BokehJS is loading...\";\n    }\n    if (root.Bokeh !== undefined) {\n      if (el != null) {\n        el.textContent = \"BokehJS \" + root.Bokeh.version + \" successfully loaded.\";\n      }\n    } else if (Date.now() < root._bokeh_timeout) {\n      setTimeout(display_loaded, 100)\n    }\n  }\n\n  function run_callbacks() {\n    try {\n      root._bokeh_onload_callbacks.forEach(function(callback) {\n        if (callback != null)\n          callback();\n      });\n    } finally {\n      delete root._bokeh_onload_callbacks\n    }\n    console.debug(\"Bokeh: all callbacks have finished\");\n  }\n\n  function load_libs(css_urls, js_urls, callback) {\n    if (css_urls == null) css_urls = [];\n    if (js_urls == null) js_urls = [];\n\n    root._bokeh_onload_callbacks.push(callback);\n    if (root._bokeh_is_loading > 0) {\n      console.debug(\"Bokeh: BokehJS is being loaded, scheduling callback at\", now());\n      return null;\n    }\n    if (js_urls == null || js_urls.length === 0) {\n      run_callbacks();\n      return null;\n    }\n    console.debug(\"Bokeh: BokehJS not loaded, scheduling load and callback at\", now());\n    root._bokeh_is_loading = css_urls.length + js_urls.length;\n\n    function on_load() {\n      root._bokeh_is_loading--;\n      if (root._bokeh_is_loading === 0) {\n        console.debug(\"Bokeh: all BokehJS libraries/stylesheets loaded\");\n        run_callbacks()\n      }\n    }\n\n    function on_error(url) {\n      console.error(\"failed to load \" + url);\n    }\n\n    for (let i = 0; i < css_urls.length; i++) {\n      const url = css_urls[i];\n      const element = document.createElement(\"link\");\n      element.onload = on_load;\n      element.onerror = on_error.bind(null, url);\n      element.rel = \"stylesheet\";\n      element.type = \"text/css\";\n      element.href = url;\n      console.debug(\"Bokeh: injecting link tag for BokehJS stylesheet: \", url);\n      document.body.appendChild(element);\n    }\n\n    for (let i = 0; i < js_urls.length; i++) {\n      const url = js_urls[i];\n      const element = document.createElement('script');\n      element.onload = on_load;\n      element.onerror = on_error.bind(null, url);\n      element.async = false;\n      element.src = url;\n      console.debug(\"Bokeh: injecting script tag for BokehJS library: \", url);\n      document.head.appendChild(element);\n    }\n  };\n\n  function inject_raw_css(css) {\n    const element = document.createElement(\"style\");\n    element.appendChild(document.createTextNode(css));\n    document.body.appendChild(element);\n  }\n\n  const js_urls = [\"https://cdn.bokeh.org/bokeh/release/bokeh-3.2.2.min.js\", \"https://cdn.bokeh.org/bokeh/release/bokeh-gl-3.2.2.min.js\", \"https://cdn.bokeh.org/bokeh/release/bokeh-widgets-3.2.2.min.js\", \"https://cdn.bokeh.org/bokeh/release/bokeh-tables-3.2.2.min.js\", \"https://cdn.bokeh.org/bokeh/release/bokeh-mathjax-3.2.2.min.js\"];\n  const css_urls = [];\n\n  const inline_js = [    function(Bokeh) {\n      Bokeh.set_log_level(\"info\");\n    },\nfunction(Bokeh) {\n    }\n  ];\n\n  function run_inline_js() {\n    if (root.Bokeh !== undefined || force === true) {\n          for (let i = 0; i < inline_js.length; i++) {\n      inline_js[i].call(root, root.Bokeh);\n    }\n} else if (Date.now() < root._bokeh_timeout) {\n      setTimeout(run_inline_js, 100);\n    } else if (!root._bokeh_failed_load) {\n      console.log(\"Bokeh: BokehJS failed to load within specified timeout.\");\n      root._bokeh_failed_load = true;\n    } else if (force !== true) {\n      const cell = $(document.getElementById(null)).parents('.cell').data().cell;\n      cell.output_area.append_execute_result(NB_LOAD_WARNING)\n    }\n  }\n\n  if (root._bokeh_is_loading === 0) {\n    console.debug(\"Bokeh: BokehJS loaded, going straight to plotting\");\n    run_inline_js();\n  } else {\n    load_libs(css_urls, js_urls, function() {\n      console.debug(\"Bokeh: BokehJS plotting callback run at\", now());\n      run_inline_js();\n    });\n  }\n}(window));",
            "application/vnd.bokehjs_load.v0+json": ""
          },
          "metadata": {},
          "output_type": "display_data"
        },
        {
          "data": {
            "text/html": [
              "\n",
              "  <div id=\"d5bc91c4-d6f8-4d9b-a6fb-16de0b02af71\" data-root-id=\"p1148\" style=\"display: contents;\"></div>\n"
            ]
          },
          "metadata": {},
          "output_type": "display_data"
        },
        {
          "data": {
            "application/javascript": "(function(root) {\n  function embed_document(root) {\n  const docs_json = {\"6ce5199b-8616-4801-9d3e-2e87feb68215\":{\"version\":\"3.2.2\",\"title\":\"Bokeh Application\",\"roots\":[{\"type\":\"object\",\"name\":\"Figure\",\"id\":\"p1148\",\"attributes\":{\"width\":800,\"height\":800,\"x_range\":{\"type\":\"object\",\"name\":\"DataRange1d\",\"id\":\"p1149\"},\"y_range\":{\"type\":\"object\",\"name\":\"DataRange1d\",\"id\":\"p1150\"},\"x_scale\":{\"type\":\"object\",\"name\":\"LinearScale\",\"id\":\"p1158\"},\"y_scale\":{\"type\":\"object\",\"name\":\"LinearScale\",\"id\":\"p1159\"},\"title\":{\"type\":\"object\",\"name\":\"Title\",\"id\":\"p1151\",\"attributes\":{\"text\":\"2D Word Vectors\"}},\"renderers\":[{\"type\":\"object\",\"name\":\"GlyphRenderer\",\"id\":\"p1184\",\"attributes\":{\"data_source\":{\"type\":\"object\",\"name\":\"ColumnDataSource\",\"id\":\"p1175\",\"attributes\":{\"selected\":{\"type\":\"object\",\"name\":\"Selection\",\"id\":\"p1176\",\"attributes\":{\"indices\":[],\"line_indices\":[]}},\"selection_policy\":{\"type\":\"object\",\"name\":\"UnionRenderers\",\"id\":\"p1177\"},\"data\":{\"type\":\"map\",\"entries\":[[\"index\",{\"type\":\"ndarray\",\"array\":{\"type\":\"bytes\",\"data\":\"jwYAAEgNAAAKEwAAGRkAAGYeAABSBwAAgycAAJQZAADKDwAARwwAAHkAAADfHAAA2hoAANgQAABQJgAALScAAFABAACYBAAA4w4AAGUOAACSCwAAmgoAAG0VAABUEQAA/g4AADcdAACqDgAAKh8AAKgRAAAoBQAAOR4AADYYAAAnIgAAQAAAAEoSAABeCAAAdSEAAKETAACoCgAAVh0AAF4YAABCHwAAuA8AAKYeAABoDgAAyggAAMsDAABrFgAAcCIAAPsWAAB7GQAAoxAAAN4fAABPAAAAaQMAAO8MAABfGQAAxwoAAPsEAACCHAAAICAAAOwCAACjGwAAPgwAADcQAAD3IAAAHyQAAKEgAABYCwAABAkAAIQYAAB6DwAAPg4AAE4mAADAFQAASgYAAPkXAACODQAA0RcAABIDAADFFwAA6yQAAOclAACoJQAAnQIAAEMoAADoEgAAkAAAAIQjAADmJgAAkAMAAKUUAAD3BAAA8icAAI4mAAAREQAA0QoAAOkhAACrGgAAAA0AAA==\"},\"shape\":[100],\"dtype\":\"int32\",\"order\":\"little\"}],[\"x\",{\"type\":\"ndarray\",\"array\":{\"type\":\"bytes\",\"data\":\"Eas/wjDeQECi8GyeCZ6pPyrxyj9EdBDAzTtO0ZHYQsCqEI/EyzsgwCfuwiD6fxLAnZs24zS4Q0DSN2kaFJ0twDkLe9rhM0HAoZwNnq4T8T87dxYYDfT3v3S2gNB6YCxAorQ3+ML0SsCl2qfjMYs0QLk5lQwAnSzANzemJyxJNcDdJXFWRI0oQNuIJ7uZXTPALQd6qG1bKMDVzcXf9mQ/QD7shQK2DUJAW1WbpJ6aD8D2twTgn5pHwDY+k/3zEEPAr3rAPGR6RECJsUy/RIpFwPDOkOD8XBfAYwys4/hJMsCreCPzyBdLwNNqSNxj6RhAe6AVGLI6McDtLeV8sZ89wFSPNLit3T7AeQWiJ2XqMUCwHCEDeXYhwNulDYelOSdA0xD6PsHSGMDI0/IDV7kzwGiyf54GakNAbt+j/nopQsDqJFtdTokzwD2BsFOsiiHAB5eOOc/YJcBYD076MRwJwEolPKHXfUVASSu+ofBxTsAsSgnBql5CQH2utmJ/SUPAgPfp04Vz9z/z59uCpT40wADl795RA0LAvjPaqiQSIsC7gJcZNhI5wKsHzEOmYEpAHPXG/9NTHkAEe6ddp8wBQJsb0xOWQDPAg/xs5LrhI0DUfJV87OJFQHO+2Hvxq0TAFKP4QhKnC0BdaoR+ppY6wLEYda29TyvA5SfVPh0zNkBInpBC/jYXQB2UMNP2LzXApbxWQnehP8BGlzeHa2k4wBLb3QN06UFA6pWyDHFcPcDUDKmieGFGwDlf7L34Qj1A0fx7OmiA/b/ziBsBJooMQIYax0CFAOU/k/3zNGCoKsAm4xjJHrktwNTUsrW+7EVAK1iZ3x91EMBdNGQ8Su02QKzijcwj5z3AuATgn1KxNUDKwWwCDEszQPNXyFwZRBtAqYdodAfpK8BftTLhl8BDQED2evfHgy9AJ2iTwyc1PUC8eapDbrxDwHPXEvJBpzFAQPuRIjKcSEBGfZI7bEo/wLBZLhud8yJAOnr83qYbNEAtexLYnDMowC50JQLVQ0NAdt8xPPYjI0B4J58e2xI/wJAy4gLQ4EHAN6eSAaBKQcA=\"},\"shape\":[100],\"dtype\":\"float64\",\"order\":\"little\"}],[\"y\",{\"type\":\"ndarray\",\"array\":{\"type\":\"bytes\",\"data\":\"nx1wXTGnN0A9mBQfn2BKQFxV9l0R0D5AnIpUGFvoFcCSIFwBhdZEwHWOAdnrITvA3zMSoRGcSkBHA3gLJKAvwCgOoN/3IyvAB0KygAnwIUDikuNO6cBGwEG8rl+w+yfAuM6/Xfa7Q8DyP/m7d6gxwM4WEFoPDydAA1slWByuR0AdmDfiJOAWQJ9mkqLfaBLAIAvRIXC6SkDEk93M6FcqwBFzSdV2sxVAIsMq3sh0SMAs1JrmHYcxwPjGEAAc0ztAwoU8ghsRMEBkBFQ4grw/wG3i5H6HekDA/AEPDCCMLsAVvmMdMxXnv/AWSFD8gENAg9Zo3hYJGkA5ud+hKMpDwDvj++JSp0ZAd6OP+YBIPkCQh767lTE8QBAFM6ZghTDATnrf+NoXQ8BOK4VALjVDQLzBgsFWJey/yTzyBwPvEcB81cqEX4pCwFA6kWCqnTjAmkLnNXbBNUBSf73Cgs1KQAHBHD1+nyVAGeQuwhSJOMBuuDQjKKsUQGQ6dHreQTFAnl+UoL+6Q0A8g4b+CVBMwMJtbeF510bAJlZGI59XQUDmWx/WGz0uQGX7kLdcHSrArkZ2pWX8M0DYomAhztYSQAu1pnnH0UnAnplgONe4KMBJZB9kWew2QFxYN94dRT7AFto5zQJ1JMB48X7cfiVGwDIge7376z/A/RadLLVOK0BNFYxK6nQ6QMudmWA4k0DAdSFWf4QRQ0Ch8xq7RPVGwLqe6Lrw5zfAz9iXbDzAJMBO7KF9rOQ+wLr3cMlx5zDADAbX3NHTMEC4dqIkJMo0QGb0o+GU2ULABlj1A2ilAsD2z9OAQUpDwCNL5ljexSJAYOBePv6PFMAbYye8BAtBQNAXMaKjK+q/Aq0KHvBKBsDekEYFTk4uQJpEveDTzDJAhUNv8fDGIcCFmbZ/ZatKQD4kfO9vEBZAyAp+G2IMI0Ckx+9t+us8QJDbL5+sNkbARRIYRtVq9T++ZyRCI1Q/QG7cYn5u6AVAYJM16iFKScAw2uOFdEgmQPpH36RpsCPA3k0Beitc9D8iVRSvshYsQP2GiQYp+BHArFJ6ppdAK0A=\"},\"shape\":[100],\"dtype\":\"float64\",\"order\":\"little\"}],[\"token\",{\"type\":\"ndarray\",\"array\":[\"reading\",\"glancing\",\"regarding\",\"suck\",\"calleth\",\"labour\",\"brut\",\"roll\",\"clean\",\"vainly\",\"judgment\",\"inasmuch\",\"fifteenth\",\"trusting\",\"lustre\",\"parsee\",\"comparatively\",\"spot\",\"handle\",\"thanking\",\"imagining\",\"quicken\",\"temple\",\"twilight\",\"february\",\"rabbah\",\"wickedness\",\"realm\",\"pillars\",\"basin\",\"victory\",\"keeper\",\"dived\",\"for\",\"posture\",\"solace\",\"uncircumcision\",\"ship\",\"needless\",\"thirsty\",\"selfsame\",\"insurrection\",\"crowd\",\"cab\",\"acquiescence\",\"ninety\",\"sufficiently\",\"lanes\",\"shoemaker\",\"28\",\"birthright\",\"trimmed\",\"banner\",\"affection\",\"missing\",\"transported\",\"61\",\"perfection\",\"parted\",\"captivity\",\"speaker\",\"saying\",\"uncleanness\",\"demanded\",\"apartments\",\"beelzebub\",\"stained\",\"parables\",\"conceive\",\"cast\",\"jebusite\",\"oblige\",\"marks\",\"eruption\",\"covet\",\"pattern\",\"seed\",\"resolving\",\"ruling\",\"rejoined\",\"edge\",\"ebook\",\"goody\",\"frequented\",\"apart\",\"sey\",\"secondly\",\"however\",\"orb\",\"perchance\",\"favourable\",\"blowing\",\"graces\",\"royall\",\"breathes\",\"unpardonable\",\"peculiarities\",\"mould\",\"locust\",\"breathing\"],\"shape\":[100],\"dtype\":\"object\",\"order\":\"little\"}]]}}},\"view\":{\"type\":\"object\",\"name\":\"CDSView\",\"id\":\"p1185\",\"attributes\":{\"filter\":{\"type\":\"object\",\"name\":\"AllIndices\",\"id\":\"p1186\"}}},\"glyph\":{\"type\":\"object\",\"name\":\"Circle\",\"id\":\"p1181\",\"attributes\":{\"x\":{\"type\":\"field\",\"field\":\"x\"},\"y\":{\"type\":\"field\",\"field\":\"y\"},\"size\":{\"type\":\"value\",\"value\":5},\"line_color\":{\"type\":\"value\",\"value\":\"navy\"},\"fill_color\":{\"type\":\"value\",\"value\":\"orange\"},\"fill_alpha\":{\"type\":\"value\",\"value\":0.5}}},\"nonselection_glyph\":{\"type\":\"object\",\"name\":\"Circle\",\"id\":\"p1182\",\"attributes\":{\"x\":{\"type\":\"field\",\"field\":\"x\"},\"y\":{\"type\":\"field\",\"field\":\"y\"},\"size\":{\"type\":\"value\",\"value\":5},\"line_color\":{\"type\":\"value\",\"value\":\"navy\"},\"line_alpha\":{\"type\":\"value\",\"value\":0.1},\"fill_color\":{\"type\":\"value\",\"value\":\"orange\"},\"fill_alpha\":{\"type\":\"value\",\"value\":0.1},\"hatch_alpha\":{\"type\":\"value\",\"value\":0.1}}},\"muted_glyph\":{\"type\":\"object\",\"name\":\"Circle\",\"id\":\"p1183\",\"attributes\":{\"x\":{\"type\":\"field\",\"field\":\"x\"},\"y\":{\"type\":\"field\",\"field\":\"y\"},\"size\":{\"type\":\"value\",\"value\":5},\"line_color\":{\"type\":\"value\",\"value\":\"navy\"},\"line_alpha\":{\"type\":\"value\",\"value\":0.2},\"fill_color\":{\"type\":\"value\",\"value\":\"orange\"},\"fill_alpha\":{\"type\":\"value\",\"value\":0.2},\"hatch_alpha\":{\"type\":\"value\",\"value\":0.2}}}}}],\"toolbar\":{\"type\":\"object\",\"name\":\"Toolbar\",\"id\":\"p1157\",\"attributes\":{\"tools\":[{\"type\":\"object\",\"name\":\"PanTool\",\"id\":\"p1170\"},{\"type\":\"object\",\"name\":\"BoxZoomTool\",\"id\":\"p1171\",\"attributes\":{\"overlay\":{\"type\":\"object\",\"name\":\"BoxAnnotation\",\"id\":\"p1172\",\"attributes\":{\"syncable\":false,\"level\":\"overlay\",\"visible\":false,\"left_units\":\"canvas\",\"right_units\":\"canvas\",\"bottom_units\":\"canvas\",\"top_units\":\"canvas\",\"line_color\":\"black\",\"line_alpha\":1.0,\"line_width\":2,\"line_dash\":[4,4],\"fill_color\":\"lightgrey\",\"fill_alpha\":0.5}}}},{\"type\":\"object\",\"name\":\"ResetTool\",\"id\":\"p1173\"},{\"type\":\"object\",\"name\":\"SaveTool\",\"id\":\"p1174\"}]}},\"left\":[{\"type\":\"object\",\"name\":\"LinearAxis\",\"id\":\"p1165\",\"attributes\":{\"ticker\":{\"type\":\"object\",\"name\":\"BasicTicker\",\"id\":\"p1166\",\"attributes\":{\"mantissas\":[1,2,5]}},\"formatter\":{\"type\":\"object\",\"name\":\"BasicTickFormatter\",\"id\":\"p1167\"},\"major_label_policy\":{\"type\":\"object\",\"name\":\"AllLabels\",\"id\":\"p1168\"}}}],\"below\":[{\"type\":\"object\",\"name\":\"LinearAxis\",\"id\":\"p1160\",\"attributes\":{\"ticker\":{\"type\":\"object\",\"name\":\"BasicTicker\",\"id\":\"p1161\",\"attributes\":{\"mantissas\":[1,2,5]}},\"formatter\":{\"type\":\"object\",\"name\":\"BasicTickFormatter\",\"id\":\"p1162\"},\"major_label_policy\":{\"type\":\"object\",\"name\":\"AllLabels\",\"id\":\"p1163\"}}}],\"center\":[{\"type\":\"object\",\"name\":\"Grid\",\"id\":\"p1164\",\"attributes\":{\"axis\":{\"id\":\"p1160\"}}},{\"type\":\"object\",\"name\":\"Grid\",\"id\":\"p1169\",\"attributes\":{\"dimension\":1,\"axis\":{\"id\":\"p1165\"}}},{\"type\":\"object\",\"name\":\"LabelSet\",\"id\":\"p1187\",\"attributes\":{\"level\":\"glyph\",\"source\":{\"id\":\"p1175\"},\"x\":{\"type\":\"field\",\"field\":\"x\"},\"y\":{\"type\":\"field\",\"field\":\"y\"},\"text\":{\"type\":\"field\",\"field\":\"token\"},\"x_offset\":{\"type\":\"value\",\"value\":5},\"y_offset\":{\"type\":\"value\",\"value\":5}}}]}}]}};\n  const render_items = [{\"docid\":\"6ce5199b-8616-4801-9d3e-2e87feb68215\",\"roots\":{\"p1148\":\"d5bc91c4-d6f8-4d9b-a6fb-16de0b02af71\"},\"root_ids\":[\"p1148\"]}];\n  root.Bokeh.embed.embed_items_notebook(docs_json, render_items);\n  }\n  if (root.Bokeh !== undefined) {\n    embed_document(root);\n  } else {\n    let attempts = 0;\n    const timer = setInterval(function(root) {\n      if (root.Bokeh !== undefined) {\n        clearInterval(timer);\n        embed_document(root);\n      } else {\n        attempts++;\n        if (attempts > 100) {\n          clearInterval(timer);\n          console.log(\"Bokeh: ERROR: Unable to run BokehJS code because BokehJS library is missing\");\n        }\n      }\n    }, 10, root)\n  }\n})(window);",
            "application/vnd.bokehjs_exec.v0+json": ""
          },
          "metadata": {
            "application/vnd.bokehjs_exec.v0+json": {
              "id": "p1148"
            }
          },
          "output_type": "display_data"
        }
      ],
      "source": [
        "from bokeh.plotting import figure, show, output_notebook\n",
        "from bokeh.models import ColumnDataSource, LabelSet\n",
        "\n",
        "# Ensure Bokeh plots are displayed inline in the notebook\n",
        "output_notebook()\n",
        "\n",
        "# Sample a subset of the data\n",
        "subset_df = coords_df.sample(n=100)  # instead of 5000\n",
        "\n",
        "# Create a new figure\n",
        "p = figure(width=800, height=800, tools=\"pan,box_zoom,reset,save\", title=\"2D Word Vectors\")\n",
        "\n",
        "# Create a ColumnDataSource from the subset dataframe\n",
        "source = ColumnDataSource(subset_df)\n",
        "\n",
        "# Plot the points\n",
        "p.circle(x='x', y='y', size=5, source=source, line_color=\"navy\", fill_color=\"orange\", fill_alpha=0.5)\n",
        "\n",
        "# Add text labels to the points without the render_mode attribute\n",
        "labels = LabelSet(x='x', y='y', text='token', level='glyph', x_offset=5, y_offset=5, source=source)\n",
        "p.add_layout(labels)\n",
        "\n",
        "# Display the plot\n",
        "show(p)"
      ]
    }
  ],
  "metadata": {
    "colab": {
      "provenance": []
    },
    "kernelspec": {
      "display_name": "Python 3 (ipykernel)",
      "language": "python",
      "name": "python3"
    },
    "language_info": {
      "codemirror_mode": {
        "name": "ipython",
        "version": 3
      },
      "file_extension": ".py",
      "mimetype": "text/x-python",
      "name": "python",
      "nbconvert_exporter": "python",
      "pygments_lexer": "ipython3",
      "version": "3.10.9"
    },
    "vscode": {
      "interpreter": {
        "hash": "20ca900419cb16c58123c071969aafb21ba7999665d0e8d217969fd12ce7645f"
      }
    }
  },
  "nbformat": 4,
  "nbformat_minor": 0
}
