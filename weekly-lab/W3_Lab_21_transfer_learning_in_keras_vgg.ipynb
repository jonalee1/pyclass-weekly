{
  "cells": [
    {
      "cell_type": "markdown",
      "metadata": {
        "id": "0t0_p3C5dHWV"
      },
      "source": [
        "# Transfer Learning in Keras (VGG19)\n",
        "\n",
        "In this notebook, we'll cover how to load a pre-trained model (VGGNet19) and finetune it for a new task: detecting hot dogs."
      ]
    },
    {
      "cell_type": "markdown",
      "metadata": {
        "id": "XAEHihuJdHWW"
      },
      "source": [
        "#### Load dependencies"
      ]
    },
    {
      "cell_type": "code",
      "execution_count": 1,
      "metadata": {
        "id": "pGBwpT8pdHWX"
      },
      "outputs": [],
      "source": [
        "import keras\n",
        "from keras.applications.vgg19 import VGG19\n",
        "from keras.models import Sequential\n",
        "from keras.layers import Dense, Dropout, Flatten\n",
        "from keras.preprocessing.image import ImageDataGenerator\n",
        "from keras.callbacks import TensorBoard"
      ]
    },
    {
      "cell_type": "markdown",
      "metadata": {
        "id": "OFWgP3DsdHWX"
      },
      "source": [
        "#### Load the pre-trained VGG19 model"
      ]
    },
    {
      "cell_type": "code",
      "execution_count": 2,
      "metadata": {
        "collapsed": true,
        "id": "ahYh9-3qdHWY"
      },
      "outputs": [],
      "source": [
        "vgg19 = VGG19(include_top=False,\n",
        "              weights='imagenet',\n",
        "              input_shape=(224,224,3),\n",
        "              pooling=None)"
      ]
    },
    {
      "cell_type": "markdown",
      "metadata": {
        "id": "Ou5yCh22dHWY"
      },
      "source": [
        "#### Freeze all the layers in the base VGGNet19 model"
      ]
    },
    {
      "cell_type": "code",
      "execution_count": 3,
      "metadata": {
        "collapsed": true,
        "id": "GE7RkrzqdHWY"
      },
      "outputs": [],
      "source": [
        "for layer in vgg19.layers:\n",
        "    layer.trainable = False"
      ]
    },
    {
      "cell_type": "markdown",
      "metadata": {
        "id": "X_nbQZeUdHWY"
      },
      "source": [
        "#### Add custom classification layers"
      ]
    },
    {
      "cell_type": "code",
      "execution_count": 4,
      "metadata": {
        "collapsed": true,
        "id": "1lPpfmqddHWY"
      },
      "outputs": [],
      "source": [
        "# Instantiate the sequential model and add the VGG19 model:\n",
        "model = Sequential()\n",
        "model.add(vgg19)\n",
        "\n",
        "# Add the custom layers atop the VGG19 model:\n",
        "model.add(Flatten(name='flattened'))\n",
        "model.add(Dropout(0.5, name='dropout'))\n",
        "model.add(Dense(2, activation='softmax', name='predictions'))"
      ]
    },
    {
      "cell_type": "markdown",
      "metadata": {
        "id": "SMl1LgP3dHWY"
      },
      "source": [
        "#### Compile the model for training"
      ]
    },
    {
      "cell_type": "code",
      "execution_count": 5,
      "metadata": {
        "collapsed": true,
        "id": "jiK1I7sudHWZ"
      },
      "outputs": [],
      "source": [
        "model.compile(optimizer='adam', loss='categorical_crossentropy', metrics=['accuracy'])"
      ]
    },
    {
      "cell_type": "markdown",
      "metadata": {
        "id": "BKIVV74ZdHWZ"
      },
      "source": [
        "#### Prepare the data for training"
      ]
    },
    {
      "cell_type": "markdown",
      "metadata": {
        "id": "1wPfrq3-dHWZ"
      },
      "source": [
        "The dataset is available for download [here](https://www.kaggle.com/dansbecker/hot-dog-not-hot-dog/home)."
      ]
    },
    {
      "cell_type": "markdown",
      "metadata": {},
      "source": [
        "Instead of downloading and copying the data to Google Drive, we can use API to download any data from Kaggle.\n",
        "\n",
        "<span style=\"color:magenta\">[1] sign in/register to Kaggle account</span>\n",
        "\n",
        "<span style=\"color:magenta\">[2] from account settings, API \"create new token\" and download kaggle.json</span>\n",
        "\n",
        "<span style=\"color:magenta\">[3] upload kaggle.json to colab sample_data</span>"
      ]
    },
    {
      "cell_type": "code",
      "execution_count": null,
      "metadata": {
        "id": "6JuZBFw7fUHW"
      },
      "outputs": [],
      "source": [
        "import os\n",
        "os.environ['KAGGLE_CONFIG_DIR'] = '/content/sample_data/'"
      ]
    },
    {
      "cell_type": "code",
      "execution_count": null,
      "metadata": {
        "id": "U7IXM98Mf1gp"
      },
      "outputs": [],
      "source": [
        "!kaggle datasets download -d dansbecker/hot-dog-not-hot-dog\n",
        "!unzip \\*.zip"
      ]
    },
    {
      "cell_type": "code",
      "execution_count": null,
      "metadata": {
        "collapsed": true,
        "id": "ZszoCPb0dHWZ"
      },
      "outputs": [],
      "source": [
        "# Define the batch size:\n",
        "batch_size=32"
      ]
    },
    {
      "cell_type": "code",
      "execution_count": null,
      "metadata": {
        "collapsed": true,
        "id": "2WOPxidkdHWZ"
      },
      "outputs": [],
      "source": [
        "# Instantiate two image generator classes:\n",
        "train_datagen = ImageDataGenerator(\n",
        "    rescale=1.0/255,\n",
        "    data_format='channels_last',\n",
        "    rotation_range=30,\n",
        "    horizontal_flip=True,\n",
        "    fill_mode='reflect')\n",
        "\n",
        "valid_datagen = ImageDataGenerator(\n",
        "    rescale=1.0/255,\n",
        "    data_format='channels_last')"
      ]
    },
    {
      "cell_type": "markdown",
      "metadata": {},
      "source": [
        "The above code is creating two instances of the `ImageDataGenerator` class from Keras, which is used to generate batches of tensor image data with real-time data augmentation. The data will be looped over (in batches) indefinitely.\n",
        "\n",
        "The first instance, `train_datagen`, is for training data. It has several parameters set:\n",
        "\n",
        "- `rescale=1.0/255` rescales the pixel values in images by dividing them by 255 so that they're in the range [0, 1]. This is a common preprocessing step in image processing.\n",
        "- `data_format='channels_last'` specifies that the images will have their color channels as the last dimension.\n",
        "- `rotation_range=30` allows the images to be randomly rotated by up to 30 degrees.\n",
        "- `horizontal_flip=True` allows the images to be randomly flipped horizontally.\n",
        "- `fill_mode='reflect'` specifies how to fill in newly created pixels, which can appear after a rotation or width/height shift.\n",
        "\n",
        "The second instance, `valid_datagen`, is for validation data. It only has two parameters set:\n",
        "\n",
        "- `rescale=1.0/255` (as above)\n",
        "- `data_format='channels_last'` (as above)\n",
        "\n",
        "The validation data generator doesn't include the same data augmentation parameters as the training data generator because we typically want to validate our model on unmodified data."
      ]
    },
    {
      "cell_type": "code",
      "execution_count": null,
      "metadata": {
        "id": "41TTnsondHWa"
      },
      "outputs": [],
      "source": [
        "# Define the train and validation generators:\n",
        "train_generator = train_datagen.flow_from_directory(\n",
        "    directory='./train',\n",
        "    target_size=(224, 224),\n",
        "    classes=['hot_dog','not_hot_dog'],\n",
        "    class_mode='categorical',\n",
        "    batch_size=batch_size,\n",
        "    shuffle=True,\n",
        "    seed=42)\n",
        "\n",
        "valid_generator = valid_datagen.flow_from_directory(\n",
        "    directory='./test',\n",
        "    target_size=(224, 224),\n",
        "    classes=['hot_dog','not_hot_dog'],\n",
        "    class_mode='categorical',\n",
        "    batch_size=batch_size,\n",
        "    shuffle=True,\n",
        "    seed=42)"
      ]
    },
    {
      "cell_type": "markdown",
      "metadata": {},
      "source": [
        "The above Python code is using Keras to prepare data for training and validating a model. \n",
        "\n",
        "The `train_generator` and `valid_generator` are objects that will generate batches of image data on-the-fly during the model training and validation process.\n",
        "\n",
        "`flow_from_directory` is a method that loads images from a directory, and generates batches of image data and their labels.\n",
        "\n",
        "Here's what each parameter does:\n",
        "\n",
        "- `directory`: This is the path to the directory where the images are stored. For `train_generator`, images are loaded from the './kaggle/train/' directory, and for `valid_generator`, images are loaded from the './kaggle/test' directory.\n",
        "\n",
        "- `target_size`: This is the dimensions to which all images found will be resized. In this case, all images will be resized to 224x224 pixels.\n",
        "\n",
        "- `classes`: This is a list of class names. Here, there are two classes: 'hot_dog' and 'not_hot_dog'.\n",
        "\n",
        "- `class_mode`: Determines the type of label arrays that are returned. 'categorical' means that the labels will be in categorical format (e.g., if there are two classes, and an image belongs to the second class, its label will be [0, 1]).\n",
        "\n",
        "- `batch_size`: The number of images to generate per batch. This is determined by the variable `batch_size`.\n",
        "\n",
        "- `shuffle`: Whether to shuffle the data. If set to True, the data will be randomly shuffled at each epoch (iteration over the entire dataset).\n",
        "\n",
        "- `seed`: Random seed for applying random image augmentation and shuffling the order of the image."
      ]
    },
    {
      "cell_type": "code",
      "execution_count": null,
      "metadata": {
        "id": "oRHhYhuLz-o9"
      },
      "outputs": [],
      "source": [
        "tensorboard = TensorBoard('logs/transfer')"
      ]
    },
    {
      "cell_type": "code",
      "execution_count": null,
      "metadata": {
        "id": "1c2UzmSMdHWa"
      },
      "outputs": [],
      "source": [
        "model.fit(train_generator,\n",
        "          steps_per_epoch=15,\n",
        "          epochs=20,\n",
        "          validation_data=valid_generator,\n",
        "          validation_steps=15,\n",
        "          callbacks=[tensorboard])"
      ]
    },
    {
      "cell_type": "code",
      "execution_count": null,
      "metadata": {
        "id": "KcZY_Rr40MoG"
      },
      "outputs": [],
      "source": [
        "%reload_ext tensorboard\n",
        "%tensorboard --logdir logs/transfer"
      ]
    }
  ],
  "metadata": {
    "accelerator": "GPU",
    "colab": {
      "gpuType": "T4",
      "provenance": []
    },
    "kernelspec": {
      "display_name": "Python 3",
      "name": "python3"
    },
    "language_info": {
      "codemirror_mode": {
        "name": "ipython",
        "version": 3
      },
      "file_extension": ".py",
      "mimetype": "text/x-python",
      "name": "python",
      "nbconvert_exporter": "python",
      "pygments_lexer": "ipython3",
      "version": "3.10.9"
    }
  },
  "nbformat": 4,
  "nbformat_minor": 0
}
