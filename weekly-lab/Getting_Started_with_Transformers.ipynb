{
  "cells": [
    {
      "cell_type": "markdown",
      "metadata": {
        "id": "vcuDLUYdBV5w"
      },
      "source": [
        "[![Open In Colab](https://colab.research.google.com/assets/colab-badge.svg)](https://colab.research.google.com/github/huggingface/education-toolkit/blob/main/03_getting-started-with-transformers.ipynb)\n",
        "\n",
        "💡 **Welcome!**\n",
        "\n",
        "This content is free and uses widely known Open Source technologies (`transformers`, `gradio`, etc).\n",
        "\n",
        "You can find all the tutorials and resources we’ve assembled [here](https://huggingface2.notion.site/Education-Toolkit-7b4a9a9d65ee4a6eb16178ec2a4f3599)."
      ]
    },
    {
      "cell_type": "markdown",
      "metadata": {
        "id": "GzTf1WsT6hAl"
      },
      "source": [
        "# Tutorial: Getting Started with Transformers"
      ]
    },
    {
      "cell_type": "markdown",
      "metadata": {
        "id": "z3ObxbhKB2GX"
      },
      "source": [
        "**Learning goals:** The goal of this tutorial is to learn how:\n",
        "\n",
        "1. Transformer neural networks can be used to tackle a wide range of tasks in natural language processing and beyond.\n",
        "3. Transfer learning allows one to adapt Transformers to specific tasks.\n",
        "2. The `pipeline()` function from the `transformers` library can be used to run inference with models from the [Hugging Face Hub](https://huggingface.co/models).\n",
        "\n",
        "This tutorial is based on the first of our O'Reilly book [_Natural Language Processing with Transformers_](https://transformersbook.com/) - check it out if you want to dive deeper into the topic!\n",
        "\n",
        "**Duration**: 30-45 minutes\n",
        "\n",
        "**Prerequisites:** Knowledge of Python and basic familiarity with machine learning\n",
        "\n",
        "\n",
        "**Author**: [Lewis Tunstall](https://twitter.com/_lewtun) (feel free to ping me with any questions about this tutorial)\n",
        "\n",
        "All of these steps can be done for free! All you need is an Internet browser and a place where you can write Python 👩‍💻"
      ]
    },
    {
      "cell_type": "markdown",
      "metadata": {
        "id": "Vvuf8_cTFYWd"
      },
      "source": [
        "## 0. Why Transformers?"
      ]
    },
    {
      "cell_type": "markdown",
      "metadata": {
        "id": "VLBG8L-XFqNx"
      },
      "source": [
        "Deep learning is currently undergoing a period of rapid progress across a wide variety of domains, including:\n",
        "\n",
        "* 📖 Natural language processing\n",
        "* 👀 Computer vision\n",
        "* 🔊 Audio\n",
        "* 🧬 Biology\n",
        "* and many more!\n",
        "\n",
        "The main driver of these breakthroughs is the **Transformer** -- a novel **neural network** developed by Google researchers in 2017. In short, if you’re into deep learning, you need Transformers!\n",
        "\n",
        "Here's a few examples of what Transformers can do:\n",
        "\n",
        "* 💻 They can **generate code** as in products like [GitHub Copilot](https://copilot.github.com/), which is based on OpenAI's family of [GPT models](https://huggingface.co/gpt2?text=My+name+is+Clara+and+I+am).\n",
        "* ❓ They can be used for **improve search engines**, like [Google did](https://www.blog.google/products/search/search-language-understanding-bert/) with a Transformer called [BERT](https://huggingface.co/bert-base-uncased).\n",
        "* 🗣️ They can **process speech in multiple languages** to perform speech recognition, speech translation, and language identification. For example, Facebook's [XLS-R model](https://huggingface.co/spaces/facebook/XLS-R-2B-22-16) can automatically transcribe audio in one language to another!\n",
        "\n",
        "Training these models **from scratch** involves **a lot of resources**: you need large amounts of compute, data, and days to train for 😱.\n",
        "\n",
        "Fortunately, you don't need to do this in most cases! Thanks to a technique known as **transfer learning**, it is possible to adapt a model that has been trained from scratch (usually called a **pretrained model**), to a variety of downstream tasks. This process is called **fine-tuning** and can typically be carried with a single GPU and a dataset of the size that you're like to find in your university or company.\n",
        "\n",
        "The models that we'll be looking at in this tutorial are all examples of fine-tuned models, and you can learn more about the transfer learning process in the video below:\n"
      ]
    },
    {
      "cell_type": "code",
      "execution_count": null,
      "metadata": {
        "id": "gYSWjyquGNoc"
      },
      "outputs": [],
      "source": [
        "from IPython.display import YouTubeVideo\n",
        "\n",
        "YouTubeVideo('BqqfQnyjmgg')"
      ]
    },
    {
      "cell_type": "markdown",
      "metadata": {
        "id": "NOcZex3OwFcF"
      },
      "source": [
        "Now, Transformers are coolest kids in town, but how can we use them? If only there was a library that could help us ... oh wait, there is! The [Hugging Face Transformers library](https://github.com/huggingface/transformers) provides a unified API across dozens of Transformer architectures, as well as the means to train models and run inference with them. So to get started, let's install the library with the following command:"
      ]
    },
    {
      "cell_type": "code",
      "execution_count": null,
      "metadata": {
        "id": "QKWO9iE_y8Vs"
      },
      "outputs": [],
      "source": [
        "%%capture\n",
        "%pip install transformers[sentencepiece]"
      ]
    },
    {
      "cell_type": "markdown",
      "metadata": {
        "id": "-2-8iQfS1C66"
      },
      "source": [
        "Now that we've installed the library, let's take a look at some applications!"
      ]
    },
    {
      "cell_type": "markdown",
      "metadata": {
        "id": "lJJQ_HFuDvqV",
        "tags": []
      },
      "source": [
        "## 1. Pipelines for Transformers"
      ]
    },
    {
      "cell_type": "markdown",
      "metadata": {
        "id": "BSZqyAh_DvqU"
      },
      "source": [
        "The fastest way to learn what Transformers can do is via the `pipeline()` function. This function loads a model from the Hugging Face Hub and takes care of all the preprocessing and postprocessing steps that are needed to convert inputs into predictions:"
      ]
    },
    {
      "cell_type": "markdown",
      "metadata": {
        "id": "G67RTb2dDvqV"
      },
      "source": [
        "<img src=\"https://github.com/huggingface/workshops/blob/main/nlp-zurich/images/pipeline.png?raw=1\" alt=\"Alt text that describes the graphic\" title=\"Title text\" width=800>"
      ]
    },
    {
      "cell_type": "markdown",
      "metadata": {
        "id": "yx8Hn2ND2VSd"
      },
      "source": [
        "In the next few sections we'll see how these steps are combined for different applications. If you want to learn more about what is happening under the hood, then check out the video below:"
      ]
    },
    {
      "cell_type": "code",
      "execution_count": null,
      "metadata": {
        "id": "8r-qIToMDvqW"
      },
      "outputs": [],
      "source": [
        "YouTubeVideo('1pedAIvTWXk')"
      ]
    },
    {
      "cell_type": "markdown",
      "metadata": {
        "id": "mXAlr2u76bkg",
        "jp-MarkdownHeadingCollapsed": true,
        "tags": []
      },
      "source": [
        "## 2. Text classification"
      ]
    },
    {
      "cell_type": "markdown",
      "metadata": {
        "id": "amrlJNI9DvqZ"
      },
      "source": [
        "Let's start with one of the most common tasks in NLP: text classification. We need a snippet of text for our models to analyze, so let's use the following (fictious!) customer feedback about a certain online order:"
      ]
    },
    {
      "cell_type": "code",
      "execution_count": null,
      "metadata": {
        "id": "G1RROa_I39OK"
      },
      "outputs": [],
      "source": [
        "text = \"\"\"Dear Amazon, last week I ordered an Optimus Prime action figure \\\n",
        "from your online store in Germany. Unfortunately, when I opened the package, \\\n",
        "I discovered to my horror that I had been sent an action figure of Megatron \\\n",
        "instead! As a lifelong enemy of the Decepticons, I hope you can understand my \\\n",
        "dilemma. To resolve the issue, I demand an exchange of Megatron for the \\\n",
        "Optimus Prime figure I ordered. Enclosed are copies of my records concerning \\\n",
        "this purchase. I expect to hear from you soon. Sincerely, Bumblebee.\"\"\""
      ]
    },
    {
      "cell_type": "markdown",
      "metadata": {
        "id": "KDUFC-x1BtQw"
      },
      "source": [
        "While we're at it, let's create a simple wrapper so that we can pretty print out texts:"
      ]
    },
    {
      "cell_type": "code",
      "execution_count": null,
      "metadata": {
        "id": "PTC-NycTByIP"
      },
      "outputs": [],
      "source": [
        "import textwrap\n",
        "\n",
        "wrapper = textwrap.TextWrapper(width=80, break_long_words=False, break_on_hyphens=False)\n",
        "print(wrapper.fill(text))"
      ]
    },
    {
      "cell_type": "markdown",
      "metadata": {
        "id": "LkrhsqmRDvqa"
      },
      "source": [
        "Now suppose that we'd like to predict the _sentiment_ of this text, i.e. whether the feedback is positive or negative. This is a special type of text classification that is often used in industry to aggregate customer feedback across products or services. The example below shows how a Transformer like BERT converts the inputs into atomic chunks called **tokens** which are then fed through the network to produce a single prediction:"
      ]
    },
    {
      "cell_type": "markdown",
      "metadata": {
        "id": "T4Rb3oe-Dvqb"
      },
      "source": [
        "<img src=\"https://github.com/huggingface/workshops/blob/main/nlp-zurich/images/clf_arch.png?raw=1\" alt=\"Alt text that describes the graphic\" title=\"Title text\" width=600>"
      ]
    },
    {
      "cell_type": "markdown",
      "metadata": {
        "id": "MM2ZZoerDvqb"
      },
      "source": [
        "To load a Transformer model for this task is quite simple. We just need to specify the task in the `pipeline()` function as follows;"
      ]
    },
    {
      "cell_type": "code",
      "execution_count": null,
      "metadata": {
        "id": "K3ckzsscpPUh"
      },
      "outputs": [],
      "source": [
        "from transformers import pipeline\n",
        "\n",
        "sentiment_pipeline = pipeline('text-classification')"
      ]
    },
    {
      "cell_type": "markdown",
      "metadata": {
        "id": "4-JvPV-IDvqc"
      },
      "source": [
        "When you run this code, you'll see a message about which Hub model is being used by default. In this case, the `pipeline()` function loads the `distilbert-base-uncased-finetuned-sst-2-english` model, which is a small BERT variant trained on [SST-2](https://paperswithcode.com/sota/sentiment-analysis-on-sst-2-binary) which is a sentiment analysis dataset."
      ]
    },
    {
      "cell_type": "markdown",
      "metadata": {
        "id": "14-9I6cRDvqc"
      },
      "source": [
        "💡 The first time you execute the code, the model will be automatically downloaded from the Hub and cached for later use!"
      ]
    },
    {
      "cell_type": "markdown",
      "metadata": {
        "id": "G3qkCt07Dvqd"
      },
      "source": [
        "Now we are ready to run our example through pipeline and look at some predictions:"
      ]
    },
    {
      "cell_type": "code",
      "execution_count": null,
      "metadata": {
        "id": "uWEfVEll5qgu"
      },
      "outputs": [],
      "source": [
        "sentiment_pipeline(text)"
      ]
    },
    {
      "cell_type": "markdown",
      "metadata": {
        "id": "xyKN1JDYDvqd"
      },
      "source": [
        "The model predicts negative sentiment with a high confidence which makes sense given that we have a disgruntled customer. You can also see that the pipeline returns a list of Python dictionaries with the predictions. We can also pass several texts at the same time in which case we would get several dicts in the list for each text one."
      ]
    },
    {
      "cell_type": "markdown",
      "metadata": {
        "id": "pIuYr7X269F2"
      },
      "source": [
        "⚡ **Your turn!** Feed a list of texts with different types of sentiment to the `sentiment_pipeline` object. Do the predictions always make sense?"
      ]
    },
    {
      "cell_type": "markdown",
      "metadata": {
        "id": "M0c9r_ZC66rC",
        "jp-MarkdownHeadingCollapsed": true,
        "tags": []
      },
      "source": [
        "## 3. Named entity recognition"
      ]
    },
    {
      "cell_type": "markdown",
      "metadata": {
        "id": "XjB4_YBT8JoB"
      },
      "source": [
        "Let's now do something a little more sophisticated. Instead of just finding the overall sentiment, let's see if we can extract **entities** such as organizations, locations, or individuals from the text. This task is called named entity recognition, or NER for short. Instead of predicting just a class for the whole text **a class is predicted for each token**, as shown in the example below:"
      ]
    },
    {
      "cell_type": "markdown",
      "metadata": {
        "id": "I4tR3C7_Dvqe"
      },
      "source": [
        "<img src=\"https://github.com/huggingface/workshops/blob/main/nlp-zurich/images/ner_arch.png?raw=1\" alt=\"Alt text that describes the graphic\" title=\"Title text\" width=600>"
      ]
    },
    {
      "cell_type": "markdown",
      "metadata": {
        "id": "sPvWZmU1Dvqf"
      },
      "source": [
        "Again, we just load a pipeline for NER without specifying a model. This will load a default BERT model that has been trained on the [CoNLL-2003](https://huggingface.co/datasets/conll2003) dataset:"
      ]
    },
    {
      "cell_type": "code",
      "execution_count": null,
      "metadata": {
        "id": "9neufY3itR1V"
      },
      "outputs": [],
      "source": [
        "ner_pipeline = pipeline('ner')"
      ]
    },
    {
      "cell_type": "markdown",
      "metadata": {
        "id": "-YWdgXyODvqf"
      },
      "source": [
        "When we pass our text through the model,  we now get a long list of Python dictionaries, where each dictionary corresponds to one detected entity. Since multiple tokens can correspond to a a single entity ,we can apply an aggregation strategy that merges entities if the same class appears in consequtive tokens:"
      ]
    },
    {
      "cell_type": "code",
      "execution_count": null,
      "metadata": {
        "id": "9Q1Ns7TXt0Y4"
      },
      "outputs": [],
      "source": [
        "entities = ner_pipeline(text, aggregation_strategy=\"simple\")\n",
        "print(entities)"
      ]
    },
    {
      "cell_type": "markdown",
      "metadata": {
        "id": "Su1xNy1zDvqg"
      },
      "source": [
        "This isn't very easy to read, so let's clean up the outputs a bit:"
      ]
    },
    {
      "cell_type": "code",
      "execution_count": null,
      "metadata": {
        "id": "WSffmwPn5kVT"
      },
      "outputs": [],
      "source": [
        "for entity in entities:\n",
        "    print(f\"{entity['word']}: {entity['entity_group']} ({entity['score']:.2f})\")"
      ]
    },
    {
      "cell_type": "markdown",
      "metadata": {
        "id": "xZ7RX6OXDvqg"
      },
      "source": [
        "That's much better! It seems that the model found most of the named entities but was confused about \"Megatron\" andn \"Decepticons\", which are characters in the transformers franchise. This is no surprise since the original dataset probably did not contain many transformer characters. For this reason it makes sense to further fine-tune a model on your on dataset!\n",
        "\n",
        "Now that we've seen an example of text and token classification using Transformers, let's look at an interesting application called **question answering**."
      ]
    },
    {
      "cell_type": "markdown",
      "metadata": {
        "id": "xzqKbiD87A8v",
        "jp-MarkdownHeadingCollapsed": true,
        "tags": []
      },
      "source": [
        "## 4. Question answering"
      ]
    },
    {
      "cell_type": "markdown",
      "metadata": {
        "id": "l--riwHrDvqh"
      },
      "source": [
        "In this task, the model is given a **question** and a **context** and needs to find the answer to the question within the context. This problem can be rephrased as a classification problem: For each token the model needs to predict whether it is the start or the end of the answer. In the end we can extract the answer by looking at the span between the token with the highest start probability and highest end probability:"
      ]
    },
    {
      "cell_type": "markdown",
      "metadata": {
        "id": "R-7QA_cFDvqh"
      },
      "source": [
        "<img src=\"https://github.com/huggingface/workshops/blob/main/nlp-zurich/images/qa_arch.png?raw=1\" alt=\"Alt text that describes the graphic\" title=\"Title text\" width=600>"
      ]
    },
    {
      "cell_type": "markdown",
      "metadata": {
        "id": "NY1ZYoR6Dvqh"
      },
      "source": [
        "You can imagine that this requires quite a bit of pre- and post-processing logic. Good thing that the pipeline takes care of all that! As usual, we load the model by specifying the task in the `pipeline()` function:"
      ]
    },
    {
      "cell_type": "code",
      "execution_count": null,
      "metadata": {
        "id": "0JDtC90lugqX"
      },
      "outputs": [],
      "source": [
        "qa_pipeline = pipeline(\"question-answering\")"
      ]
    },
    {
      "cell_type": "markdown",
      "metadata": {
        "id": "KkQPviRTDvqi"
      },
      "source": [
        "This default model is trained on the famous [SQuAD dataset](https://huggingface.co/datasets/squad). Let's see if we can ask it what the customer wants:"
      ]
    },
    {
      "cell_type": "code",
      "execution_count": null,
      "metadata": {
        "id": "C85OWgOu5coO"
      },
      "outputs": [],
      "source": [
        "question = \"What does the customer want?\"\n",
        "\n",
        "outputs = qa_pipeline(question=question, context=text)\n",
        "outputs"
      ]
    },
    {
      "cell_type": "markdown",
      "metadata": {
        "id": "dZudlnD9Dvqj"
      },
      "source": [
        "Awesome, that sounds about right!"
      ]
    },
    {
      "cell_type": "markdown",
      "metadata": {
        "id": "nXf6qViJ7FNk",
        "jp-MarkdownHeadingCollapsed": true,
        "tags": []
      },
      "source": [
        "## 5. Text summarization"
      ]
    },
    {
      "cell_type": "markdown",
      "metadata": {
        "id": "gOwy0ncrDvqj"
      },
      "source": [
        "Let's see if we can go beyond these natural language understanding tasks (NLU) where BERT excels and delve into the generative domain. Note that generation is much more computationally demanding since we usually generate one token at a time and need to run this several times. An example for how this process works is shown below:"
      ]
    },
    {
      "cell_type": "markdown",
      "metadata": {
        "id": "eFKqI9NRDvqj"
      },
      "source": [
        "<img src=\"https://github.com/huggingface/workshops/blob/main/nlp-zurich/images/gen_steps.png?raw=1\" alt=\"Alt text that describes the graphic\" title=\"Title text\" width=600>"
      ]
    },
    {
      "cell_type": "markdown",
      "metadata": {
        "id": "NUVru-mzDvqk"
      },
      "source": [
        "A popular task involving generation is summarization. Let's see if we can use a transformer to generate a summary for us:"
      ]
    },
    {
      "cell_type": "code",
      "execution_count": null,
      "metadata": {
        "id": "ICsvWI1Pu6BT"
      },
      "outputs": [],
      "source": [
        "summarization_pipeline = pipeline(\"summarization\")"
      ]
    },
    {
      "cell_type": "markdown",
      "metadata": {
        "id": "iC536PrZDvqk"
      },
      "source": [
        "This model is trained was trained on the [CNN/Dailymail dataset](https://huggingface.co/datasets/cnn_dailymail) to summarize news articles."
      ]
    },
    {
      "cell_type": "code",
      "execution_count": null,
      "metadata": {
        "id": "BYjuIjL1vDYP"
      },
      "outputs": [],
      "source": [
        "outputs = summarization_pipeline(text, max_length=45, clean_up_tokenization_spaces=True)\n",
        "print(wrapper.fill(outputs[0]['summary_text']))"
      ]
    },
    {
      "cell_type": "markdown",
      "metadata": {
        "id": "txmfrvK1CP03"
      },
      "source": [
        "That's not too bad! We can see the model was able to get the main gist of the customer feedback and even identified the author as \"Bumblebee\"."
      ]
    },
    {
      "cell_type": "markdown",
      "metadata": {
        "id": "COD8oN7d7Ic4",
        "jp-MarkdownHeadingCollapsed": true,
        "tags": []
      },
      "source": [
        "## 6. Translation"
      ]
    },
    {
      "cell_type": "markdown",
      "metadata": {
        "id": "ioRsVpbHDvql"
      },
      "source": [
        "But what if there is no model in the language of my data? You can still try to translate the text. The [Helsinki NLP team](https://huggingface.co/models?pipeline_tag=translation&sort=downloads&search=Helsinkie-NLP) has provided over 1,000 language pair models for translation 🤯. Here we load one that translates English to German:"
      ]
    },
    {
      "cell_type": "code",
      "execution_count": null,
      "metadata": {
        "id": "cMF1FRfWvYrG"
      },
      "outputs": [],
      "source": [
        "translator = pipeline(\"translation_en_to_de\", model=\"Helsinki-NLP/opus-mt-en-de\")"
      ]
    },
    {
      "cell_type": "markdown",
      "metadata": {
        "id": "s2Ge5c10Dvqm"
      },
      "source": [
        "Let's translate the our text to German:"
      ]
    },
    {
      "cell_type": "code",
      "execution_count": null,
      "metadata": {
        "id": "Aijh7j_Gvyeu"
      },
      "outputs": [],
      "source": [
        "outputs = translator(text, clean_up_tokenization_spaces=True, min_length=100)\n",
        "print(wrapper.fill(outputs[0]['translation_text']))"
      ]
    },
    {
      "cell_type": "markdown",
      "metadata": {
        "id": "q-lP6QUQDvqm"
      },
      "source": [
        "We can see that the text is clearly not perfectly translated, but the core meaning stays the same. Another cool application of translation models is data augmentation via backtranslation!"
      ]
    },
    {
      "cell_type": "markdown",
      "metadata": {
        "id": "8-miZB1m8YVM",
        "jp-MarkdownHeadingCollapsed": true,
        "tags": []
      },
      "source": [
        "## 7. Zero-shot classification"
      ]
    },
    {
      "cell_type": "markdown",
      "metadata": {
        "id": "XaBDCa0PDvqn"
      },
      "source": [
        "As a last example let's have a look at a cool application showing the versatility of transformers: zero-shot classification. In zero-shot classification the model receives a text and a list of candidate labels and determines which labels are compatible with the text. Instead of having fixed classes this allows for flexible classification without any labelled data! Usually this is a good first baseline!"
      ]
    },
    {
      "cell_type": "code",
      "execution_count": null,
      "metadata": {
        "id": "6HURf6JS8Xko"
      },
      "outputs": [],
      "source": [
        "zero_shot_classifier = pipeline(\"zero-shot-classification\",\n",
        "                                model=\"vicgalle/xlm-roberta-large-xnli-anli\")"
      ]
    },
    {
      "cell_type": "markdown",
      "metadata": {
        "id": "7z01wJrvDvqn"
      },
      "source": [
        "Let's have a look at an example:"
      ]
    },
    {
      "cell_type": "code",
      "execution_count": null,
      "metadata": {
        "id": "SjMXSBx5897m"
      },
      "outputs": [],
      "source": [
        "text = 'Dieser Tutorial ist großartig! Ich hoffe, dass jemand von Hugging Face meine Universität besuchen wird :)'\n",
        "classes = ['Treffen', 'Arbeit', 'Digital', 'Reisen']"
      ]
    },
    {
      "cell_type": "code",
      "execution_count": null,
      "metadata": {
        "id": "l6U71HAL9oBG"
      },
      "outputs": [],
      "source": [
        "zero_shot_classifier(text, classes, multi_label=True)"
      ]
    },
    {
      "cell_type": "markdown",
      "metadata": {
        "id": "LGwLNx0PDvqo"
      },
      "source": [
        "This seems to have worked really well on this short example. Naturally, for longer and more domain specific examples this approach might suffer."
      ]
    },
    {
      "cell_type": "markdown",
      "metadata": {
        "id": "WGnElSPY7ta7",
        "tags": []
      },
      "source": [
        "## 8. Going beyond text"
      ]
    },
    {
      "cell_type": "markdown",
      "metadata": {
        "id": "F-jmgxDyDvqo"
      },
      "source": [
        "As mentioned at the start of this tutorial, Transformers can also be used for domains other than NLP! For these domains, there are many more pipelines that you can experiment with. Look at the following list for an overview:"
      ]
    },
    {
      "cell_type": "code",
      "execution_count": null,
      "metadata": {
        "id": "m28XOn4t5YlM"
      },
      "outputs": [],
      "source": [
        "from transformers import pipelines\n",
        "for task in pipelines.SUPPORTED_TASKS:\n",
        "    print(task)"
      ]
    },
    {
      "cell_type": "markdown",
      "metadata": {
        "id": "V0Fl9HbdDvqp"
      },
      "source": [
        "Let's have a look at an application involving images!"
      ]
    },
    {
      "cell_type": "markdown",
      "metadata": {
        "id": "MElFihO0Dvqp",
        "tags": []
      },
      "source": [
        "### Computer vision"
      ]
    },
    {
      "cell_type": "markdown",
      "metadata": {
        "id": "5JartRCsDvqq"
      },
      "source": [
        "Recently, transformer models have also entered computer vision. Check out the DETR model on the [Hub](https://huggingface.co/facebook/detr-resnet-101-dc5):"
      ]
    },
    {
      "cell_type": "markdown",
      "metadata": {
        "id": "5wwkfybM7MZU"
      },
      "source": [
        "<img src=\"https://github.com/huggingface/workshops/blob/main/nlp-zurich/images/object_detection.png?raw=1\" alt=\"Alt text that describes the graphic\" title=\"Title text\" width=400>"
      ]
    },
    {
      "cell_type": "markdown",
      "metadata": {
        "id": "ObzbVHFnL0hv",
        "tags": []
      },
      "source": [
        "### Audio"
      ]
    },
    {
      "cell_type": "markdown",
      "metadata": {
        "id": "aSdPHGNxDvqr"
      },
      "source": [
        "Another promising area is audio processing. Especially Speech2Text there have been some promising advancements recently. See for example the [wav2vec2 model](https://huggingface.co/facebook/wav2vec2-base-960h):"
      ]
    },
    {
      "cell_type": "markdown",
      "metadata": {
        "id": "J_bZrjQUDvqr"
      },
      "source": [
        "<img src=\"https://github.com/huggingface/workshops/blob/main/nlp-zurich/images/speech2text.png?raw=1\" alt=\"Alt text that describes the graphic\" title=\"Title text\" width=400>"
      ]
    },
    {
      "cell_type": "markdown",
      "metadata": {
        "id": "nZtrfoydDvqr",
        "tags": []
      },
      "source": [
        "### Table QA"
      ]
    },
    {
      "cell_type": "markdown",
      "metadata": {
        "id": "L4wR2N0RDvqr"
      },
      "source": [
        "Finally, a lot of real world data is still in form of tables. Being able to query tables is very useful and with [TAPAS](https://huggingface.co/google/tapas-large-finetuned-wtq) you can do tabular question-answering:"
      ]
    },
    {
      "cell_type": "markdown",
      "metadata": {
        "id": "rfmSOzcNDvqr"
      },
      "source": [
        "<img src=\"https://github.com/huggingface/workshops/blob/main/nlp-zurich/images/tapas.png?raw=1\" alt=\"Alt text that describes the graphic\" title=\"Title text\" width=400>"
      ]
    },
    {
      "cell_type": "markdown",
      "metadata": {
        "id": "dXHCk79KDvqs"
      },
      "source": [
        "## 9. Where to next?"
      ]
    },
    {
      "cell_type": "markdown",
      "metadata": {
        "id": "E5WWCw_jmpGg"
      },
      "source": [
        "Hopefully this tutorial has given you a taste of what Transformers can do and you're now excited to learn more! Here's a few resources you can use to dive deeper into the topic and the Hugging Face ecosystem:\n",
        "\n",
        "🤗 **A Tour through the Hugging Face Hub**\n",
        "\n",
        "In this tutorial, you get to:\n",
        "- Explore the over 30,000 models shared in the Hub.\n",
        "- Learn efficient ways to find the right model and datasets for your own task.\n",
        "- Learn how to contribute and work collaboratively in your ML workflows\n",
        "\n",
        "***Duration: 20-40 minutes***\n",
        "\n",
        "👉 [click here to access the tutorial](https://www.notion.so/Workshop-A-Tour-through-the-Hugging-Face-Hub-2098e4bae9ba4288857e85c87ff1c851)\n",
        "\n",
        "✨ **Build and Host Machine Learning Demos with Gradio & Hugging Face**\n",
        "\n",
        "In this tutorial, you get to:\n",
        "- Explore ML demos created by the community.\n",
        "- Build a quick demo for your machine learning model in Python using the `gradio` library\n",
        "- Host the demos for free with Hugging Face Spaces\n",
        "- Add your demo to the Hugging Face org for your class or conference\n",
        "\n",
        "***Duration: 20-40 minutes***\n",
        "\n",
        "👉 [click here to access the tutorial](https://colab.research.google.com/github.com/huggingface/education-toolkit/tree/main/02_ml-demos-with-gradio.ipynb)\n",
        "\n",
        "🎓 **The Hugging Face Course**\n",
        "\n",
        "This course teaches you about applying Transformers to various tasks in natural language processing and beyond. Along the way, you'll learn how to use the Hugging Face ecosystem — 🤗 Transformers, 🤗 Datasets, 🤗 Tokenizers, and 🤗 Accelerate — as well as the Hugging Face Hub. It's completely free too!"
      ]
    },
    {
      "cell_type": "code",
      "execution_count": null,
      "metadata": {
        "id": "m47Kc-rYoY9o"
      },
      "outputs": [],
      "source": [
        "YouTubeVideo('00GKzGyWFEs')"
      ]
    }
  ],
  "metadata": {
    "accelerator": "GPU",
    "colab": {
      "collapsed_sections": [
        "Vvuf8_cTFYWd",
        "lJJQ_HFuDvqV",
        "mXAlr2u76bkg",
        "M0c9r_ZC66rC",
        "xzqKbiD87A8v",
        "nXf6qViJ7FNk",
        "COD8oN7d7Ic4",
        "8-miZB1m8YVM",
        "WGnElSPY7ta7",
        "MElFihO0Dvqp",
        "ObzbVHFnL0hv",
        "nZtrfoydDvqr",
        "dXHCk79KDvqs"
      ],
      "name": "Getting Started with Transformers.ipynb",
      "provenance": []
    },
    "kernelspec": {
      "display_name": "Python 3 (ipykernel)",
      "language": "python",
      "name": "python3"
    },
    "language_info": {
      "codemirror_mode": {
        "name": "ipython",
        "version": 3
      },
      "file_extension": ".py",
      "mimetype": "text/x-python",
      "name": "python",
      "nbconvert_exporter": "python",
      "pygments_lexer": "ipython3",
      "version": "3.8.10"
    }
  },
  "nbformat": 4,
  "nbformat_minor": 0
}