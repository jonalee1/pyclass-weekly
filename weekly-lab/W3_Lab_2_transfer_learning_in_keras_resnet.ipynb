{
  "cells": [
    {
      "cell_type": "markdown",
      "metadata": {
        "id": "0t0_p3C5dHWV"
      },
      "source": [
        "# Transfer Learning in Keras\n",
        "\n",
        "In this notebook, we'll cover how to load a pre-trained model (in this case, VGGNet19) and finetune it for a new task: detecting hot dogs."
      ]
    },
    {
      "cell_type": "markdown",
      "metadata": {
        "id": "XAEHihuJdHWW"
      },
      "source": [
        "#### Load dependencies"
      ]
    },
    {
      "cell_type": "code",
      "execution_count": 2,
      "metadata": {
        "id": "pGBwpT8pdHWX"
      },
      "outputs": [],
      "source": [
        "from keras.applications.resnet50 import ResNet50\n",
        "from keras.models import Sequential\n",
        "from keras.layers import Dense, Dropout, Flatten\n",
        "from keras.preprocessing.image import ImageDataGenerator\n",
        "from keras.callbacks import TensorBoard"
      ]
    },
    {
      "cell_type": "markdown",
      "metadata": {
        "id": "OFWgP3DsdHWX"
      },
      "source": [
        "#### Load the pre-trained RESNET-50 model"
      ]
    },
    {
      "cell_type": "code",
      "execution_count": 3,
      "metadata": {
        "collapsed": true,
        "id": "ahYh9-3qdHWY"
      },
      "outputs": [],
      "source": [
        "rnet50 = ResNet50(include_top=False,\n",
        "                  weights='imagenet',\n",
        "                  input_shape=(224,224,3),\n",
        "                  pooling=None)"
      ]
    },
    {
      "cell_type": "markdown",
      "metadata": {
        "id": "Ou5yCh22dHWY"
      },
      "source": [
        "#### Freeze all the layers in the base VGGNet19 model"
      ]
    },
    {
      "cell_type": "code",
      "execution_count": 4,
      "metadata": {
        "collapsed": true,
        "id": "GE7RkrzqdHWY"
      },
      "outputs": [],
      "source": [
        "for layer in rnet50.layers:\n",
        "    layer.trainable = False"
      ]
    },
    {
      "cell_type": "markdown",
      "metadata": {
        "id": "X_nbQZeUdHWY"
      },
      "source": [
        "#### Add custom classification layers"
      ]
    },
    {
      "cell_type": "code",
      "execution_count": 5,
      "metadata": {
        "collapsed": true,
        "id": "1lPpfmqddHWY"
      },
      "outputs": [],
      "source": [
        "# Instantiate the sequential model and add the VGG19 model:\n",
        "model = Sequential()\n",
        "model.add(rnet50)\n",
        "\n",
        "# Add the custom layers atop the VGG19 model:\n",
        "model.add(Flatten(name='flattened'))\n",
        "model.add(Dropout(0.5, name='dropout'))\n",
        "model.add(Dense(2, activation='softmax', name='predictions'))"
      ]
    },
    {
      "cell_type": "markdown",
      "metadata": {
        "id": "SMl1LgP3dHWY"
      },
      "source": [
        "#### Compile the model for training"
      ]
    },
    {
      "cell_type": "code",
      "execution_count": 6,
      "metadata": {
        "collapsed": true,
        "id": "jiK1I7sudHWZ"
      },
      "outputs": [],
      "source": [
        "model.compile(optimizer='adam', loss='categorical_crossentropy', metrics=['accuracy'])"
      ]
    },
    {
      "cell_type": "markdown",
      "metadata": {
        "id": "BKIVV74ZdHWZ"
      },
      "source": [
        "#### Prepare the data for training"
      ]
    },
    {
      "cell_type": "markdown",
      "metadata": {
        "id": "1wPfrq3-dHWZ"
      },
      "source": [
        "The dataset is available for download [here](https://www.kaggle.com/dansbecker/hot-dog-not-hot-dog/home).  \n",
        "Instead of downloading and copying the data to Google Drive, we can use API to download any data from Kaggle."
      ]
    },
    {
      "cell_type": "code",
      "execution_count": null,
      "metadata": {
        "id": "-VJbWOUY5Fo8"
      },
      "outputs": [],
      "source": [
        "# [1] sign in/register to Kaggle account\n",
        "# [2] from account settings, API \"create new token\" and download kaggle.json\n",
        "# [3] upload kaggle.json to colab sample_data"
      ]
    },
    {
      "cell_type": "code",
      "execution_count": 10,
      "metadata": {
        "id": "6JuZBFw7fUHW"
      },
      "outputs": [],
      "source": [
        "import os\n",
        "os.environ['KAGGLE_CONFIG_DIR'] = \"D:\\My Teaching\\JLDA\\MDA 504_F23\\Python-Class\\kaggle\\kaggle.json\""
      ]
    },
    {
      "cell_type": "code",
      "execution_count": 13,
      "metadata": {
        "collapsed": true,
        "id": "2WOPxidkdHWZ"
      },
      "outputs": [],
      "source": [
        "# Instantiate two image generator classes:\n",
        "train_datagen = ImageDataGenerator(\n",
        "    rescale=1.0/255,\n",
        "    data_format='channels_last',\n",
        "    rotation_range=30,\n",
        "    horizontal_flip=True,\n",
        "    fill_mode='reflect')\n",
        "\n",
        "valid_datagen = ImageDataGenerator(\n",
        "    rescale=1.0/255,\n",
        "    data_format='channels_last')"
      ]
    },
    {
      "cell_type": "code",
      "execution_count": 14,
      "metadata": {
        "collapsed": true,
        "id": "ZszoCPb0dHWZ"
      },
      "outputs": [],
      "source": [
        "# Define the batch size:\n",
        "batch_size=32"
      ]
    },
    {
      "cell_type": "code",
      "execution_count": 15,
      "metadata": {
        "id": "41TTnsondHWa"
      },
      "outputs": [
        {
          "name": "stdout",
          "output_type": "stream",
          "text": [
            "Found 498 images belonging to 2 classes.\n",
            "Found 500 images belonging to 2 classes.\n"
          ]
        }
      ],
      "source": [
        "# Define the train and validation generators:\n",
        "train_generator = train_datagen.flow_from_directory(\n",
        "    directory='./kaggle/train/',\n",
        "    target_size=(224, 224),\n",
        "    classes=['hot_dog','not_hot_dog'],\n",
        "    class_mode='categorical',\n",
        "    batch_size=batch_size,\n",
        "    shuffle=True,\n",
        "    seed=42)\n",
        "\n",
        "valid_generator = valid_datagen.flow_from_directory(\n",
        "    directory='./kaggle/test',\n",
        "    target_size=(224, 224),\n",
        "    classes=['hot_dog','not_hot_dog'],\n",
        "    class_mode='categorical',\n",
        "    batch_size=batch_size,\n",
        "    shuffle=True,\n",
        "    seed=42)"
      ]
    },
    {
      "cell_type": "code",
      "execution_count": 16,
      "metadata": {
        "id": "oRHhYhuLz-o9"
      },
      "outputs": [],
      "source": [
        "tensorboard = TensorBoard('logs/transfer')"
      ]
    },
    {
      "cell_type": "code",
      "execution_count": 17,
      "metadata": {
        "id": "1c2UzmSMdHWa"
      },
      "outputs": [
        {
          "name": "stdout",
          "output_type": "stream",
          "text": [
            "15/15 [==============================] - 35s 2s/step - loss: 1.1762 - accuracy: 0.5150 - val_loss: 0.8673 - val_accuracy: 0.5396\n",
            "Epoch 3/20\n",
            "15/15 [==============================] - 35s 2s/step - loss: 1.0812 - accuracy: 0.5365 - val_loss: 0.6814 - val_accuracy: 0.5854\n",
            "Epoch 4/20\n",
            "15/15 [==============================] - 33s 2s/step - loss: 1.0368 - accuracy: 0.5343 - val_loss: 0.9645 - val_accuracy: 0.5146\n",
            "Epoch 5/20\n",
            "15/15 [==============================] - 33s 2s/step - loss: 1.2067 - accuracy: 0.5258 - val_loss: 1.2695 - val_accuracy: 0.5271\n",
            "Epoch 6/20\n",
            "15/15 [==============================] - 35s 2s/step - loss: 1.3985 - accuracy: 0.5193 - val_loss: 0.8195 - val_accuracy: 0.5479\n",
            "Epoch 7/20\n",
            "15/15 [==============================] - 33s 2s/step - loss: 1.6214 - accuracy: 0.5279 - val_loss: 1.6891 - val_accuracy: 0.5000\n",
            "Epoch 8/20\n",
            "15/15 [==============================] - 33s 2s/step - loss: 1.3115 - accuracy: 0.5429 - val_loss: 0.7416 - val_accuracy: 0.5542\n",
            "Epoch 9/20\n",
            "15/15 [==============================] - 36s 2s/step - loss: 1.7354 - accuracy: 0.5107 - val_loss: 1.8108 - val_accuracy: 0.5146\n",
            "Epoch 10/20\n",
            "15/15 [==============================] - 35s 2s/step - loss: 1.2391 - accuracy: 0.5687 - val_loss: 0.8844 - val_accuracy: 0.5854\n",
            "Epoch 11/20\n",
            "14/15 [===========================>..] - ETA: 1s - loss: 1.0875 - accuracy: 0.5576"
          ]
        }
      ],
      "source": [
        "model.fit(train_generator,\n",
        "          steps_per_epoch=15,\n",
        "          epochs=20,\n",
        "          validation_data=valid_generator,\n",
        "          validation_steps=15,\n",
        "          callbacks=[tensorboard])"
      ]
    },
    {
      "cell_type": "code",
      "execution_count": null,
      "metadata": {
        "id": "KcZY_Rr40MoG"
      },
      "outputs": [],
      "source": [
        "%reload_ext tensorboard\n",
        "%tensorboard --logdir logs/transfer"
      ]
    }
  ],
  "metadata": {
    "accelerator": "GPU",
    "colab": {
      "gpuType": "T4",
      "provenance": []
    },
    "kernelspec": {
      "display_name": "Python 3",
      "name": "python3"
    },
    "language_info": {
      "codemirror_mode": {
        "name": "ipython",
        "version": 3
      },
      "file_extension": ".py",
      "mimetype": "text/x-python",
      "name": "python",
      "nbconvert_exporter": "python",
      "pygments_lexer": "ipython3",
      "version": "3.10.0"
    }
  },
  "nbformat": 4,
  "nbformat_minor": 0
}
