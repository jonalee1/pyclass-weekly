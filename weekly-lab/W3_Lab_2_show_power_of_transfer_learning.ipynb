{
  "cells": [
    {
      "cell_type": "markdown",
      "metadata": {
        "id": "HkpCCo3hAwZX"
      },
      "source": [
        "## Transfer Learning\n",
        "\n",
        "This notebook trains a visual recognition model using transfer learning that can classify between HotDogs and NotHotDogs.\n",
        "\n",
        "The training data is taken from Kaggle [link](https://www.kaggle.com/datasets/dansbecker/hot-dog-not-hot-dog/)"
      ]
    },
    {
      "cell_type": "markdown",
      "metadata": {
        "id": "cgymoNeJAaQ3"
      },
      "source": [
        "#### Import Data (hot-dog-not-hot-dog) from Kaggle"
      ]
    },
    {
      "cell_type": "code",
      "execution_count": null,
      "metadata": {
        "id": "hJzGapSC1fM0"
      },
      "outputs": [],
      "source": [
        "import os\n",
        "os.environ['KAGGLE_CONFIG_DIR'] = '/content/'"
      ]
    },
    {
      "cell_type": "code",
      "execution_count": null,
      "metadata": {
        "id": "tZ2CMFlX1md4"
      },
      "outputs": [],
      "source": [
        "!kaggle datasets download -d dansbecker/hot-dog-not-hot-dog\n",
        "!unzip \\*.zip\n",
        "!rm *.zip"
      ]
    },
    {
      "cell_type": "code",
      "execution_count": null,
      "metadata": {
        "execution": {
          "iopub.execute_input": "2023-10-06T14:40:21.774833Z",
          "iopub.status.busy": "2023-10-06T14:40:21.774275Z",
          "iopub.status.idle": "2023-10-06T14:40:21.794862Z",
          "shell.execute_reply": "2023-10-06T14:40:21.793628Z",
          "shell.execute_reply.started": "2023-10-06T14:40:21.774804Z"
        },
        "id": "NGkPpTB51Ukw",
        "trusted": true
      },
      "outputs": [],
      "source": [
        "data_dir = \"/content/\"\n",
        "train_dir = os.path.join(data_dir, \"train\")\n",
        "test_dir = os.path.join(data_dir, \"test\")"
      ]
    },
    {
      "cell_type": "code",
      "execution_count": null,
      "metadata": {
        "execution": {
          "iopub.execute_input": "2023-10-06T14:40:05.514832Z",
          "iopub.status.busy": "2023-10-06T14:40:05.514494Z",
          "iopub.status.idle": "2023-10-06T14:40:19.956363Z",
          "shell.execute_reply": "2023-10-06T14:40:19.955345Z",
          "shell.execute_reply.started": "2023-10-06T14:40:05.514805Z"
        },
        "id": "6cehLUMD1Ukw",
        "trusted": true
      },
      "outputs": [],
      "source": [
        "import tensorflow as tf\n",
        "import keras\n",
        "from keras import layers\n",
        "from keras.preprocessing.image import ImageDataGenerator\n",
        "import matplotlib.pyplot as plt\n",
        "import matplotlib.image as mpimg"
      ]
    },
    {
      "cell_type": "markdown",
      "metadata": {
        "id": "tk9EqCNC1Ukv"
      },
      "source": [
        "#### First, train a simple CNN model.  As expected, the accuracy is quite low due to very few examples used for training.\n",
        "\n",
        "#### Next, use transfer learning with Imagenet pre-trained model. After 15 epochs of training the model has around 95% of in-sample accuracy and 93%+ out-of-sample accuracy."
      ]
    },
    {
      "cell_type": "markdown",
      "metadata": {
        "id": "VvGo7PNV1Ukx"
      },
      "source": [
        "We use the train set to train a simple convolutional neural network (CNN)."
      ]
    },
    {
      "cell_type": "code",
      "execution_count": null,
      "metadata": {
        "colab": {
          "base_uri": "https://localhost:8080/"
        },
        "execution": {
          "iopub.execute_input": "2023-10-06T14:40:33.198941Z",
          "iopub.status.busy": "2023-10-06T14:40:33.198592Z",
          "iopub.status.idle": "2023-10-06T14:40:33.273851Z",
          "shell.execute_reply": "2023-10-06T14:40:33.273007Z",
          "shell.execute_reply.started": "2023-10-06T14:40:33.198912Z"
        },
        "id": "P3jsvLDf1Ukx",
        "outputId": "7def123b-742e-4e79-d2ed-19a63a5ce9e8",
        "trusted": true
      },
      "outputs": [],
      "source": [
        "# Automatically create sets with labels\n",
        "train_gen = ImageDataGenerator(\n",
        "            rescale=1./255,\n",
        "            rotation_range=40,\n",
        "            width_shift_range=0.2,\n",
        "            height_shift_range=0.2,\n",
        "            shear_range=0.2,\n",
        "            zoom_range=0.2,\n",
        "            horizontal_flip=True,\n",
        "            fill_mode='nearest')\n",
        "\n",
        "test_gen = ImageDataGenerator(rescale = 1.0/255.)\n",
        "\n",
        "train_datagen = train_gen.flow_from_directory(train_dir, batch_size=20,\n",
        "                                              class_mode='binary',\n",
        "                                              target_size=(300, 300))\n",
        "test_datagen =  test_gen.flow_from_directory(test_dir, batch_size=20,\n",
        "                                             class_mode  = 'binary',\n",
        "                                             target_size=(300, 300))"
      ]
    },
    {
      "cell_type": "markdown",
      "metadata": {},
      "source": [
        "The `ImageDataGenerator` class is used to generate batches of tensor image data with real-time data augmentation. This means it can automatically create new variations of your images, which can improve your model if you don't have much data.\n",
        "\n",
        "Here's what each parameter does:\n",
        "\n",
        "- `rescale`: This is a value by which we will multiply the data before any other processing. Our original images consist of RGB coefficients in the 0-255 range, but these values would be too high for our models to process, so we target values between 0 and 1 instead by scaling with a 1/255 factor.\n",
        "\n",
        "- `rotation_range`: This is a value in degrees (0-180), a range within which to randomly rotate pictures.\n",
        "\n",
        "- `width_shift` and `height_shift`: These are ranges (as a fraction of total width or height) within which to randomly translate pictures vertically or horizontally.\n",
        "\n",
        "- `shear_range`: Shear Intensity (Shear angle in counter-clockwise direction in degrees)\n",
        "\n",
        "- `zoom_range`: This is a range for randomly zooming inside pictures.\n",
        "\n",
        "- `horizontal_flip`: This is for randomly flipping half of the images horizontally -- relevant when there are no assumptions of horizontal asymmetry (e.g. real-world pictures).\n",
        "\n",
        "- `fill_mode`: This is the strategy used for filling in newly created pixels, which can appear after a rotation or a width/height shift.\n",
        "\n",
        "Then, `flow_from_directory` is called on these `ImageDataGenerator` instances: `train_gen` and `test_gen`. This method loads images from the disk, applies rescaling, and resizes the images into the required dimensions.\n",
        "\n",
        "- `train_dir` and `test_dir`: These are the directories where the training and testing data are located.\n",
        "\n",
        "- `batch_size`: The size of the batches of data (default: 32).\n",
        "\n",
        "- `class_mode`: Determines the type of label arrays that are returned. 'binary' means that the labels (two class problem) will be 1D binary labels.\n",
        "\n",
        "- `target_size`: The dimensions to which all images found will be resized. In this case, it is (300, 300)."
      ]
    },
    {
      "cell_type": "code",
      "execution_count": null,
      "metadata": {
        "colab": {
          "base_uri": "https://localhost:8080/"
        },
        "execution": {
          "iopub.execute_input": "2023-10-06T14:40:35.876738Z",
          "iopub.status.busy": "2023-10-06T14:40:35.875946Z",
          "iopub.status.idle": "2023-10-06T14:40:42.629831Z",
          "shell.execute_reply": "2023-10-06T14:40:42.629039Z",
          "shell.execute_reply.started": "2023-10-06T14:40:35.876704Z"
        },
        "id": "KzxqaKUW1Ukx",
        "outputId": "7e1c8b18-33ae-4d7a-ee30-bcac14e0ba9c",
        "trusted": true
      },
      "outputs": [],
      "source": [
        "# CNN with simple architecture\n",
        "model = keras.Sequential([\n",
        "        layers.Conv2D(32, (3,3), input_shape=(300,300,3), activation='relu'),\n",
        "        layers.MaxPool2D(2,2),\n",
        "        layers.Conv2D(64, (3,3), activation='relu'),\n",
        "        layers.MaxPool2D(2,2),\n",
        "        layers.Conv2D(128, (3,3), activation='relu'),\n",
        "        layers.MaxPool2D(2,2),\n",
        "        layers.Flatten(),\n",
        "        layers.Dense(1024, activation='relu'),\n",
        "        layers.Dense(1, activation='sigmoid')\n",
        "])\n",
        "\n",
        "model.summary()"
      ]
    },
    {
      "cell_type": "code",
      "execution_count": null,
      "metadata": {
        "execution": {
          "iopub.execute_input": "2023-10-06T14:40:48.289184Z",
          "iopub.status.busy": "2023-10-06T14:40:48.288817Z",
          "iopub.status.idle": "2023-10-06T14:40:48.302088Z",
          "shell.execute_reply": "2023-10-06T14:40:48.301107Z",
          "shell.execute_reply.started": "2023-10-06T14:40:48.289154Z"
        },
        "id": "0QJyWS5m1Ukx",
        "trusted": true
      },
      "outputs": [],
      "source": [
        "model.compile(optimizer=keras.optimizers.Adam(learning_rate=0.001),\n",
        "              loss='binary_crossentropy',\n",
        "              metrics = ['accuracy'])"
      ]
    },
    {
      "cell_type": "code",
      "execution_count": null,
      "metadata": {
        "colab": {
          "base_uri": "https://localhost:8080/"
        },
        "execution": {
          "iopub.execute_input": "2023-10-06T14:40:51.423461Z",
          "iopub.status.busy": "2023-10-06T14:40:51.422766Z"
        },
        "id": "pjANJxN81Ukx",
        "outputId": "cddc7109-fbae-4239-e22c-2ddd6fba8cde",
        "trusted": true
      },
      "outputs": [],
      "source": [
        "history = model.fit(\n",
        "            train_datagen,\n",
        "            epochs=15,\n",
        "            validation_data=test_datagen,\n",
        "            verbose=2\n",
        "            )"
      ]
    },
    {
      "cell_type": "markdown",
      "metadata": {
        "id": "awLAfYLi1Uky"
      },
      "source": [
        "Examine accuracy and loss as a function of epochs."
      ]
    },
    {
      "cell_type": "code",
      "execution_count": null,
      "metadata": {
        "colab": {
          "base_uri": "https://localhost:8080/"
        },
        "id": "Qon7jyjX9TZ3",
        "outputId": "2e80b064-0afc-474e-f900-0fd7b82be087"
      },
      "outputs": [],
      "source": [
        "# Evaluate on the test set\n",
        "test_loss, test_acc = model.evaluate(test_datagen, verbose=2)\n",
        "print('Test accuracy:', test_acc)"
      ]
    },
    {
      "cell_type": "markdown",
      "metadata": {
        "id": "4z7k_wdo1Uky"
      },
      "source": [
        "# Transfer learning"
      ]
    },
    {
      "cell_type": "markdown",
      "metadata": {
        "id": "SktH7-CR1Uky"
      },
      "source": [
        "Next, we use Imagenet pre-trained CNN model for transfer learning."
      ]
    },
    {
      "cell_type": "code",
      "execution_count": null,
      "metadata": {
        "colab": {
          "base_uri": "https://localhost:8080/"
        },
        "id": "QP_Ft-h31Uky",
        "outputId": "39c43cb1-619e-4b6f-b8c8-72824399b0ba"
      },
      "outputs": [],
      "source": [
        "# Import Imagenet pretrained model\n",
        "base_model = keras.applications.Xception(\n",
        "    weights='imagenet',\n",
        "    input_shape=(300, 300, 3),\n",
        "    include_top=False)"
      ]
    },
    {
      "cell_type": "code",
      "execution_count": null,
      "metadata": {
        "id": "EHbVXcXW1Uky"
      },
      "outputs": [],
      "source": [
        "# Freeze the model\n",
        "base_model.trainable = False"
      ]
    },
    {
      "cell_type": "code",
      "execution_count": null,
      "metadata": {
        "id": "9g_F6ELR1Uky"
      },
      "outputs": [],
      "source": [
        "# Add layers\n",
        "\n",
        "inputs = keras.Input(shape=(300, 300, 3))\n",
        "\n",
        "# Building on Xception\n",
        "x = base_model(inputs, training=False)\n",
        "\n",
        "# Convert features of shape `base_model.output_shape[1:]` to vectors\n",
        "x = keras.layers.GlobalAveragePooling2D()(x)\n",
        "\n",
        "# A Dense classifier with a single unit (binary classification)\n",
        "outputs = keras.layers.Dense(1, activation = 'sigmoid')(x)\n",
        "\n",
        "model = keras.Model(inputs, outputs)"
      ]
    },
    {
      "cell_type": "code",
      "execution_count": null,
      "metadata": {
        "colab": {
          "base_uri": "https://localhost:8080/"
        },
        "id": "VJ7TlRlV1Ukz",
        "outputId": "d1667061-7b6a-4b66-fe82-be69519658ac"
      },
      "outputs": [],
      "source": [
        "model.summary()"
      ]
    },
    {
      "cell_type": "code",
      "execution_count": null,
      "metadata": {
        "id": "gTcQcBCE-ptc"
      },
      "outputs": [],
      "source": [
        "model.compile(optimizer=keras.optimizers.Adam(learning_rate=0.001),\n",
        "              loss='binary_crossentropy',\n",
        "              metrics = ['accuracy'])"
      ]
    },
    {
      "cell_type": "code",
      "execution_count": null,
      "metadata": {
        "colab": {
          "base_uri": "https://localhost:8080/"
        },
        "id": "YNPZ2akA1Ukz",
        "outputId": "5c244927-0aa0-44ac-b6d2-674f103c4a53"
      },
      "outputs": [],
      "source": [
        "history = model.fit(train_datagen, epochs=15, validation_data=test_datagen)"
      ]
    },
    {
      "cell_type": "code",
      "execution_count": null,
      "metadata": {
        "colab": {
          "base_uri": "https://localhost:8080/"
        },
        "id": "S6mT7Lk6_ndB",
        "outputId": "9d866baf-1065-4a54-bce4-fad09f9e43d9"
      },
      "outputs": [],
      "source": [
        "# Evaluate on the test set\n",
        "test_loss, test_acc = model.evaluate(test_datagen, verbose=2)\n",
        "print('Test accuracy:', test_acc)"
      ]
    },
    {
      "cell_type": "markdown",
      "metadata": {
        "id": "k-XIQ0ff1Ukz"
      },
      "source": [
        "You see the power of transfer learning!"
      ]
    }
  ],
  "metadata": {
    "accelerator": "GPU",
    "colab": {
      "gpuType": "V100",
      "provenance": []
    },
    "kaggle": {
      "accelerator": "nvidiaTeslaT4",
      "dataSources": [
        {
          "datasetId": 8552,
          "sourceId": 57440,
          "sourceType": "datasetVersion"
        }
      ],
      "dockerImageVersionId": 30558,
      "isGpuEnabled": true,
      "isInternetEnabled": false,
      "language": "python",
      "sourceType": "notebook"
    },
    "kernelspec": {
      "display_name": "Python 3",
      "name": "python3"
    },
    "language_info": {
      "codemirror_mode": {
        "name": "ipython",
        "version": 3
      },
      "file_extension": ".py",
      "mimetype": "text/x-python",
      "name": "python",
      "nbconvert_exporter": "python",
      "pygments_lexer": "ipython3",
      "version": "3.6.4"
    }
  },
  "nbformat": 4,
  "nbformat_minor": 0
}
