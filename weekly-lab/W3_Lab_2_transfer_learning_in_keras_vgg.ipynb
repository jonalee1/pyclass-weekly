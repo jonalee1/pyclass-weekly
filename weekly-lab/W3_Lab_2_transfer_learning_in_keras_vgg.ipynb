{
  "cells": [
    {
      "cell_type": "markdown",
      "metadata": {
        "id": "0t0_p3C5dHWV"
      },
      "source": [
        "# Transfer Learning in Keras\n",
        "\n",
        "In this notebook, we'll cover how to load a pre-trained model (in this case, VGGNet19) and finetune it for a new task: detecting hot dogs."
      ]
    },
    {
      "cell_type": "markdown",
      "metadata": {
        "id": "XAEHihuJdHWW"
      },
      "source": [
        "#### Load dependencies"
      ]
    },
    {
      "cell_type": "code",
      "execution_count": null,
      "metadata": {
        "id": "pGBwpT8pdHWX"
      },
      "outputs": [],
      "source": [
        "from keras.applications.vgg19 import VGG19\n",
        "from keras.models import Sequential\n",
        "from keras.layers import Dense, Dropout, Flatten\n",
        "from keras.preprocessing.image import ImageDataGenerator\n",
        "from keras.callbacks import TensorBoard"
      ]
    },
    {
      "cell_type": "markdown",
      "metadata": {
        "id": "OFWgP3DsdHWX"
      },
      "source": [
        "#### Load the pre-trained VGG19 model"
      ]
    },
    {
      "cell_type": "code",
      "execution_count": null,
      "metadata": {
        "collapsed": true,
        "id": "ahYh9-3qdHWY"
      },
      "outputs": [],
      "source": [
        "vgg19 = VGG19(include_top=False,\n",
        "              weights='imagenet',\n",
        "              input_shape=(224,224,3),\n",
        "              pooling=None)"
      ]
    },
    {
      "cell_type": "markdown",
      "metadata": {
        "id": "Ou5yCh22dHWY"
      },
      "source": [
        "#### Freeze all the layers in the base VGGNet19 model"
      ]
    },
    {
      "cell_type": "code",
      "execution_count": null,
      "metadata": {
        "collapsed": true,
        "id": "GE7RkrzqdHWY"
      },
      "outputs": [],
      "source": [
        "for layer in vgg19.layers:\n",
        "    layer.trainable = False"
      ]
    },
    {
      "cell_type": "markdown",
      "metadata": {
        "id": "X_nbQZeUdHWY"
      },
      "source": [
        "#### Add custom classification layers"
      ]
    },
    {
      "cell_type": "code",
      "execution_count": null,
      "metadata": {
        "collapsed": true,
        "id": "1lPpfmqddHWY"
      },
      "outputs": [],
      "source": [
        "# Instantiate the sequential model and add the VGG19 model:\n",
        "model = Sequential()\n",
        "model.add(vgg19)\n",
        "\n",
        "# Add the custom layers atop the VGG19 model:\n",
        "model.add(Flatten(name='flattened'))\n",
        "model.add(Dropout(0.5, name='dropout'))\n",
        "model.add(Dense(2, activation='softmax', name='predictions'))"
      ]
    },
    {
      "cell_type": "markdown",
      "metadata": {
        "id": "SMl1LgP3dHWY"
      },
      "source": [
        "#### Compile the model for training"
      ]
    },
    {
      "cell_type": "code",
      "execution_count": null,
      "metadata": {
        "collapsed": true,
        "id": "jiK1I7sudHWZ"
      },
      "outputs": [],
      "source": [
        "model.compile(optimizer='adam', loss='categorical_crossentropy', metrics=['accuracy'])"
      ]
    },
    {
      "cell_type": "markdown",
      "metadata": {
        "id": "BKIVV74ZdHWZ"
      },
      "source": [
        "#### Prepare the data for training"
      ]
    },
    {
      "cell_type": "markdown",
      "metadata": {
        "id": "1wPfrq3-dHWZ"
      },
      "source": [
        "The dataset is available for download [here](https://www.kaggle.com/dansbecker/hot-dog-not-hot-dog/home).  \n",
        "Instead of downloading and copying the data to Google Drive, we can use API to download any data from Kaggle."
      ]
    },
    {
      "cell_type": "code",
      "execution_count": null,
      "metadata": {
        "id": "-VJbWOUY5Fo8"
      },
      "outputs": [],
      "source": [
        "# [1] sign in/register to Kaggle account\n",
        "# [2] from account settings, API \"create new token\" and download kaggle.json\n",
        "# [3] upload kaggle.json to colab sample_data"
      ]
    },
    {
      "cell_type": "code",
      "execution_count": null,
      "metadata": {
        "id": "6JuZBFw7fUHW"
      },
      "outputs": [],
      "source": [
        "import os\n",
        "os.environ['KAGGLE_CONFIG_DIR'] = '/content/sample_data/'\n",
        "\n",
        "!chmod 600 /content/sample_data/kaggle.json     # optional security measure"
      ]
    },
    {
      "cell_type": "code",
      "execution_count": null,
      "metadata": {
        "id": "U7IXM98Mf1gp"
      },
      "outputs": [],
      "source": [
        "!kaggle datasets download -d dansbecker/hot-dog-not-hot-dog"
      ]
    },
    {
      "cell_type": "code",
      "execution_count": null,
      "metadata": {
        "id": "EpJsjbwOhULP"
      },
      "outputs": [],
      "source": [
        "!unzip \\*.zip"
      ]
    },
    {
      "cell_type": "code",
      "execution_count": null,
      "metadata": {
        "collapsed": true,
        "id": "2WOPxidkdHWZ"
      },
      "outputs": [],
      "source": [
        "# Instantiate two image generator classes:\n",
        "train_datagen = ImageDataGenerator(\n",
        "    rescale=1.0/255,\n",
        "    data_format='channels_last',\n",
        "    rotation_range=30,\n",
        "    horizontal_flip=True,\n",
        "    fill_mode='reflect')\n",
        "\n",
        "valid_datagen = ImageDataGenerator(\n",
        "    rescale=1.0/255,\n",
        "    data_format='channels_last')"
      ]
    },
    {
      "cell_type": "code",
      "execution_count": null,
      "metadata": {
        "collapsed": true,
        "id": "ZszoCPb0dHWZ"
      },
      "outputs": [],
      "source": [
        "# Define the batch size:\n",
        "batch_size=32"
      ]
    },
    {
      "cell_type": "code",
      "execution_count": null,
      "metadata": {
        "id": "41TTnsondHWa"
      },
      "outputs": [],
      "source": [
        "# Define the train and validation generators:\n",
        "train_generator = train_datagen.flow_from_directory(\n",
        "    directory='./train',\n",
        "    target_size=(224, 224),\n",
        "    classes=['hot_dog','not_hot_dog'],\n",
        "    class_mode='categorical',\n",
        "    batch_size=batch_size,\n",
        "    shuffle=True,\n",
        "    seed=42)\n",
        "\n",
        "valid_generator = valid_datagen.flow_from_directory(\n",
        "    directory='./test',\n",
        "    target_size=(224, 224),\n",
        "    classes=['hot_dog','not_hot_dog'],\n",
        "    class_mode='categorical',\n",
        "    batch_size=batch_size,\n",
        "    shuffle=True,\n",
        "    seed=42)"
      ]
    },
    {
      "cell_type": "code",
      "source": [
        "tensorboard = TensorBoard('logs/transfer')"
      ],
      "metadata": {
        "id": "oRHhYhuLz-o9"
      },
      "execution_count": null,
      "outputs": []
    },
    {
      "cell_type": "code",
      "execution_count": null,
      "metadata": {
        "id": "1c2UzmSMdHWa"
      },
      "outputs": [],
      "source": [
        "model.fit(train_generator,\n",
        "          steps_per_epoch=15,\n",
        "          epochs=20,\n",
        "          validation_data=valid_generator,\n",
        "          validation_steps=15,\n",
        "          callbacks=[tensorboard])"
      ]
    },
    {
      "cell_type": "code",
      "source": [
        "%reload_ext tensorboard\n",
        "%tensorboard --logdir logs/transfer"
      ],
      "metadata": {
        "id": "KcZY_Rr40MoG"
      },
      "execution_count": null,
      "outputs": []
    }
  ],
  "metadata": {
    "accelerator": "GPU",
    "colab": {
      "gpuType": "T4",
      "provenance": []
    },
    "kernelspec": {
      "display_name": "Python 3",
      "name": "python3"
    },
    "language_info": {
      "codemirror_mode": {
        "name": "ipython",
        "version": 3
      },
      "file_extension": ".py",
      "mimetype": "text/x-python",
      "name": "python",
      "nbconvert_exporter": "python",
      "pygments_lexer": "ipython3",
      "version": "3.10.0"
    }
  },
  "nbformat": 4,
  "nbformat_minor": 0
}